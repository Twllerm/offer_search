{
 "cells": [
  {
   "cell_type": "code",
   "execution_count": 25,
   "metadata": {
    "collapsed": true
   },
   "outputs": [],
   "source": [
    "import random as rnd\n",
    "import pymorphy2 as pmh\n",
    "\n",
    "import yargy\n",
    "from yargy.tokenizer import MorphTokenizer\n",
    "from yargy import Parser, rule, and_, or_\n",
    "from yargy.predicates import gram, dictionary, custom, true\n",
    "from yargy.pipelines import morph_pipeline\n",
    "\n",
    "import itertools as it\n",
    "import typing as t\n",
    "from overrides import overrides"
   ]
  },
  {
   "cell_type": "code",
   "execution_count": 26,
   "metadata": {},
   "outputs": [],
   "source": [
    "class SimpleTextGenerator:\n",
    "    \"\"\"Simple Text Generator\n",
    "\n",
    "    Simple text generator builds texts just using strings as parts. Not support any formatting or \n",
    "    variants.\n",
    "    \"\"\"\n",
    "    \n",
    "    def __init__(self, parts: t.List[str]) -> None:\n",
    "        \"\"\"Constructor\n",
    "\n",
    "        :param parts: \n",
    "        \"\"\"\n",
    "\n",
    "        self.__parts = parts\n",
    "\n",
    "    def generate(\n",
    "        self,\n",
    "        joiner: t.Callable[[t.Iterable[str]], str] = ' '.join,\n",
    "        filter_: t.Callable[[t.Iterable[str]], bool] = lambda combination: True,\n",
    "    ) -> t.Iterable[str]:\n",
    "        combinations = it.chain.from_iterable((\n",
    "            it.combinations(self.__parts, combination_size)\n",
    "            for combination_size in range(1, len(self.__parts) + 1)\n",
    "        ))\n",
    "\n",
    "        combinations_with_permutations = it.chain.from_iterable((\n",
    "            it.permutations(combination)\n",
    "            for combination in combinations\n",
    "        ))\n",
    "\n",
    "        return (\n",
    "            joiner(combination) \n",
    "            for combination in combinations_with_permutations \n",
    "            if filter_(combination)\n",
    "        )\n",
    "class TextGenerator:    \n",
    "    def __init__(self, components: t.List[t.List[str]]) -> None:\n",
    "        self.__components = components\n",
    "\n",
    "    def generate(\n",
    "        self,\n",
    "        joiner: t.Callable[[t.Iterable[str]], str] = ' '.join,\n",
    "        filter_: t.Callable[[t.Iterable[str]], bool] = lambda combination: True,) -> t.Iterable[str]:\n",
    "        return it.chain.from_iterable((\n",
    "            SimpleTextGenerator(parts).generate(joiner, filter_)\n",
    "            for parts in it.product(*self.__components)\n",
    "        ))"
   ]
  },
  {
   "cell_type": "code",
   "execution_count": 27,
   "metadata": {
    "collapsed": true
   },
   "outputs": [],
   "source": [
    "gen = TextGenerator([\n",
    "    [\"купить\"],\n",
    "    [\"велик\", \"самокат\", \"велосипед\", \"байк\", \"скейт\", \"скейтбоард\"],\n",
    "    [\"от 20к\", \"от 13 тыс\", \"от 14 тысяч\"],\n",
    "    [\"до 40к\", \"до 56 тысяч\"],\n",
    "    [\"кэшбек\", \"с кэшбеком\", \"20% кэшбек\", \"с кэшбеком 3 процента\"],\n",
    "    [\"15%\", \"5к\"]\n",
    "])\n",
    "texts = list(gen.generate())"
   ]
  },
  {
   "cell_type": "code",
   "execution_count": 28,
   "metadata": {
    "collapsed": true
   },
   "outputs": [],
   "source": [
    "prev = [\n",
    "    \"купить\",\n",
    "    \"где купить\",\n",
    "    \"\"\n",
    "]\n",
    "goods = [\n",
    "    \"велосипед\",\n",
    "    \"велик\",\n",
    "    \"байк\",\n",
    "    \"скейт\",\n",
    "    \"скейтбоард\"\n",
    "]\n",
    "credits = [\n",
    "    \"в кредит\",\n",
    "    \"в рассрочку\",\n",
    "    \"под 12 процентов\",\n",
    "    \"14%\"\n",
    "]\n",
    "morph = pmh.MorphAnalyzer()"
   ]
  },
  {
   "cell_type": "code",
   "execution_count": 29,
   "metadata": {
    "collapsed": true
   },
   "outputs": [],
   "source": [
    "def getRequire():\n",
    "    return prev[0] + \" \" + goods[0] + \" стоит меньше трёх тыс руб\" + \" \" + credits[0]"
   ]
  },
  {
   "cell_type": "code",
   "execution_count": 30,
   "metadata": {
    "collapsed": true
   },
   "outputs": [],
   "source": [
    "def Lemma(string):\n",
    "    newString = \"\"\n",
    "    for word in string.split(\" \"):\n",
    "        newString += morph.parse(word)[0].normal_form + \" \"\n",
    "    return newString[:-1]"
   ]
  },
  {
   "cell_type": "code",
   "execution_count": 31,
   "metadata": {},
   "outputs": [
    {
     "data": {
      "text/plain": [
       "'купить велосипед стоить маленький три тысяча рубль в кредит'"
      ]
     },
     "execution_count": 31,
     "metadata": {},
     "output_type": "execute_result"
    }
   ],
   "source": [
    "Lemma(getRequire())"
   ]
  },
  {
   "cell_type": "code",
   "execution_count": 32,
   "metadata": {
    "collapsed": true
   },
   "outputs": [],
   "source": [
    "def is_number(string):\n",
    "    for c in string:\n",
    "        if((ord(c) < 48 or ord(c) > 57) and not (c == \".\" or c == \",\")):\n",
    "            return False\n",
    "    return True\n",
    "is_number_ = custom(is_number)\n",
    "NUMBER_RULE = rule(\n",
    "    or_(\n",
    "        gram(\"NUMR\"),\n",
    "        is_number_\n",
    "    ),\n",
    "    morph_pipeline([\n",
    "        \",\",\n",
    "        \".\"\n",
    "    ]).optional(),\n",
    "    or_(\n",
    "        gram(\"NUMR\"),\n",
    "        is_number_\n",
    "    ).optional()\n",
    ")"
   ]
  },
  {
   "cell_type": "code",
   "execution_count": 34,
   "metadata": {
    "collapsed": true
   },
   "outputs": [],
   "source": [
    "MONEY_PIPE = morph_pipeline([\n",
    "        \"тыс\",\n",
    "        \"к\",\n",
    "        \"k\",\n",
    "        \"м\",\n",
    "        \"руб\",\n",
    "        \"рублей\",\n",
    "        \"тысяч\"\n",
    "    ])"
   ]
  },
  {
   "cell_type": "code",
   "execution_count": 35,
   "metadata": {
    "collapsed": true
   },
   "outputs": [],
   "source": [
    "PRICE_FROM = rule(\n",
    "    morph_pipeline([\n",
    "        \"от\"\n",
    "    ]),\n",
    "    NUMBER_RULE,\n",
    "    MONEY_PIPE.optional()\n",
    ")\n",
    "PRICE_TO = rule(\n",
    "    morph_pipeline([\n",
    "        \"до\"\n",
    "    ]),\n",
    "    NUMBER_RULE,\n",
    "    MONEY_PIPE.optional()\n",
    ")\n",
    "PRICE_VALUE = rule(\n",
    "    NUMBER_RULE,\n",
    "    not_(\n",
    "        dictionary({\n",
    "            \"%\",\n",
    "            \"процент\",\n",
    "            \"процентов\"\n",
    "        })\n",
    "    ),\n",
    "    MONEY_PIPE.optional()\n",
    ")"
   ]
  },
  {
   "cell_type": "code",
   "execution_count": 36,
   "metadata": {
    "collapsed": true
   },
   "outputs": [],
   "source": [
    "SPORT_ITEM = rule(\n",
    "    and_(\n",
    "        gram(\"ADJF\"),\n",
    "        not_(\n",
    "            gram(\"PREP\")\n",
    "        )\n",
    "    ).optional().repeatable(),\n",
    "    gram(\"NOUN\"),\n",
    "    and_(\n",
    "        gram(\"ADJF\"),\n",
    "        not_(\n",
    "            gram(\"PREP\")\n",
    "        )\n",
    "    ).optional().repeatable()\n",
    ")"
   ]
  },
  {
   "cell_type": "code",
   "execution_count": 48,
   "metadata": {},
   "outputs": [
    {
     "name": "stdout",
     "output_type": "stream",
     "text": [
      "['велосипед']\n",
      "['с']\n",
      "['держателем']\n",
      "['воды']\n",
      "['кэшбек']\n"
     ]
    }
   ],
   "source": [
    "parser = Parser(SPORT_ITEM)\n",
    "for match in parser.findall(\"купить велосипед с держателем для воды недорого кэшбек 5%\"):\n",
    "    print([_.value for _ in match.tokens])"
   ]
  },
  {
   "cell_type": "code",
   "execution_count": 37,
   "metadata": {},
   "outputs": [
    {
     "name": "stdout",
     "output_type": "stream",
     "text": [
      "['5', '.', '2', '%']\n"
     ]
    }
   ],
   "source": [
    "MONEY_PERCENT = rule(\n",
    "    or_(\n",
    "    rule(\n",
    "        morph_pipeline([\n",
    "            \"процент\",\n",
    "            \"%\"\n",
    "        ]).optional(),\n",
    "        MONEY_PIPE\n",
    "        ),\n",
    "    rule(\n",
    "        morph_pipeline([\n",
    "            \"процент\",\n",
    "            \"%\"\n",
    "        ]),\n",
    "        MONEY_PIPE.optional()\n",
    "    )\n",
    "    )\n",
    ")\n",
    "CASHBACK_VALUE = rule(\n",
    "    NUMBER_RULE,\n",
    "    MONEY_PERCENT.optional()\n",
    ")\n",
    "CASHBACK = rule(\n",
    "    NUMBER_RULE.optional().repeatable(),\n",
    "    MONEY_PERCENT.optional(),\n",
    "    morph_pipeline([\n",
    "        \"кэшбек\",\n",
    "        \"кэшбэк\",\n",
    "        \"cb\",\n",
    "        \"кб\",\n",
    "        \"кэш\"\n",
    "    ]),\n",
    "    dictionary({\n",
    "        \"от\"\n",
    "    }).optional(),\n",
    "    NUMBER_RULE.optional().repeatable(),\n",
    "    MONEY_PERCENT.optional()\n",
    ")\n",
    "PERCENT_RULE = rule(\n",
    "    NUMBER_RULE,\n",
    "    morph_pipeline([\n",
    "        \"%\",\n",
    "        \"процент\"\n",
    "    ])\n",
    ")\n",
    "text = \"купить горный велсипед с кэшбеком 5.2 % за 50к\"\n",
    "p = Parser(PERCENT_RULE)\n",
    "p.findall(text)\n",
    "for match in p.findall(text):\n",
    "    print([_.value for _ in match.tokens])"
   ]
  },
  {
   "cell_type": "code",
   "execution_count": 38,
   "metadata": {},
   "outputs": [
    {
     "name": "stdout",
     "output_type": "stream",
     "text": [
      "10   [29, 31)\n",
      "%   [31, 32)\n",
      "кэшбек   [33, 39)\n"
     ]
    },
    {
     "data": {
      "text/plain": [
       "'купить горный велик в кредит   до 20к'"
      ]
     },
     "execution_count": 38,
     "metadata": {},
     "output_type": "execute_result"
    }
   ],
   "source": [
    "cbr = Parser(CASHBACK)\n",
    "txt = \"купить горный велик в кредит 10% кэшбек до 20к\"\n",
    "tokens = cbr.findall(txt)\n",
    "for match in tokens:\n",
    "    for _ in match.tokens:\n",
    "        txt = txt.replace(_.value, \"\")\n",
    "        print(_.value, \" \", _.span)\n",
    "txt"
   ]
  },
  {
   "cell_type": "markdown",
   "metadata": {},
   "source": [
    "Строка должна поступать на вход с пробелами по краям: \" купить велосипед с кэшбеком 5 % \""
   ]
  },
  {
   "cell_type": "code",
   "execution_count": 39,
   "metadata": {
    "collapsed": true
   },
   "outputs": [
    {
     "ename": "TypeError",
     "evalue": "'module' object is not callable",
     "output_type": "error",
     "traceback": [
      "\u001b[1;31m---------------------------------------------------------------------------\u001b[0m",
      "\u001b[1;31mTypeError\u001b[0m                                 Traceback (most recent call last)",
      "\u001b[1;32m<ipython-input-39-a58d2764dd24>\u001b[0m in \u001b[0;36m<module>\u001b[1;34m()\u001b[0m\n\u001b[0;32m      1\u001b[0m \u001b[0mtokenizer\u001b[0m \u001b[1;33m=\u001b[0m \u001b[0mMorphTokenizer\u001b[0m\u001b[1;33m(\u001b[0m\u001b[1;33m)\u001b[0m\u001b[1;33m\u001b[0m\u001b[0m\n\u001b[0;32m      2\u001b[0m \u001b[0mstring\u001b[0m \u001b[1;33m=\u001b[0m \u001b[1;34m\" \"\u001b[0m\u001b[1;33m\u001b[0m\u001b[0m\n\u001b[1;32m----> 3\u001b[1;33m \u001b[1;32mfor\u001b[0m \u001b[0mi\u001b[0m \u001b[1;32min\u001b[0m \u001b[0mt\u001b[0m\u001b[1;33m(\u001b[0m\u001b[0mtxt\u001b[0m\u001b[1;33m)\u001b[0m\u001b[1;33m:\u001b[0m\u001b[1;33m\u001b[0m\u001b[0m\n\u001b[0m\u001b[0;32m      4\u001b[0m     \u001b[0mprint\u001b[0m\u001b[1;33m(\u001b[0m\u001b[0mi\u001b[0m\u001b[1;33m.\u001b[0m\u001b[0mforms\u001b[0m\u001b[1;33m[\u001b[0m\u001b[1;36m0\u001b[0m\u001b[1;33m]\u001b[0m\u001b[1;33m.\u001b[0m\u001b[0mgrams\u001b[0m\u001b[1;33m.\u001b[0m\u001b[0m__dict__\u001b[0m\u001b[1;33m)\u001b[0m\u001b[1;33m\u001b[0m\u001b[0m\n\u001b[0;32m      5\u001b[0m \u001b[0mstring\u001b[0m\u001b[1;33m\u001b[0m\u001b[0m\n",
      "\u001b[1;31mTypeError\u001b[0m: 'module' object is not callable"
     ]
    }
   ],
   "source": [
    "tokenizer = MorphTokenizer()\n",
    "string = \" \"\n",
    "for i in t(txt):\n",
    "    print(i.forms[0].grams.__dict__)\n",
    "string"
   ]
  },
  {
   "cell_type": "code",
   "execution_count": 69,
   "metadata": {},
   "outputs": [],
   "source": [
    "MEANING = rule(\n",
    "    not_(\n",
    "        or_(\n",
    "            or_(\n",
    "                gram(\"INFN\"),\n",
    "                gram(\"VERB\")\n",
    "            ),\n",
    "            or_(\n",
    "                or_(\n",
    "                    gram(\"PREP\"), gram(\"CONJ\")\n",
    "                ),\n",
    "                or_(\n",
    "                    gram(\"PRCL\"), gram(\"ADVB\")\n",
    "                )\n",
    "            )\n",
    "        )\n",
    "    )\n",
    ")\n",
    "ATTRIBUTE = rule(\n",
    "    MEANING.optional().repeatable(),\n",
    "    gram(\"NOUN\").repeatable()\n",
    ")"
   ]
  },
  {
   "cell_type": "code",
   "execution_count": 73,
   "metadata": {},
   "outputs": [
    {
     "data": {
      "text/plain": [
       "'C:\\\\Program Files (x86)\\\\Microsoft Visual Studio\\\\Shared\\\\Anaconda3_64\\\\python.exe'"
      ]
     },
     "execution_count": 73,
     "metadata": {},
     "output_type": "execute_result"
    }
   ],
   "source": [
    "import sys\n",
    "sys.executable"
   ]
  },
  {
   "cell_type": "code",
   "execution_count": 87,
   "metadata": {},
   "outputs": [],
   "source": [
    "import pymorphy2 as pmh\n",
    "par = pmh.MorphAnalyzer()\n",
    "class SlotFilling:\n",
    "    def __init__(self):\n",
    "        self.dict = dict()\n",
    "        self.dict[\"goods\"] = goods\n",
    "        self.price_rules = [PRICE_FROM, PRICE_TO]\n",
    "        self.tokenizer = MorphTokenizer()\n",
    "    def Preprocess(self, string):\n",
    "        processed_string = \" \"\n",
    "        for token in self.tokenizer(string):\n",
    "            processed_string += token.value + \" \"\n",
    "        return processed_string\n",
    "    def Parsing(self, string):\n",
    "        words = string.split(\" \")\n",
    "        parsed = dict()\n",
    "       \n",
    "        #FIND CASHBACK\n",
    "        parser = Parser(CASHBACK)\n",
    "        cashback_tokens = parser.findall(string)\n",
    "        cashback = \"\"\n",
    "        #пока тренируемся на том, чnо кэшбек только на один товар\n",
    "        for match in cashback_tokens:\n",
    "            cashback += ' '.join([_.value for _ in match.tokens])\n",
    "            for token in match.tokens:\n",
    "                string = string.replace(\" \" + token.value + \" \", \" \")\n",
    "        #вытаскиваем значения с размерностями:\n",
    "        parser = Parser(CASHBACK_VALUE)\n",
    "        cashback_tokens = parser.findall(cashback)\n",
    "        cashback = \"\"\n",
    "        for match in cashback_tokens:\n",
    "            cashback += ' '.join([_.value for _ in match.tokens])\n",
    "        #проверяем просто на вхождение процентов (т.к. пока мы рассрочку не учитываем)\n",
    "        if(cashback == \"\"):\n",
    "            parser = Parser(PERCENT_RULE)\n",
    "            cashback_tokens = parser.findall(cashback)\n",
    "            for match in cashback_tokens:\n",
    "                cashback += ' '.join([_.value for _ in match.tokens])\n",
    "        parsed['Cashback'] = cashback.replace(\" \", \"\")\n",
    "        #find  price\n",
    "        parsed['Price'] = {\"From\" : \"NaN\", \"To\": \"NaN\"}\n",
    "        is_value = 0\n",
    "        price_keys_list = list(parsed['Price'].keys())\n",
    "        for i in range(2):\n",
    "            parser = Parser(self.price_rules[i])\n",
    "            price_tokens = parser.findall(string)\n",
    "            for match in price_tokens:\n",
    "                is_value += 1\n",
    "                parsed['Price'][price_keys_list[i]] = ' '.join([_.value for _ in match.tokens])\n",
    "                for token in match.tokens:\n",
    "                    string = string.replace(token.value + \" \", \" \")\n",
    "        if (is_value == 0):\n",
    "            parser = Parser(PRICE_VALUE)\n",
    "            price_tokens = parser.findall(string)\n",
    "            price = \"\"\n",
    "            for match in price_tokens:\n",
    "                price = ' '.join([_.value for _ in match.tokens])\n",
    "                parsed['Price'][\"From\"] = parsed['Price'][\"To\"] = price\n",
    "                for token in match.tokens:\n",
    "                    string = string.replace(token.value + \" \", \"\")\n",
    "        \n",
    "        print(string)\n",
    "        parser = Parser(ATTRIBUTE)\n",
    "        attr_tokens = parser.findall(string)\n",
    "        attr = \"\"\n",
    "        parsed['Attributes'] = \"NaN\"\n",
    "        for match in attr_tokens:\n",
    "                attr = ' '.join([_.value for _ in match.tokens])\n",
    "                parsed['Attributes'] = attr\n",
    "        for word in words:\n",
    "            #find Item\n",
    "            if(par.parse(word)[0].normal_form in self.dict['goods']):\n",
    "                parsed['Item'] = word\n",
    "                #while True:\n",
    "                #    pass\n",
    "        \n",
    "        return parsed\n",
    "    def Parse(self, string):\n",
    "        return self.Parsing(self.Preprocess(string))"
   ]
  },
  {
   "cell_type": "code",
   "execution_count": null,
   "metadata": {
    "collapsed": true
   },
   "outputs": [],
   "source": []
  },
  {
   "cell_type": "code",
   "execution_count": 88,
   "metadata": {},
   "outputs": [
    {
     "name": "stdout",
     "output_type": "stream",
     "text": [
      " купить горный велосипед за \n"
     ]
    },
    {
     "data": {
      "text/plain": [
       "{'Attributes': 'горный велосипед',\n",
       " 'Cashback': '',\n",
       " 'Item': 'велосипед',\n",
       " 'Price': {'From': '50 к', 'To': '50 к'}}"
      ]
     },
     "execution_count": 88,
     "metadata": {},
     "output_type": "execute_result"
    }
   ],
   "source": [
    "SF = SlotFilling()\n",
    "text = \"купить горный велосипед за 50к\"\n",
    "SF.Parse(text)"
   ]
  },
  {
   "cell_type": "code",
   "execution_count": 43,
   "metadata": {},
   "outputs": [
    {
     "name": "stdout",
     "output_type": "stream",
     "text": [
      "скейтбоард 15% купить до 56 тысяч от 14 тысяч\n",
      " скейтбоард 15 % купить \n",
      "{'Cashback': '', 'Price': {'From': 'от 14 тысяч', 'To': 'до 56 тысяч'}, 'Attributes': 'скейтбоард', 'Item': 'скейтбоард'}\n",
      "до 56 тысяч кэшбек байк от 13 тыс 15% купить\n",
      " до байк 15 % купить \n",
      "{'Cashback': '56 тысяч', 'Price': {'From': 'от 13 тыс', 'To': 'NaN'}, 'Attributes': 'байк', 'Item': 'байк'}\n",
      "от 13 тыс до 40к 5к купить\n",
      " 5 купить \n",
      "{'Cashback': '', 'Price': {'From': 'от 13 тыс', 'To': 'до 40 к'}, 'Attributes': 'NaN'}\n",
      "до 56 тысяч байк купить\n",
      " байк купить \n",
      "{'Cashback': '', 'Price': {'From': 'NaN', 'To': 'до 56 тысяч'}, 'Attributes': 'байк', 'Item': 'байк'}\n",
      "с кэшбеком 3 процента 15% купить до 56 тысяч скейт от 14 тысяч\n",
      " с 15 % купить скейт \n",
      "{'Cashback': '3 процента', 'Price': {'From': 'от 14 тысяч', 'To': 'до 56'}, 'Attributes': 'скейт', 'Item': 'скейт'}\n",
      "15% велик 20% кэшбек до 40к от 13 тыс\n",
      " 15 велик \n",
      "{'Cashback': '20 %', 'Price': {'From': 'от 13 тыс', 'To': 'до 40 к'}, 'Attributes': 'велик', 'Item': 'велик'}\n",
      "от 14 тысяч байк кэшбек 15% до 40к\n",
      " байк \n",
      "{'Cashback': '15 %', 'Price': {'From': 'от 14 тысяч', 'To': 'до 40 к'}, 'Attributes': 'байк', 'Item': 'байк'}\n",
      "5к купить самокат 20% кэшбек до 40к\n",
      " 5 купить самокат \n",
      "{'Cashback': '20 %', 'Price': {'From': 'NaN', 'To': 'до 40 к'}, 'Attributes': 'самокат'}\n",
      "до 40к от 20к кэшбек 5к самокат\n",
      " от самокат \n",
      "{'Cashback': '20 к5 к', 'Price': {'From': 'NaN', 'To': 'до 40'}, 'Attributes': 'самокат'}\n",
      "5к от 14 тысяч купить до 40к байк с кэшбеком 3 процента\n",
      " 5 купить байк с \n",
      "{'Cashback': '3 процента', 'Price': {'From': 'от 14 тысяч', 'To': 'до 40 к'}, 'Attributes': 'байк с', 'Item': 'байк'}\n"
     ]
    }
   ],
   "source": [
    "SF = SlotFilling()\n",
    "labeled = []\n",
    "\n",
    "for _ in range(10):\n",
    "    text = texts[rnd.randint(10000, len(texts))] \n",
    "    print(text)\n",
    "    print(SF.Parse(text))\n",
    "#labeled = [SF.Parse(text) for text in texts[:10]]"
   ]
  },
  {
   "cell_type": "code",
   "execution_count": 23,
   "metadata": {},
   "outputs": [
    {
     "data": {
      "text/plain": [
       "['от 20к 5к купить велик',\n",
       " 'от 20к 5к велик купить',\n",
       " '5к купить велик от 20к',\n",
       " '5к купить от 20к велик',\n",
       " '5к велик купить от 20к',\n",
       " '5к велик от 20к купить',\n",
       " '5к от 20к купить велик',\n",
       " '5к от 20к велик купить',\n",
       " 'купить велик до 56 тысяч кэшбек',\n",
       " 'купить велик кэшбек до 56 тысяч']"
      ]
     },
     "execution_count": 23,
     "metadata": {},
     "output_type": "execute_result"
    }
   ],
   "source": [
    "texts[10000:10010]"
   ]
  },
  {
   "cell_type": "markdown",
   "metadata": {},
   "source": [
    "***Show PRICE rule:***"
   ]
  },
  {
   "cell_type": "code",
   "execution_count": 251,
   "metadata": {
    "collapsed": true
   },
   "outputs": [],
   "source": [
    "text = \"купить велосипед от 10 50 тыс\"\n",
    "parse = Parser(PRICE_FROM)\n",
    "for match in parse.findall(text):\n",
    "    print(\"12312\")\n",
    "    print([_.value for _ in match.tokens])"
   ]
  },
  {
   "cell_type": "code",
   "execution_count": 149,
   "metadata": {
    "collapsed": true
   },
   "outputs": [],
   "source": [
    "Installment = fact(\n",
    "    \"Installment\",\n",
    "    [\"Bool\", \"Time\", \"Percent\"]\n",
    ")\n",
    "Require = fact(\n",
    "    \"Require\",\n",
    "    [\"Item\", \"Price\", \"Installment\"]\n",
    ")"
   ]
  },
  {
   "cell_type": "code",
   "execution_count": 150,
   "metadata": {
    "collapsed": true
   },
   "outputs": [],
   "source": [
    "INSTALLMENT_TIME = rule(\n",
    "    or_(\n",
    "        gram(\"NUMR\"),\n",
    "        is_number_\n",
    "    ),\n",
    "    morph_pipeline([\n",
    "        \"год\",\n",
    "        \"месяц\",\n",
    "        \"день\",\n",
    "        \"лет\"\n",
    "    ])\n",
    ")\n",
    "INSTALLMENT_PERCENT = rule(\n",
    "    or_(\n",
    "        gram(\"NUMR\"),\n",
    "        is_number_\n",
    "    ),\n",
    "    morph_pipeline([\n",
    "        \"процент\",\n",
    "        \"%\"\n",
    "    ])\n",
    ")\n",
    "INSTALLMENT = rule(\n",
    "    INSTALLMENT_TIME.interpretation(\n",
    "        Installment.Time.inflected()\n",
    "    ),\n",
    "    INSTALLMENT_PERCENT.interpretation(\n",
    "        Installment.Percent.inflected()\n",
    "    )\n",
    ").interpretation(Installment)"
   ]
  },
  {
   "cell_type": "code",
   "execution_count": 151,
   "metadata": {
    "collapsed": true
   },
   "outputs": [],
   "source": [
    "parser = Parser(INSTALLMENT)"
   ]
  },
  {
   "cell_type": "code",
   "execution_count": 152,
   "metadata": {
    "collapsed": true
   },
   "outputs": [],
   "source": [
    "text = getRequire()\n",
    "text = \"купить велосипед меньше 15 тыс руб 12 месяц 14%\""
   ]
  },
  {
   "cell_type": "code",
   "execution_count": 153,
   "metadata": {},
   "outputs": [
    {
     "data": {
      "text/plain": [
       "Installment(Bool=None,\n",
       "            Time='12 месяц',\n",
       "            Percent='14%')"
      ]
     },
     "metadata": {},
     "output_type": "display_data"
    }
   ],
   "source": [
    "from IPython.display import display\n",
    "for match in parser.findall(text):\n",
    "    display(match.fact)"
   ]
  },
  {
   "cell_type": "code",
   "execution_count": 16,
   "metadata": {
    "collapsed": true
   },
   "outputs": [],
   "source": [
    "from yargy.tokenizer import MorphTokenizer"
   ]
  },
  {
   "cell_type": "code",
   "execution_count": 17,
   "metadata": {},
   "outputs": [
    {
     "name": "stdout",
     "output_type": "stream",
     "text": [
      "['12', 'к']\n"
     ]
    }
   ],
   "source": [
    "tokenizer = MorphTokenizer()\n",
    "text = \"12к\"\n",
    "for line in text.splitlines():\n",
    "    print([_.value for _ in tokenizer(line)])"
   ]
  },
  {
   "cell_type": "code",
   "execution_count": null,
   "metadata": {
    "collapsed": true
   },
   "outputs": [],
   "source": [
    " "
   ]
  }
 ],
 "metadata": {
  "kernelspec": {
   "display_name": "Python 3",
   "language": "python",
   "name": "python3"
  },
  "language_info": {
   "codemirror_mode": {
    "name": "ipython",
    "version": 3
   },
   "file_extension": ".py",
   "mimetype": "text/x-python",
   "name": "python",
   "nbconvert_exporter": "python",
   "pygments_lexer": "ipython3",
   "version": "3.6.2"
  }
 },
 "nbformat": 4,
 "nbformat_minor": 2
}
