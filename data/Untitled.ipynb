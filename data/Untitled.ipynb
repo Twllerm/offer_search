{
 "cells": [
  {
   "cell_type": "code",
   "execution_count": 1,
   "metadata": {
    "collapsed": true
   },
   "outputs": [],
   "source": [
    "import pandas as pnd"
   ]
  },
  {
   "cell_type": "code",
   "execution_count": 4,
   "metadata": {},
   "outputs": [],
   "source": [
    "sport = pnd.read_excel(\"sport.xls\")"
   ]
  },
  {
   "cell_type": "code",
   "execution_count": 6,
   "metadata": {},
   "outputs": [
    {
     "data": {
      "text/html": [
       "<div>\n",
       "<style>\n",
       "    .dataframe thead tr:only-child th {\n",
       "        text-align: right;\n",
       "    }\n",
       "\n",
       "    .dataframe thead th {\n",
       "        text-align: left;\n",
       "    }\n",
       "\n",
       "    .dataframe tbody tr th {\n",
       "        vertical-align: top;\n",
       "    }\n",
       "</style>\n",
       "<table border=\"1\" class=\"dataframe\">\n",
       "  <thead>\n",
       "    <tr style=\"text-align: right;\">\n",
       "      <th></th>\n",
       "      <th>NAME</th>\n",
       "      <th>WEB</th>\n",
       "      <th>CASH_BACK_HEIGHT</th>\n",
       "      <th>TRANCHE_STMT_COUNT</th>\n",
       "      <th>OFFER_TYPE</th>\n",
       "      <th>ADVERT_TEXT</th>\n",
       "    </tr>\n",
       "  </thead>\n",
       "  <tbody>\n",
       "    <tr>\n",
       "      <th>0</th>\n",
       "      <td>Фитнес клуб Milon</td>\n",
       "      <td>https://milon-club.ru/</td>\n",
       "      <td>0</td>\n",
       "      <td>6.0</td>\n",
       "      <td>SPECIAL_CREDIT</td>\n",
       "      <td>На покупку по кредитной карте не будут начисля...</td>\n",
       "    </tr>\n",
       "    <tr>\n",
       "      <th>1</th>\n",
       "      <td>Спорт-Марафон</td>\n",
       "      <td>https://sport-marafon.ru/</td>\n",
       "      <td>8</td>\n",
       "      <td>NaN</td>\n",
       "      <td>STANDARD</td>\n",
       "      <td>Спорт-Марафон — это специализированный магазин...</td>\n",
       "    </tr>\n",
       "    <tr>\n",
       "      <th>2</th>\n",
       "      <td>Gold-standart.com</td>\n",
       "      <td>https://gold-standart.com/</td>\n",
       "      <td>9</td>\n",
       "      <td>NaN</td>\n",
       "      <td>STANDARD</td>\n",
       "      <td>Gold-Standart.com это сеть магазинов спортивно...</td>\n",
       "    </tr>\n",
       "    <tr>\n",
       "      <th>3</th>\n",
       "      <td>OneFit</td>\n",
       "      <td>http://l.onefit.ru/tinkoff</td>\n",
       "      <td>15</td>\n",
       "      <td>NaN</td>\n",
       "      <td>STANDARD</td>\n",
       "      <td>OneFit – это единый фитнес-абонемент. По абоне...</td>\n",
       "    </tr>\n",
       "    <tr>\n",
       "      <th>4</th>\n",
       "      <td>сеть фитнес-клубов Republika</td>\n",
       "      <td>http://republika.ru/</td>\n",
       "      <td>5</td>\n",
       "      <td>NaN</td>\n",
       "      <td>STANDARD</td>\n",
       "      <td>Сеть фитнес-клубов Republika - это команда ква...</td>\n",
       "    </tr>\n",
       "  </tbody>\n",
       "</table>\n",
       "</div>"
      ],
      "text/plain": [
       "                           NAME                         WEB  CASH_BACK_HEIGHT  \\\n",
       "0             Фитнес клуб Milon      https://milon-club.ru/                 0   \n",
       "1                 Спорт-Марафон   https://sport-marafon.ru/                 8   \n",
       "2             Gold-standart.com  https://gold-standart.com/                 9   \n",
       "3                        OneFit  http://l.onefit.ru/tinkoff                15   \n",
       "4  сеть фитнес-клубов Republika        http://republika.ru/                 5   \n",
       "\n",
       "   TRANCHE_STMT_COUNT      OFFER_TYPE  \\\n",
       "0                 6.0  SPECIAL_CREDIT   \n",
       "1                 NaN        STANDARD   \n",
       "2                 NaN        STANDARD   \n",
       "3                 NaN        STANDARD   \n",
       "4                 NaN        STANDARD   \n",
       "\n",
       "                                         ADVERT_TEXT  \n",
       "0  На покупку по кредитной карте не будут начисля...  \n",
       "1  Спорт-Марафон — это специализированный магазин...  \n",
       "2  Gold-Standart.com это сеть магазинов спортивно...  \n",
       "3  OneFit – это единый фитнес-абонемент. По абоне...  \n",
       "4  Сеть фитнес-клубов Republika - это команда ква...  "
      ]
     },
     "execution_count": 6,
     "metadata": {},
     "output_type": "execute_result"
    }
   ],
   "source": [
    "sport.head()"
   ]
  },
  {
   "cell_type": "code",
   "execution_count": null,
   "metadata": {
    "collapsed": true
   },
   "outputs": [],
   "source": []
  }
 ],
 "metadata": {
  "kernelspec": {
   "display_name": "Python 3",
   "language": "python",
   "name": "python3"
  },
  "language_info": {
   "codemirror_mode": {
    "name": "ipython",
    "version": 3
   },
   "file_extension": ".py",
   "mimetype": "text/x-python",
   "name": "python",
   "nbconvert_exporter": "python",
   "pygments_lexer": "ipython3",
   "version": "3.6.2"
  }
 },
 "nbformat": 4,
 "nbformat_minor": 2
}
