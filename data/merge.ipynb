{
 "cells": [
  {
   "cell_type": "code",
   "execution_count": 1,
   "metadata": {},
   "outputs": [],
   "source": [
    "import pandas as pd"
   ]
  },
  {
   "cell_type": "code",
   "execution_count": 5,
   "metadata": {
    "scrolled": true
   },
   "outputs": [
    {
     "data": {
      "text/html": [
       "<div>\n",
       "<style scoped>\n",
       "    .dataframe tbody tr th:only-of-type {\n",
       "        vertical-align: middle;\n",
       "    }\n",
       "\n",
       "    .dataframe tbody tr th {\n",
       "        vertical-align: top;\n",
       "    }\n",
       "\n",
       "    .dataframe thead th {\n",
       "        text-align: right;\n",
       "    }\n",
       "</style>\n",
       "<table border=\"1\" class=\"dataframe\">\n",
       "  <thead>\n",
       "    <tr style=\"text-align: right;\">\n",
       "      <th></th>\n",
       "      <th>NAME</th>\n",
       "      <th>WEB</th>\n",
       "      <th>CASH_BACK_HEIGHT</th>\n",
       "      <th>TRANCHE_STMT_COUNT</th>\n",
       "      <th>OFFER_TYPE</th>\n",
       "      <th>ADVERT_TEXT</th>\n",
       "    </tr>\n",
       "  </thead>\n",
       "  <tbody>\n",
       "    <tr>\n",
       "      <th>0</th>\n",
       "      <td>ANEX Tour</td>\n",
       "      <td>https://www.anextour.com/</td>\n",
       "      <td>0</td>\n",
       "      <td>6.0</td>\n",
       "      <td>SPECIAL_CREDIT</td>\n",
       "      <td>На покупку по кредитной карте не будут начисля...</td>\n",
       "    </tr>\n",
       "    <tr>\n",
       "      <th>1</th>\n",
       "      <td>Гостиница Альфа</td>\n",
       "      <td>http://www.alfa-hotel.ru/</td>\n",
       "      <td>15</td>\n",
       "      <td>NaN</td>\n",
       "      <td>STANDARD</td>\n",
       "      <td>Гостиница Альфа 4* – разумный выбор для отдыха...</td>\n",
       "    </tr>\n",
       "    <tr>\n",
       "      <th>2</th>\n",
       "      <td>MirCli</td>\n",
       "      <td>https://mircli.ru/?utm_source=Tinkoff&amp;utm_medi...</td>\n",
       "      <td>0</td>\n",
       "      <td>4.0</td>\n",
       "      <td>SPECIAL_CREDIT</td>\n",
       "      <td>На покупку по кредитной карте не будут начисля...</td>\n",
       "    </tr>\n",
       "    <tr>\n",
       "      <th>3</th>\n",
       "      <td>MIXIT</td>\n",
       "      <td>https://mixit.ru</td>\n",
       "      <td>10</td>\n",
       "      <td>NaN</td>\n",
       "      <td>STANDARD</td>\n",
       "      <td>MIXIT - лаборатория современной косметики. Это...</td>\n",
       "    </tr>\n",
       "    <tr>\n",
       "      <th>4</th>\n",
       "      <td>Tinkoff.Travel совместно с Booking.com</td>\n",
       "      <td>https://travel.tinkoff.ru/hotels/?utm_source=p...</td>\n",
       "      <td>10</td>\n",
       "      <td>NaN</td>\n",
       "      <td>STANDARD</td>\n",
       "      <td>Бронирование отелей через Тинькофф Путешествия...</td>\n",
       "    </tr>\n",
       "  </tbody>\n",
       "</table>\n",
       "</div>"
      ],
      "text/plain": [
       "                                     NAME  \\\n",
       "0                               ANEX Tour   \n",
       "1                         Гостиница Альфа   \n",
       "2                                  MirCli   \n",
       "3                                   MIXIT   \n",
       "4  Tinkoff.Travel совместно с Booking.com   \n",
       "\n",
       "                                                 WEB  CASH_BACK_HEIGHT  \\\n",
       "0                          https://www.anextour.com/                 0   \n",
       "1                          http://www.alfa-hotel.ru/                15   \n",
       "2  https://mircli.ru/?utm_source=Tinkoff&utm_medi...                 0   \n",
       "3                                   https://mixit.ru                10   \n",
       "4  https://travel.tinkoff.ru/hotels/?utm_source=p...                10   \n",
       "\n",
       "   TRANCHE_STMT_COUNT      OFFER_TYPE  \\\n",
       "0                 6.0  SPECIAL_CREDIT   \n",
       "1                 NaN        STANDARD   \n",
       "2                 4.0  SPECIAL_CREDIT   \n",
       "3                 NaN        STANDARD   \n",
       "4                 NaN        STANDARD   \n",
       "\n",
       "                                         ADVERT_TEXT  \n",
       "0  На покупку по кредитной карте не будут начисля...  \n",
       "1  Гостиница Альфа 4* – разумный выбор для отдыха...  \n",
       "2  На покупку по кредитной карте не будут начисля...  \n",
       "3  MIXIT - лаборатория современной косметики. Это...  \n",
       "4  Бронирование отелей через Тинькофф Путешествия...  "
      ]
     },
     "execution_count": 5,
     "metadata": {},
     "output_type": "execute_result"
    }
   ],
   "source": [
    "data = pd.read_excel('./current_offers.xlsx')\n",
    "data.head()"
   ]
  },
  {
   "cell_type": "code",
   "execution_count": 4,
   "metadata": {},
   "outputs": [
    {
     "data": {
      "text/html": [
       "<div>\n",
       "<style scoped>\n",
       "    .dataframe tbody tr th:only-of-type {\n",
       "        vertical-align: middle;\n",
       "    }\n",
       "\n",
       "    .dataframe tbody tr th {\n",
       "        vertical-align: top;\n",
       "    }\n",
       "\n",
       "    .dataframe thead th {\n",
       "        text-align: right;\n",
       "    }\n",
       "</style>\n",
       "<table border=\"1\" class=\"dataframe\">\n",
       "  <thead>\n",
       "    <tr style=\"text-align: right;\">\n",
       "      <th></th>\n",
       "      <th>OFFER_ID</th>\n",
       "      <th>NAME</th>\n",
       "      <th>CASH_BACK_HEIGHT</th>\n",
       "      <th>TRANCHE_STMT_COUNT</th>\n",
       "      <th>OFFER_TYPE</th>\n",
       "      <th>ADVERT_TEXT</th>\n",
       "      <th>CATEGORY_NAME</th>\n",
       "    </tr>\n",
       "  </thead>\n",
       "  <tbody>\n",
       "    <tr>\n",
       "      <th>0</th>\n",
       "      <td>5352</td>\n",
       "      <td>Tinkoff.Travel совместно с Rentalcars</td>\n",
       "      <td>0</td>\n",
       "      <td>NaN</td>\n",
       "      <td>STANDARD</td>\n",
       "      <td>Аренда автомобилей через Тинькофф Путешествия ...</td>\n",
       "      <td>Каникулы в Сочи</td>\n",
       "    </tr>\n",
       "    <tr>\n",
       "      <th>1</th>\n",
       "      <td>5352</td>\n",
       "      <td>Tinkoff.Travel совместно с Rentalcars</td>\n",
       "      <td>0</td>\n",
       "      <td>NaN</td>\n",
       "      <td>STANDARD</td>\n",
       "      <td>Аренда автомобилей через Тинькофф Путешествия ...</td>\n",
       "      <td>Путешествия</td>\n",
       "    </tr>\n",
       "    <tr>\n",
       "      <th>2</th>\n",
       "      <td>5354</td>\n",
       "      <td>Tinkoff.Travel совместно с Booking.com</td>\n",
       "      <td>10</td>\n",
       "      <td>NaN</td>\n",
       "      <td>STANDARD</td>\n",
       "      <td>Бронирование отелей через Тинькофф Путешествия...</td>\n",
       "      <td>Каникулы в Сочи</td>\n",
       "    </tr>\n",
       "    <tr>\n",
       "      <th>3</th>\n",
       "      <td>5354</td>\n",
       "      <td>Tinkoff.Travel совместно с Booking.com</td>\n",
       "      <td>10</td>\n",
       "      <td>NaN</td>\n",
       "      <td>STANDARD</td>\n",
       "      <td>Бронирование отелей через Тинькофф Путешествия...</td>\n",
       "      <td>Путешествия</td>\n",
       "    </tr>\n",
       "    <tr>\n",
       "      <th>4</th>\n",
       "      <td>5515</td>\n",
       "      <td>Gett</td>\n",
       "      <td>10</td>\n",
       "      <td>NaN</td>\n",
       "      <td>STANDARD</td>\n",
       "      <td>Gett — один из мировых лидеров заказа такси. С...</td>\n",
       "      <td>Для детей</td>\n",
       "    </tr>\n",
       "  </tbody>\n",
       "</table>\n",
       "</div>"
      ],
      "text/plain": [
       "   OFFER_ID                                    NAME  CASH_BACK_HEIGHT  \\\n",
       "0      5352   Tinkoff.Travel совместно с Rentalcars                 0   \n",
       "1      5352   Tinkoff.Travel совместно с Rentalcars                 0   \n",
       "2      5354  Tinkoff.Travel совместно с Booking.com                10   \n",
       "3      5354  Tinkoff.Travel совместно с Booking.com                10   \n",
       "4      5515                                    Gett                10   \n",
       "\n",
       "   TRANCHE_STMT_COUNT OFFER_TYPE  \\\n",
       "0                 NaN   STANDARD   \n",
       "1                 NaN   STANDARD   \n",
       "2                 NaN   STANDARD   \n",
       "3                 NaN   STANDARD   \n",
       "4                 NaN   STANDARD   \n",
       "\n",
       "                                         ADVERT_TEXT    CATEGORY_NAME  \n",
       "0  Аренда автомобилей через Тинькофф Путешествия ...  Каникулы в Сочи  \n",
       "1  Аренда автомобилей через Тинькофф Путешествия ...      Путешествия  \n",
       "2  Бронирование отелей через Тинькофф Путешествия...  Каникулы в Сочи  \n",
       "3  Бронирование отелей через Тинькофф Путешествия...      Путешествия  \n",
       "4  Gett — один из мировых лидеров заказа такси. С...        Для детей  "
      ]
     },
     "execution_count": 4,
     "metadata": {},
     "output_type": "execute_result"
    }
   ],
   "source": [
    "web = pd.read_excel('./offers_with_categories.xlsx')\n",
    "web.head()"
   ]
  },
  {
   "cell_type": "code",
   "execution_count": 95,
   "metadata": {},
   "outputs": [],
   "source": [
    "def merge(cat):\n",
    "    offer_with_cats = []\n",
    "    for _, row in data.iterrows():\n",
    "        cats = web[web['NAME'] == row['NAME']]\n",
    "        cats = cats[cats['CATEGORY_NAME'] == cat]\n",
    "        if len(cats) == 0:\n",
    "            continue\n",
    "\n",
    "        if len(cats) > 1:\n",
    "            #sc = cats[cats['OFFER_TYPE'] == 'SPECIAL_CREDIT']\n",
    "            cats = cats[cats['ADVERT_TEXT'] == row['ADVERT_TEXT']]\n",
    "            cats = cats[cats['CASH_BACK_HEIGHT'] > 0]\n",
    "            if len(cats) == 0:\n",
    "                continue\n",
    "\n",
    "        if len(cats) > 1:\n",
    "            cats = cats[:1]\n",
    "\n",
    "        if row['WEB'] != row['WEB']:\n",
    "            continue\n",
    "\n",
    "        assert len(cats) == 1, cats\n",
    "        offer_with_cats.append(row)\n",
    "        \n",
    "    return pd.DataFrame(offer_with_cats)"
   ]
  },
  {
   "cell_type": "code",
   "execution_count": 96,
   "metadata": {},
   "outputs": [
    {
     "data": {
      "text/plain": [
       "29"
      ]
     },
     "execution_count": 96,
     "metadata": {},
     "output_type": "execute_result"
    }
   ],
   "source": [
    "sport = merge('Спорт')\n",
    "len(sport)"
   ]
  },
  {
   "cell_type": "code",
   "execution_count": 102,
   "metadata": {},
   "outputs": [],
   "source": [
    "sport.to_excel('sport.xls', index=False)"
   ]
  },
  {
   "cell_type": "code",
   "execution_count": 97,
   "metadata": {},
   "outputs": [
    {
     "data": {
      "text/plain": [
       "36"
      ]
     },
     "execution_count": 97,
     "metadata": {},
     "output_type": "execute_result"
    }
   ],
   "source": [
    "eda = merge('Еда и продукты')\n",
    "len(eda)"
   ]
  },
  {
   "cell_type": "code",
   "execution_count": 103,
   "metadata": {},
   "outputs": [],
   "source": [
    "eda.to_excel('food.xls', index=False)"
   ]
  }
 ],
 "metadata": {
  "kernelspec": {
   "display_name": "Python 3",
   "language": "python",
   "name": "python3"
  },
  "language_info": {
   "codemirror_mode": {
    "name": "ipython",
    "version": 3
   },
   "file_extension": ".py",
   "mimetype": "text/x-python",
   "name": "python",
   "nbconvert_exporter": "python",
   "pygments_lexer": "ipython3",
   "version": "3.6.7"
  }
 },
 "nbformat": 4,
 "nbformat_minor": 2
}
