{
 "cells": [
  {
   "cell_type": "code",
   "execution_count": 1,
   "metadata": {},
   "outputs": [],
   "source": [
    "%load_ext autoreload\n",
    "%autoreload 2"
   ]
  },
  {
   "cell_type": "code",
   "execution_count": 2,
   "metadata": {},
   "outputs": [],
   "source": [
    "from offer_search.ranking.elasticsearch import ElasticsearchRanker"
   ]
  },
  {
   "cell_type": "code",
   "execution_count": 3,
   "metadata": {},
   "outputs": [],
   "source": [
    "import pandas as pd"
   ]
  },
  {
   "cell_type": "code",
   "execution_count": 4,
   "metadata": {},
   "outputs": [],
   "source": [
    "preset = []"
   ]
  },
  {
   "cell_type": "code",
   "execution_count": 5,
   "metadata": {},
   "outputs": [],
   "source": [
    "def fill_preset(data, meta, col='Название'):\n",
    "    for _, row in data.iterrows():\n",
    "        for _, row_meta in meta.iterrows():\n",
    "            body = {\n",
    "                'Item': row[col].lower(),\n",
    "                'Attributes': '' if row['Описание'] != row['Описание'] else row['Описание'],\n",
    "                'Price': int(row['Цена']),\n",
    "                'Offer': row_meta['NAME'],\n",
    "                'Web': row_meta['WEB'],\n",
    "                'Offer': row_meta['NAME'],\n",
    "                'Cashback': 0 if row_meta['CASH_BACK_HEIGHT'] != row_meta['CASH_BACK_HEIGHT'] else row_meta['CASH_BACK_HEIGHT'],\n",
    "                'Period': 0 if row_meta['TRANCHE_STMT_COUNT'] != row_meta['TRANCHE_STMT_COUNT'] else row_meta['TRANCHE_STMT_COUNT'],\n",
    "                'Offer_type': row_meta['OFFER_TYPE'],\n",
    "                'Advert_text': row_meta['ADVERT_TEXT']\n",
    "            }\n",
    "            preset.append(body)"
   ]
  },
  {
   "cell_type": "code",
   "execution_count": 6,
   "metadata": {},
   "outputs": [
    {
     "data": {
      "text/html": [
       "<div>\n",
       "<style scoped>\n",
       "    .dataframe tbody tr th:only-of-type {\n",
       "        vertical-align: middle;\n",
       "    }\n",
       "\n",
       "    .dataframe tbody tr th {\n",
       "        vertical-align: top;\n",
       "    }\n",
       "\n",
       "    .dataframe thead th {\n",
       "        text-align: right;\n",
       "    }\n",
       "</style>\n",
       "<table border=\"1\" class=\"dataframe\">\n",
       "  <thead>\n",
       "    <tr style=\"text-align: right;\">\n",
       "      <th></th>\n",
       "      <th>Название</th>\n",
       "      <th>Описание</th>\n",
       "      <th>Цена</th>\n",
       "    </tr>\n",
       "  </thead>\n",
       "  <tbody>\n",
       "    <tr>\n",
       "      <th>0</th>\n",
       "      <td>Велосипеды / Велосипеды / Туринги / AUTHOR / В...</td>\n",
       "      <td>Хромолевый грэвел (gravel) Author RONIN 2019 г...</td>\n",
       "      <td>84000</td>\n",
       "    </tr>\n",
       "    <tr>\n",
       "      <th>1</th>\n",
       "      <td>Велосипеды / Велосипеды / Горные / BERGAMONT /...</td>\n",
       "      <td>Универсальный горный велосипед, который отличн...</td>\n",
       "      <td>43450</td>\n",
       "    </tr>\n",
       "    <tr>\n",
       "      <th>2</th>\n",
       "      <td>Велосипеды / Велосипеды / Горные / BERGAMONT /...</td>\n",
       "      <td>Универсальный горный велосипед, который отличн...</td>\n",
       "      <td>43450</td>\n",
       "    </tr>\n",
       "    <tr>\n",
       "      <th>3</th>\n",
       "      <td>Велосипеды / Велосипеды / Горные / BERGAMONT /...</td>\n",
       "      <td>В 2018 году компания Bergamont решила объедини...</td>\n",
       "      <td>43450</td>\n",
       "    </tr>\n",
       "    <tr>\n",
       "      <th>4</th>\n",
       "      <td>Велосипеды / Велосипеды / Горные / BERGAMONT /...</td>\n",
       "      <td>В 2018 году компания Bergamont решила объедини...</td>\n",
       "      <td>43450</td>\n",
       "    </tr>\n",
       "  </tbody>\n",
       "</table>\n",
       "</div>"
      ],
      "text/plain": [
       "                                            Название  \\\n",
       "0  Велосипеды / Велосипеды / Туринги / AUTHOR / В...   \n",
       "1  Велосипеды / Велосипеды / Горные / BERGAMONT /...   \n",
       "2  Велосипеды / Велосипеды / Горные / BERGAMONT /...   \n",
       "3  Велосипеды / Велосипеды / Горные / BERGAMONT /...   \n",
       "4  Велосипеды / Велосипеды / Горные / BERGAMONT /...   \n",
       "\n",
       "                                            Описание   Цена  \n",
       "0  Хромолевый грэвел (gravel) Author RONIN 2019 г...  84000  \n",
       "1  Универсальный горный велосипед, который отличн...  43450  \n",
       "2  Универсальный горный велосипед, который отличн...  43450  \n",
       "3  В 2018 году компания Bergamont решила объедини...  43450  \n",
       "4  В 2018 году компания Bergamont решила объедини...  43450  "
      ]
     },
     "execution_count": 6,
     "metadata": {},
     "output_type": "execute_result"
    }
   ],
   "source": [
    "data = pd.read_excel('./data/sport/double-sports/data_cleaned.xls')\n",
    "data.head()"
   ]
  },
  {
   "cell_type": "code",
   "execution_count": 7,
   "metadata": {},
   "outputs": [
    {
     "data": {
      "text/html": [
       "<div>\n",
       "<style scoped>\n",
       "    .dataframe tbody tr th:only-of-type {\n",
       "        vertical-align: middle;\n",
       "    }\n",
       "\n",
       "    .dataframe tbody tr th {\n",
       "        vertical-align: top;\n",
       "    }\n",
       "\n",
       "    .dataframe thead th {\n",
       "        text-align: right;\n",
       "    }\n",
       "</style>\n",
       "<table border=\"1\" class=\"dataframe\">\n",
       "  <thead>\n",
       "    <tr style=\"text-align: right;\">\n",
       "      <th></th>\n",
       "      <th>NAME</th>\n",
       "      <th>WEB</th>\n",
       "      <th>CASH_BACK_HEIGHT</th>\n",
       "      <th>TRANCHE_STMT_COUNT</th>\n",
       "      <th>OFFER_TYPE</th>\n",
       "      <th>ADVERT_TEXT</th>\n",
       "    </tr>\n",
       "  </thead>\n",
       "  <tbody>\n",
       "    <tr>\n",
       "      <th>0</th>\n",
       "      <td>double sports</td>\n",
       "      <td>https://double-sports.ru/</td>\n",
       "      <td>0</td>\n",
       "      <td>6</td>\n",
       "      <td>SPECIAL_CREDIT</td>\n",
       "      <td>На покупку по кредитной карте не будут начисля...</td>\n",
       "    </tr>\n",
       "  </tbody>\n",
       "</table>\n",
       "</div>"
      ],
      "text/plain": [
       "            NAME                        WEB  CASH_BACK_HEIGHT  \\\n",
       "0  double sports  https://double-sports.ru/                 0   \n",
       "\n",
       "   TRANCHE_STMT_COUNT      OFFER_TYPE  \\\n",
       "0                   6  SPECIAL_CREDIT   \n",
       "\n",
       "                                         ADVERT_TEXT  \n",
       "0  На покупку по кредитной карте не будут начисля...  "
      ]
     },
     "execution_count": 7,
     "metadata": {},
     "output_type": "execute_result"
    }
   ],
   "source": [
    "meta = pd.read_excel('./data/sport/double-sports/meta.xls')\n",
    "meta.head()"
   ]
  },
  {
   "cell_type": "code",
   "execution_count": 8,
   "metadata": {},
   "outputs": [],
   "source": [
    "fill_preset(data, meta)"
   ]
  },
  {
   "cell_type": "code",
   "execution_count": 9,
   "metadata": {},
   "outputs": [
    {
     "data": {
      "text/html": [
       "<div>\n",
       "<style scoped>\n",
       "    .dataframe tbody tr th:only-of-type {\n",
       "        vertical-align: middle;\n",
       "    }\n",
       "\n",
       "    .dataframe tbody tr th {\n",
       "        vertical-align: top;\n",
       "    }\n",
       "\n",
       "    .dataframe thead th {\n",
       "        text-align: right;\n",
       "    }\n",
       "</style>\n",
       "<table border=\"1\" class=\"dataframe\">\n",
       "  <thead>\n",
       "    <tr style=\"text-align: right;\">\n",
       "      <th></th>\n",
       "      <th>Наименование</th>\n",
       "      <th>Описание</th>\n",
       "      <th>Цена</th>\n",
       "    </tr>\n",
       "  </thead>\n",
       "  <tbody>\n",
       "    <tr>\n",
       "      <th>0</th>\n",
       "      <td>Наборы спортивного питания~Комбо-набор Mad God...</td>\n",
       "      <td>MAD DRUGS GOD OF WHEY.Размер порции: 2 мерные ...</td>\n",
       "      <td>2200</td>\n",
       "    </tr>\n",
       "    <tr>\n",
       "      <th>1</th>\n",
       "      <td>Наборы спортивного питания~Комбо-набор 2 Ligan...</td>\n",
       "      <td>Спортивное питание FrogTechLigandrol (Лигандро...</td>\n",
       "      <td>2890</td>\n",
       "    </tr>\n",
       "    <tr>\n",
       "      <th>2</th>\n",
       "      <td>Наборы спортивного питания~Комбо-набор Ligandr...</td>\n",
       "      <td>Спортивное питание FrogTechIbutamoren (Ибутамо...</td>\n",
       "      <td>3990</td>\n",
       "    </tr>\n",
       "    <tr>\n",
       "      <th>3</th>\n",
       "      <td>Наборы спортивного питания~Комбо-набор 2 Ligan...</td>\n",
       "      <td>Спортивное питание FrogTechLigandrol (Лигандро...</td>\n",
       "      <td>4990</td>\n",
       "    </tr>\n",
       "    <tr>\n",
       "      <th>4</th>\n",
       "      <td>Наборы спортивного питания~Комбо-набор Ligandr...</td>\n",
       "      <td>Спортивное питание FrogTechIbutamoren (Ибутамо...</td>\n",
       "      <td>4990</td>\n",
       "    </tr>\n",
       "  </tbody>\n",
       "</table>\n",
       "</div>"
      ],
      "text/plain": [
       "                                        Наименование  \\\n",
       "0  Наборы спортивного питания~Комбо-набор Mad God...   \n",
       "1  Наборы спортивного питания~Комбо-набор 2 Ligan...   \n",
       "2  Наборы спортивного питания~Комбо-набор Ligandr...   \n",
       "3  Наборы спортивного питания~Комбо-набор 2 Ligan...   \n",
       "4  Наборы спортивного питания~Комбо-набор Ligandr...   \n",
       "\n",
       "                                            Описание  Цена  \n",
       "0  MAD DRUGS GOD OF WHEY.Размер порции: 2 мерные ...  2200  \n",
       "1  Спортивное питание FrogTechLigandrol (Лигандро...  2890  \n",
       "2  Спортивное питание FrogTechIbutamoren (Ибутамо...  3990  \n",
       "3  Спортивное питание FrogTechLigandrol (Лигандро...  4990  \n",
       "4  Спортивное питание FrogTechIbutamoren (Ибутамо...  4990  "
      ]
     },
     "execution_count": 9,
     "metadata": {},
     "output_type": "execute_result"
    }
   ],
   "source": [
    "data = pd.read_excel('./data/sport/gold-standart.com/data_cleaned.xls')\n",
    "data.head()"
   ]
  },
  {
   "cell_type": "code",
   "execution_count": 10,
   "metadata": {},
   "outputs": [
    {
     "data": {
      "text/html": [
       "<div>\n",
       "<style scoped>\n",
       "    .dataframe tbody tr th:only-of-type {\n",
       "        vertical-align: middle;\n",
       "    }\n",
       "\n",
       "    .dataframe tbody tr th {\n",
       "        vertical-align: top;\n",
       "    }\n",
       "\n",
       "    .dataframe thead th {\n",
       "        text-align: right;\n",
       "    }\n",
       "</style>\n",
       "<table border=\"1\" class=\"dataframe\">\n",
       "  <thead>\n",
       "    <tr style=\"text-align: right;\">\n",
       "      <th></th>\n",
       "      <th>NAME</th>\n",
       "      <th>WEB</th>\n",
       "      <th>CASH_BACK_HEIGHT</th>\n",
       "      <th>TRANCHE_STMT_COUNT</th>\n",
       "      <th>OFFER_TYPE</th>\n",
       "      <th>ADVERT_TEXT</th>\n",
       "    </tr>\n",
       "  </thead>\n",
       "  <tbody>\n",
       "    <tr>\n",
       "      <th>0</th>\n",
       "      <td>Gold-standart.com</td>\n",
       "      <td>https://gold-standart.com/</td>\n",
       "      <td>9</td>\n",
       "      <td>NaN</td>\n",
       "      <td>STANDARD</td>\n",
       "      <td>Gold-Standart.com это сеть магазинов спортивно...</td>\n",
       "    </tr>\n",
       "  </tbody>\n",
       "</table>\n",
       "</div>"
      ],
      "text/plain": [
       "                NAME                         WEB  CASH_BACK_HEIGHT  \\\n",
       "0  Gold-standart.com  https://gold-standart.com/                 9   \n",
       "\n",
       "   TRANCHE_STMT_COUNT OFFER_TYPE  \\\n",
       "0                 NaN   STANDARD   \n",
       "\n",
       "                                         ADVERT_TEXT  \n",
       "0  Gold-Standart.com это сеть магазинов спортивно...  "
      ]
     },
     "execution_count": 10,
     "metadata": {},
     "output_type": "execute_result"
    }
   ],
   "source": [
    "meta = pd.read_excel('./data/sport/gold-standart.com/meta.xls')\n",
    "meta.head()"
   ]
  },
  {
   "cell_type": "code",
   "execution_count": 11,
   "metadata": {},
   "outputs": [],
   "source": [
    "fill_preset(data, meta, col='Наименование')"
   ]
  },
  {
   "cell_type": "code",
   "execution_count": 12,
   "metadata": {},
   "outputs": [
    {
     "data": {
      "text/html": [
       "<div>\n",
       "<style scoped>\n",
       "    .dataframe tbody tr th:only-of-type {\n",
       "        vertical-align: middle;\n",
       "    }\n",
       "\n",
       "    .dataframe tbody tr th {\n",
       "        vertical-align: top;\n",
       "    }\n",
       "\n",
       "    .dataframe thead th {\n",
       "        text-align: right;\n",
       "    }\n",
       "</style>\n",
       "<table border=\"1\" class=\"dataframe\">\n",
       "  <thead>\n",
       "    <tr style=\"text-align: right;\">\n",
       "      <th></th>\n",
       "      <th>Название</th>\n",
       "      <th>Описание</th>\n",
       "      <th>Цена</th>\n",
       "    </tr>\n",
       "  </thead>\n",
       "  <tbody>\n",
       "    <tr>\n",
       "      <th>0</th>\n",
       "      <td>Велосипеды~Горный велосипед~Alpine Bike 1000S ...</td>\n",
       "      <td>NaN</td>\n",
       "      <td>11490</td>\n",
       "    </tr>\n",
       "    <tr>\n",
       "      <th>1</th>\n",
       "      <td>Велосипеды~Детский велосипед~Alpine Bike F1 (2...</td>\n",
       "      <td>NaN</td>\n",
       "      <td>20490</td>\n",
       "    </tr>\n",
       "    <tr>\n",
       "      <th>2</th>\n",
       "      <td>Велосипеды~Горный велосипед~Stels Navigator 66...</td>\n",
       "      <td>NaN</td>\n",
       "      <td>17400</td>\n",
       "    </tr>\n",
       "    <tr>\n",
       "      <th>3</th>\n",
       "      <td>Велосипеды~Дорожный велосипед~Schwinn Alu 7 Wo...</td>\n",
       "      <td>NaN</td>\n",
       "      <td>19500</td>\n",
       "    </tr>\n",
       "    <tr>\n",
       "      <th>4</th>\n",
       "      <td>Велосипеды~Детский велосипед~Schwinn Baywood 2...</td>\n",
       "      <td>NaN</td>\n",
       "      <td>10700</td>\n",
       "    </tr>\n",
       "  </tbody>\n",
       "</table>\n",
       "</div>"
      ],
      "text/plain": [
       "                                            Название  Описание   Цена\n",
       "0  Велосипеды~Горный велосипед~Alpine Bike 1000S ...       NaN  11490\n",
       "1  Велосипеды~Детский велосипед~Alpine Bike F1 (2...       NaN  20490\n",
       "2  Велосипеды~Горный велосипед~Stels Navigator 66...       NaN  17400\n",
       "3  Велосипеды~Дорожный велосипед~Schwinn Alu 7 Wo...       NaN  19500\n",
       "4  Велосипеды~Детский велосипед~Schwinn Baywood 2...       NaN  10700"
      ]
     },
     "execution_count": 12,
     "metadata": {},
     "output_type": "execute_result"
    }
   ],
   "source": [
    "data = pd.read_excel('./data/sport/pro-bike/data_cleaned.xls')\n",
    "data.head()"
   ]
  },
  {
   "cell_type": "code",
   "execution_count": 13,
   "metadata": {},
   "outputs": [
    {
     "data": {
      "text/html": [
       "<div>\n",
       "<style scoped>\n",
       "    .dataframe tbody tr th:only-of-type {\n",
       "        vertical-align: middle;\n",
       "    }\n",
       "\n",
       "    .dataframe tbody tr th {\n",
       "        vertical-align: top;\n",
       "    }\n",
       "\n",
       "    .dataframe thead th {\n",
       "        text-align: right;\n",
       "    }\n",
       "</style>\n",
       "<table border=\"1\" class=\"dataframe\">\n",
       "  <thead>\n",
       "    <tr style=\"text-align: right;\">\n",
       "      <th></th>\n",
       "      <th>NAME</th>\n",
       "      <th>WEB</th>\n",
       "      <th>CASH_BACK_HEIGHT</th>\n",
       "      <th>TRANCHE_STMT_COUNT</th>\n",
       "      <th>OFFER_TYPE</th>\n",
       "      <th>ADVERT_TEXT</th>\n",
       "    </tr>\n",
       "  </thead>\n",
       "  <tbody>\n",
       "    <tr>\n",
       "      <th>0</th>\n",
       "      <td>Pro-bike</td>\n",
       "      <td>https://pro-bike.ru/</td>\n",
       "      <td>3</td>\n",
       "      <td>NaN</td>\n",
       "      <td>STANDARD</td>\n",
       "      <td>Pro-Bike - это специализированный велосипедный...</td>\n",
       "    </tr>\n",
       "  </tbody>\n",
       "</table>\n",
       "</div>"
      ],
      "text/plain": [
       "       NAME                   WEB  CASH_BACK_HEIGHT  TRANCHE_STMT_COUNT  \\\n",
       "0  Pro-bike  https://pro-bike.ru/                 3                 NaN   \n",
       "\n",
       "  OFFER_TYPE                                        ADVERT_TEXT  \n",
       "0   STANDARD  Pro-Bike - это специализированный велосипедный...  "
      ]
     },
     "execution_count": 13,
     "metadata": {},
     "output_type": "execute_result"
    }
   ],
   "source": [
    "meta = pd.read_excel('./data/sport/pro-bike/meta.xls')\n",
    "meta.head()"
   ]
  },
  {
   "cell_type": "code",
   "execution_count": 14,
   "metadata": {},
   "outputs": [],
   "source": [
    "fill_preset(data, meta)"
   ]
  },
  {
   "cell_type": "code",
   "execution_count": 15,
   "metadata": {
    "scrolled": false
   },
   "outputs": [],
   "source": [
    "es = ElasticsearchRanker(preset=preset)"
   ]
  },
  {
   "cell_type": "code",
   "execution_count": 93,
   "metadata": {
    "scrolled": true
   },
   "outputs": [
    {
     "data": {
      "text/plain": [
       "[{'Item': 'велосипеды~шоссейный велосипед~no title',\n",
       "  'Attributes': '',\n",
       "  'Price': 167570,\n",
       "  'Offer': 'Pro-bike',\n",
       "  'Web': 'https://pro-bike.ru/',\n",
       "  'Cashback': 3,\n",
       "  'Period': 0,\n",
       "  'Offer_type': 'STANDARD',\n",
       "  'Advert_text': 'Pro-Bike - это специализированный велосипедный интернет магазин с более чем 10-летним опытом продаж. Компания базируется в Москве и осуществляет продажи по всей России. За прошедшее время продано более 20 000 велосипедов различных типовых. Среди клиентов вы можете встретить: профессиональных спортсменов, людей увлеченных велосипедов, тех, кто выбирает велосипед в качестве транспортного средства, молодых родителей, выбирающих велосипед для себя и своих детей.'},\n",
       " {'Item': 'велосипеды~шоссейный велосипед~no title',\n",
       "  'Attributes': '',\n",
       "  'Price': 167570,\n",
       "  'Offer': 'Pro-bike',\n",
       "  'Web': 'https://pro-bike.ru/',\n",
       "  'Cashback': 3,\n",
       "  'Period': 0,\n",
       "  'Offer_type': 'STANDARD',\n",
       "  'Advert_text': 'Pro-Bike - это специализированный велосипедный интернет магазин с более чем 10-летним опытом продаж. Компания базируется в Москве и осуществляет продажи по всей России. За прошедшее время продано более 20 000 велосипедов различных типовых. Среди клиентов вы можете встретить: профессиональных спортсменов, людей увлеченных велосипедов, тех, кто выбирает велосипед в качестве транспортного средства, молодых родителей, выбирающих велосипед для себя и своих детей.'},\n",
       " {'Item': 'велосипеды / велосипеды / bmx / subrosa / велосипед subrosa tiro black 2019 /~велосипед subrosa tiro black 2019',\n",
       "  'Attributes': 'Subrosa Tiro - хороший байк, чтобы начать катать на BMX. Простой и выносливый, да еще и от бренда, который разбирается в байках и их строении. Толковая геометрия поможет учить трюки, а надежный обвес выдержит измывательства и не самое чистое катание.Рама и руль велосипеда сделаны из \"хайтен\" стали (Hi-Ten или Hi Tensile). В мире BMX - это бюджетный материал. Здорово снижает цену велосипеда по сравнению с хромомолибденом.\\xa0\\xa0А вот шток вилки и шатуны велосипеда, на которые приходится весь вес райдера, сделаны из хромомолибдена (Cr-Mo). У рамы 20.5\" ростовка, значит Subrosa Tiro 20\" будет удобен райдерам от 160 до 175см. Каретка, рулевая и задняя втулка собраны на промышленных подшипниках. Подшипники запрессовываются в свое посадочное место, защищены от грязи, не требуют регулировки и поэтому служат дольше. Передняя втулка собрана на насыпных подшипниках.Subrosa Tiro 20\" подходит для катания в скейтпарках, на земляных трамплинах и в стрите.',\n",
       "  'Price': 31990,\n",
       "  'Offer': 'double sports',\n",
       "  'Web': 'https://double-sports.ru/',\n",
       "  'Cashback': 0,\n",
       "  'Period': 6,\n",
       "  'Offer_type': 'SPECIAL_CREDIT',\n",
       "  'Advert_text': 'На покупку по кредитной карте не будут начисляться проценты, если погашать рассрочку ежемесячными платежами до даты, указанной в выписке.  Действует при оплате в интернет-магазине кредитной картой. DOUBLE SPORTS – интернет-магазин велосипедов и сноубордов ведущих европейских брендов: CUBE, SPECIALIZED, BERGAMONT и др. Большой выбор одежды, защиты и прочей экипировки.  Доставка в регионы и официальная гарантия от магазина.'},\n",
       " {'Item': 'велосипеды / велосипеды / bmx / subrosa / велосипед subrosa altus black 2019 /~велосипед subrosa altus black 2019',\n",
       "  'Attributes': 'Подростковый ВМХ, собранный на компонентах Rant и Shadow поможет концентрироваться на катании и не будет беспокоить по мелочам. Ростовка и геометрия подойдут начинающим и райдерам с небольшим ростом.Рама, вилка и руль велосипеда сделаны из \"хайтен\" стали (Hi-Ten или Hi Tensile). В мире BMX это бюджетный материал. Здорово снижает цену велосипеда по сравнению с хромомолибденом.\\xa0А вот шатуны велосипеда, на которые приходится весь вес райдера, сделаны из хромомолибдена (Cr-Mo). Задняя втулка собрана на промышленных подшипниках, остальные части вращаются на насыпных подшипниках, так как на эти узлы приходится небольшая нагрузка.Subrosa Altus 20\" подходит для катания в скейтпарках, на земляных трамплинах и в стрите. А если экстремальная составляющая наскучит, его можно использовать как удобное и нескучное средство передвижения по городу.',\n",
       "  'Price': 28990,\n",
       "  'Offer': 'double sports',\n",
       "  'Web': 'https://double-sports.ru/',\n",
       "  'Cashback': 0,\n",
       "  'Period': 6,\n",
       "  'Offer_type': 'SPECIAL_CREDIT',\n",
       "  'Advert_text': 'На покупку по кредитной карте не будут начисляться проценты, если погашать рассрочку ежемесячными платежами до даты, указанной в выписке.  Действует при оплате в интернет-магазине кредитной картой. DOUBLE SPORTS – интернет-магазин велосипедов и сноубордов ведущих европейских брендов: CUBE, SPECIALIZED, BERGAMONT и др. Большой выбор одежды, защиты и прочей экипировки.  Доставка в регионы и официальная гарантия от магазина.'},\n",
       " {'Item': 'велосипеды / велосипеды / bmx / subrosa / велосипед subrosa altus blue 2019 /~велосипед subrosa altus blue 2019',\n",
       "  'Attributes': 'Подростковый ВМХ, собранный на компонентах Rant и Shadow поможет концентрироваться на катании и не будет беспокоить по мелочам. Ростовка и геометрия подойдут начинающим и райдерам с небольшим ростом.Рама, вилка и руль велосипеда сделаны из \"хайтен\" стали (Hi-Ten или Hi Tensile). В мире BMX это бюджетный материал. Здорово снижает цену велосипеда по сравнению с хромомолибденом.\\xa0А вот шатуны велосипеда, на которые приходится весь вес райдера, сделаны из хромомолибдена (Cr-Mo). Задняя втулка собрана на промышленных подшипниках, остальные части вращаются на насыпных подшипниках, так как на эти узлы приходится небольшая нагрузка.Subrosa Altus 20\" подходит для катания в скейтпарках, на земляных трамплинах и в стрите. А если экстремальная составляющая наскучит, его можно использовать как удобное и нескучное средство передвижения по городу.',\n",
       "  'Price': 28990,\n",
       "  'Offer': 'double sports',\n",
       "  'Web': 'https://double-sports.ru/',\n",
       "  'Cashback': 0,\n",
       "  'Period': 6,\n",
       "  'Offer_type': 'SPECIAL_CREDIT',\n",
       "  'Advert_text': 'На покупку по кредитной карте не будут начисляться проценты, если погашать рассрочку ежемесячными платежами до даты, указанной в выписке.  Действует при оплате в интернет-магазине кредитной картой. DOUBLE SPORTS – интернет-магазин велосипедов и сноубордов ведущих европейских брендов: CUBE, SPECIALIZED, BERGAMONT и др. Большой выбор одежды, защиты и прочей экипировки.  Доставка в регионы и официальная гарантия от магазина.'},\n",
       " {'Item': 'велосипеды / велосипеды / городские / bearbike / велосипед bearbike paris pink 2017 /~велосипед bearbike paris pink 2017',\n",
       "  'Attributes': 'BEARBIKE Vilnius\\xa0предназначен для ежедневного передвижения по городским улицам, паркам и скверам. Модель изготовлена из легкого и прочного материала, что позволяет легко маневрировать среди машин в час пик.Ручки грипсы обеспечивают более удобный хват с рулем. Модель имеет удобное седло, а размер вела позволяет хранить его в любой квартире. Задний тормоз идет в комплекте, плюс вы можете выбрать один из трех вариантов рулей на выбор: рейзор, булхорн, баран.',\n",
       "  'Price': 23990,\n",
       "  'Offer': 'double sports',\n",
       "  'Web': 'https://double-sports.ru/',\n",
       "  'Cashback': 0,\n",
       "  'Period': 6,\n",
       "  'Offer_type': 'SPECIAL_CREDIT',\n",
       "  'Advert_text': 'На покупку по кредитной карте не будут начисляться проценты, если погашать рассрочку ежемесячными платежами до даты, указанной в выписке.  Действует при оплате в интернет-магазине кредитной картой. DOUBLE SPORTS – интернет-магазин велосипедов и сноубордов ведущих европейских брендов: CUBE, SPECIALIZED, BERGAMONT и др. Большой выбор одежды, защиты и прочей экипировки.  Доставка в регионы и официальная гарантия от магазина.'},\n",
       " {'Item': 'велосипеды / велосипеды / городские / bearbike / велосипед bearbike paris pink 2017 /~велосипед bearbike paris pink 2017',\n",
       "  'Attributes': 'BEARBIKE Vilnius\\xa0предназначен для ежедневного передвижения по городским улицам, паркам и скверам. Модель изготовлена из легкого и прочного материала, что позволяет легко маневрировать среди машин в час пик.Ручки грипсы обеспечивают более удобный хват с рулем. Модель имеет удобное седло, а размер вела позволяет хранить его в любой квартире. Задний тормоз идет в комплекте, плюс вы можете выбрать один из трех вариантов рулей на выбор: рейзор, булхорн, баран.',\n",
       "  'Price': 23990,\n",
       "  'Offer': 'double sports',\n",
       "  'Web': 'https://double-sports.ru/',\n",
       "  'Cashback': 0,\n",
       "  'Period': 6,\n",
       "  'Offer_type': 'SPECIAL_CREDIT',\n",
       "  'Advert_text': 'На покупку по кредитной карте не будут начисляться проценты, если погашать рассрочку ежемесячными платежами до даты, указанной в выписке.  Действует при оплате в интернет-магазине кредитной картой. DOUBLE SPORTS – интернет-магазин велосипедов и сноубордов ведущих европейских брендов: CUBE, SPECIALIZED, BERGAMONT и др. Большой выбор одежды, защиты и прочей экипировки.  Доставка в регионы и официальная гарантия от магазина.'},\n",
       " {'Item': 'велосипеды / велосипеды / туринги / author / велосипед author ronin red 2019 /~велосипед author ronin red 2019',\n",
       "  'Attributes': 'Хромолевый грэвел (gravel) Author RONIN 2019 года доступен по предзаказу. Комфорт в длительных поездках обеспечивается за счет использования относительно мягкой хромомолибденовой рамы с тройным баттингом и вилки 700C. Качественная трансмиссия Shimano Tiagra 20 скоростей позволит легко преодолевать любые рельефы местности. На велосипеде установлены дисковые механические тормоза, на раме и вилке есть много точек крепления для багажников, крыльев, фляжек. Вес велосипеда 11,9 кг.Author RONIN - отличный вариант для катания как по проселочным дорогам, так и городским улицам.\\xa0 Велосипед может использоваться и как \"внедорожный\" шоссейник, на котором совершенно спокойно можно ехать по разбитому асфальту, гравийной дороге или лесной тропе с корнями, и как туристический велосипед для дальних поездок с багажником и велорюкзаком.',\n",
       "  'Price': 84000,\n",
       "  'Offer': 'double sports',\n",
       "  'Web': 'https://double-sports.ru/',\n",
       "  'Cashback': 0,\n",
       "  'Period': 6,\n",
       "  'Offer_type': 'SPECIAL_CREDIT',\n",
       "  'Advert_text': 'На покупку по кредитной карте не будут начисляться проценты, если погашать рассрочку ежемесячными платежами до даты, указанной в выписке.  Действует при оплате в интернет-магазине кредитной картой. DOUBLE SPORTS – интернет-магазин велосипедов и сноубордов ведущих европейских брендов: CUBE, SPECIALIZED, BERGAMONT и др. Большой выбор одежды, защиты и прочей экипировки.  Доставка в регионы и официальная гарантия от магазина.'},\n",
       " {'Item': 'велосипеды / велосипеды / детские / pride / велосипед pride flash yellow 2018 /~велосипед pride flash yellow 2018',\n",
       "  'Attributes': 'PRIDE Flash 16 — это детский велосипед, который станет отличным подарком для юного райдера. Привлекательный внешний вид станет большим поводом для радости малыша, а качественная сборка и надёжные детали станут решающим моментом при выборе для родителей.Руль и сиденье на этом велосипеде регулируются в зависимости от роста ребёнка, а значит по мере роста не придётся сразу же покупать другой велосипед.\\xa0Дополнительные боковые колеса делают велосипед более устойчивым и не дадут ребенку упасть во время катания.',\n",
       "  'Price': 11500,\n",
       "  'Offer': 'double sports',\n",
       "  'Web': 'https://double-sports.ru/',\n",
       "  'Cashback': 0,\n",
       "  'Period': 6,\n",
       "  'Offer_type': 'SPECIAL_CREDIT',\n",
       "  'Advert_text': 'На покупку по кредитной карте не будут начисляться проценты, если погашать рассрочку ежемесячными платежами до даты, указанной в выписке.  Действует при оплате в интернет-магазине кредитной картой. DOUBLE SPORTS – интернет-магазин велосипедов и сноубордов ведущих европейских брендов: CUBE, SPECIALIZED, BERGAMONT и др. Большой выбор одежды, защиты и прочей экипировки.  Доставка в регионы и официальная гарантия от магазина.'},\n",
       " {'Item': 'велосипеды / велосипеды / bmx / kink / велосипед kink gap chrome 2019 /~велосипед kink gap chrome 2019',\n",
       "  'Attributes': 'Kink Gap 2019 - это универсальная машина, которая справится с любыми сложностями. Благодаря современной геометрии рамы, вилке из смеси 4130 хрома Gap в самом хромовом цвете не останется незамеченным.Мало того, что BMX будет выглядеть как конфета, в нем еще заложены 9-дюймовые стержни Kink Grizzly CC, вилы Kink Stryker, ножка Kink Bold HRD, герметичная втулка кассеты Mission Engage и трехкомпонентные хромированные рукоятки Kink Ridge. Не следует упускать из виду добавление сиденья Pivotal и специальный подседел, чтобы настроить байк на идеальную совместимость.',\n",
       "  'Price': 37990,\n",
       "  'Offer': 'double sports',\n",
       "  'Web': 'https://double-sports.ru/',\n",
       "  'Cashback': 0,\n",
       "  'Period': 6,\n",
       "  'Offer_type': 'SPECIAL_CREDIT',\n",
       "  'Advert_text': 'На покупку по кредитной карте не будут начисляться проценты, если погашать рассрочку ежемесячными платежами до даты, указанной в выписке.  Действует при оплате в интернет-магазине кредитной картой. DOUBLE SPORTS – интернет-магазин велосипедов и сноубордов ведущих европейских брендов: CUBE, SPECIALIZED, BERGAMONT и др. Большой выбор одежды, защиты и прочей экипировки.  Доставка в регионы и официальная гарантия от магазина.'}]"
      ]
     },
     "execution_count": 93,
     "metadata": {},
     "output_type": "execute_result"
    }
   ],
   "source": [
    "ranking = es.rank(\n",
    "    {\n",
    "        'Item': 'велосипед',\n",
    "        'Attributes': '',\n",
    "        'Price_from': 0,\n",
    "        'Price_to': 1000000,\n",
    "        'Cashback': 0\n",
    "    }\n",
    ")\n",
    "ranking"
   ]
  },
  {
   "cell_type": "code",
   "execution_count": 94,
   "metadata": {},
   "outputs": [],
   "source": [
    "ranking = [r for r in ranking if 'Offer' in r]"
   ]
  },
  {
   "cell_type": "code",
   "execution_count": 95,
   "metadata": {},
   "outputs": [
    {
     "data": {
      "text/plain": [
       "{'Pro-bike', 'double sports'}"
      ]
     },
     "execution_count": 95,
     "metadata": {},
     "output_type": "execute_result"
    }
   ],
   "source": [
    "unique_offers = {product['Offer'] for product in ranking}\n",
    "offers = unique_offers\n",
    "offers"
   ]
  },
  {
   "cell_type": "code",
   "execution_count": 96,
   "metadata": {},
   "outputs": [],
   "source": [
    "import itertools as it\n",
    "\n",
    "s = [\n",
    "    {\n",
    "        'offer': offer,\n",
    "        'products': list(products),  # here we can return shorten information about the \n",
    "                                    # products or only links to them\n",
    "    }\n",
    "    for offer, products in it.groupby(ranking, key=lambda product: product['Offer'])\n",
    "]"
   ]
  },
  {
   "cell_type": "code",
   "execution_count": 99,
   "metadata": {},
   "outputs": [
    {
     "data": {
      "text/plain": [
       "['Pro-bike', 'double sports']"
      ]
     },
     "execution_count": 99,
     "metadata": {},
     "output_type": "execute_result"
    }
   ],
   "source": [
    "[ss['offer'] for ss in s]"
   ]
  }
 ],
 "metadata": {
  "kernelspec": {
   "display_name": "Python 3",
   "language": "python",
   "name": "python3"
  },
  "language_info": {
   "codemirror_mode": {
    "name": "ipython",
    "version": 3
   },
   "file_extension": ".py",
   "mimetype": "text/x-python",
   "name": "python",
   "nbconvert_exporter": "python",
   "pygments_lexer": "ipython3",
   "version": "3.6.7"
  }
 },
 "nbformat": 4,
 "nbformat_minor": 2
}
