{
 "cells": [
  {
   "cell_type": "code",
   "execution_count": 1,
   "metadata": {},
   "outputs": [],
   "source": [
    "import pandas as pd\n",
    "import numpy as np"
   ]
  },
  {
   "cell_type": "code",
   "execution_count": 2,
   "metadata": {
    "scrolled": true
   },
   "outputs": [
    {
     "name": "stdout",
     "output_type": "stream",
     "text": [
      "(384, 6)\n"
     ]
    },
    {
     "data": {
      "text/html": [
       "<div>\n",
       "<style scoped>\n",
       "    .dataframe tbody tr th:only-of-type {\n",
       "        vertical-align: middle;\n",
       "    }\n",
       "\n",
       "    .dataframe tbody tr th {\n",
       "        vertical-align: top;\n",
       "    }\n",
       "\n",
       "    .dataframe thead th {\n",
       "        text-align: right;\n",
       "    }\n",
       "</style>\n",
       "<table border=\"1\" class=\"dataframe\">\n",
       "  <thead>\n",
       "    <tr style=\"text-align: right;\">\n",
       "      <th></th>\n",
       "      <th>NAME</th>\n",
       "      <th>WEB</th>\n",
       "      <th>CASH_BACK_HEIGHT</th>\n",
       "      <th>TRANCHE_STMT_COUNT</th>\n",
       "      <th>OFFER_TYPE</th>\n",
       "      <th>ADVERT_TEXT</th>\n",
       "    </tr>\n",
       "  </thead>\n",
       "  <tbody>\n",
       "    <tr>\n",
       "      <th>0</th>\n",
       "      <td>ANEX Tour</td>\n",
       "      <td>https://www.anextour.com/</td>\n",
       "      <td>0</td>\n",
       "      <td>6.0</td>\n",
       "      <td>SPECIAL_CREDIT</td>\n",
       "      <td>На покупку по кредитной карте не будут начисля...</td>\n",
       "    </tr>\n",
       "    <tr>\n",
       "      <th>1</th>\n",
       "      <td>Гостиница Альфа</td>\n",
       "      <td>http://www.alfa-hotel.ru/</td>\n",
       "      <td>15</td>\n",
       "      <td>NaN</td>\n",
       "      <td>STANDARD</td>\n",
       "      <td>Гостиница Альфа 4* – разумный выбор для отдыха...</td>\n",
       "    </tr>\n",
       "    <tr>\n",
       "      <th>2</th>\n",
       "      <td>MirCli</td>\n",
       "      <td>https://mircli.ru/?utm_source=Tinkoff&amp;utm_medi...</td>\n",
       "      <td>0</td>\n",
       "      <td>4.0</td>\n",
       "      <td>SPECIAL_CREDIT</td>\n",
       "      <td>На покупку по кредитной карте не будут начисля...</td>\n",
       "    </tr>\n",
       "    <tr>\n",
       "      <th>3</th>\n",
       "      <td>MIXIT</td>\n",
       "      <td>https://mixit.ru</td>\n",
       "      <td>10</td>\n",
       "      <td>NaN</td>\n",
       "      <td>STANDARD</td>\n",
       "      <td>MIXIT - лаборатория современной косметики. Это...</td>\n",
       "    </tr>\n",
       "    <tr>\n",
       "      <th>4</th>\n",
       "      <td>Tinkoff.Travel совместно с Booking.com</td>\n",
       "      <td>https://travel.tinkoff.ru/hotels/?utm_source=p...</td>\n",
       "      <td>10</td>\n",
       "      <td>NaN</td>\n",
       "      <td>STANDARD</td>\n",
       "      <td>Бронирование отелей через Тинькофф Путешествия...</td>\n",
       "    </tr>\n",
       "  </tbody>\n",
       "</table>\n",
       "</div>"
      ],
      "text/plain": [
       "                                     NAME  \\\n",
       "0                               ANEX Tour   \n",
       "1                         Гостиница Альфа   \n",
       "2                                  MirCli   \n",
       "3                                   MIXIT   \n",
       "4  Tinkoff.Travel совместно с Booking.com   \n",
       "\n",
       "                                                 WEB  CASH_BACK_HEIGHT  \\\n",
       "0                          https://www.anextour.com/                 0   \n",
       "1                          http://www.alfa-hotel.ru/                15   \n",
       "2  https://mircli.ru/?utm_source=Tinkoff&utm_medi...                 0   \n",
       "3                                   https://mixit.ru                10   \n",
       "4  https://travel.tinkoff.ru/hotels/?utm_source=p...                10   \n",
       "\n",
       "   TRANCHE_STMT_COUNT      OFFER_TYPE  \\\n",
       "0                 6.0  SPECIAL_CREDIT   \n",
       "1                 NaN        STANDARD   \n",
       "2                 4.0  SPECIAL_CREDIT   \n",
       "3                 NaN        STANDARD   \n",
       "4                 NaN        STANDARD   \n",
       "\n",
       "                                         ADVERT_TEXT  \n",
       "0  На покупку по кредитной карте не будут начисля...  \n",
       "1  Гостиница Альфа 4* – разумный выбор для отдыха...  \n",
       "2  На покупку по кредитной карте не будут начисля...  \n",
       "3  MIXIT - лаборатория современной косметики. Это...  \n",
       "4  Бронирование отелей через Тинькофф Путешествия...  "
      ]
     },
     "execution_count": 2,
     "metadata": {},
     "output_type": "execute_result"
    }
   ],
   "source": [
    "data = pd.read_excel('./current_offers.xlsx')\n",
    "print(data.shape)\n",
    "data.head()"
   ]
  },
  {
   "cell_type": "code",
   "execution_count": 3,
   "metadata": {},
   "outputs": [
    {
     "data": {
      "text/plain": [
       "(370, 6)"
      ]
     },
     "execution_count": 3,
     "metadata": {},
     "output_type": "execute_result"
    }
   ],
   "source": [
    "data = data[~data['WEB'].isna()]\n",
    "data.shape"
   ]
  },
  {
   "cell_type": "code",
   "execution_count": 4,
   "metadata": {},
   "outputs": [
    {
     "data": {
      "text/plain": [
       "(357, 6)"
      ]
     },
     "execution_count": 4,
     "metadata": {},
     "output_type": "execute_result"
    }
   ],
   "source": [
    "data = data[~((data['CASH_BACK_HEIGHT'] == 0) & (data['OFFER_TYPE'] != 'SPECIAL_CREDIT'))]\n",
    "data.shape"
   ]
  },
  {
   "cell_type": "code",
   "execution_count": 5,
   "metadata": {},
   "outputs": [],
   "source": [
    "def unique(data, cols):\n",
    "    new_data = []\n",
    "    for gr in data.groupby('NAME'):    \n",
    "        gr = gr[1]\n",
    "        gr = gr.drop_duplicates(subset=cols)\n",
    "\n",
    "        if len(gr) > 1:\n",
    "            if len(gr['OFFER_TYPE'].unique()) == 1:\n",
    "                gr = gr[gr['CASH_BACK_HEIGHT'] == gr['CASH_BACK_HEIGHT'].max()]\n",
    "            else:\n",
    "                gr1 = gr[gr['CASH_BACK_HEIGHT'] == gr['CASH_BACK_HEIGHT'].max()]\n",
    "                gr2 = gr[gr['OFFER_TYPE'] == 'SPECIAL_CREDIT']\n",
    "                gr = pd.concat([gr1, gr2])\n",
    "\n",
    "        assert len(gr) <= 2\n",
    "\n",
    "        new_data.append(gr)\n",
    "\n",
    "    return pd.concat(new_data).sort_index()"
   ]
  },
  {
   "cell_type": "code",
   "execution_count": 6,
   "metadata": {},
   "outputs": [
    {
     "data": {
      "text/plain": [
       "(350, 6)"
      ]
     },
     "execution_count": 6,
     "metadata": {},
     "output_type": "execute_result"
    }
   ],
   "source": [
    "data = unique(data, cols=['CASH_BACK_HEIGHT'])\n",
    "data.shape"
   ]
  },
  {
   "cell_type": "code",
   "execution_count": 7,
   "metadata": {},
   "outputs": [
    {
     "name": "stdout",
     "output_type": "stream",
     "text": [
      "(688, 7)\n"
     ]
    },
    {
     "data": {
      "text/html": [
       "<div>\n",
       "<style scoped>\n",
       "    .dataframe tbody tr th:only-of-type {\n",
       "        vertical-align: middle;\n",
       "    }\n",
       "\n",
       "    .dataframe tbody tr th {\n",
       "        vertical-align: top;\n",
       "    }\n",
       "\n",
       "    .dataframe thead th {\n",
       "        text-align: right;\n",
       "    }\n",
       "</style>\n",
       "<table border=\"1\" class=\"dataframe\">\n",
       "  <thead>\n",
       "    <tr style=\"text-align: right;\">\n",
       "      <th></th>\n",
       "      <th>OFFER_ID</th>\n",
       "      <th>NAME</th>\n",
       "      <th>CASH_BACK_HEIGHT</th>\n",
       "      <th>TRANCHE_STMT_COUNT</th>\n",
       "      <th>OFFER_TYPE</th>\n",
       "      <th>ADVERT_TEXT</th>\n",
       "      <th>CATEGORY_NAME</th>\n",
       "    </tr>\n",
       "  </thead>\n",
       "  <tbody>\n",
       "    <tr>\n",
       "      <th>0</th>\n",
       "      <td>5352</td>\n",
       "      <td>Tinkoff.Travel совместно с Rentalcars</td>\n",
       "      <td>0</td>\n",
       "      <td>NaN</td>\n",
       "      <td>STANDARD</td>\n",
       "      <td>Аренда автомобилей через Тинькофф Путешествия ...</td>\n",
       "      <td>Каникулы в Сочи</td>\n",
       "    </tr>\n",
       "    <tr>\n",
       "      <th>1</th>\n",
       "      <td>5352</td>\n",
       "      <td>Tinkoff.Travel совместно с Rentalcars</td>\n",
       "      <td>0</td>\n",
       "      <td>NaN</td>\n",
       "      <td>STANDARD</td>\n",
       "      <td>Аренда автомобилей через Тинькофф Путешествия ...</td>\n",
       "      <td>Путешествия</td>\n",
       "    </tr>\n",
       "    <tr>\n",
       "      <th>2</th>\n",
       "      <td>5354</td>\n",
       "      <td>Tinkoff.Travel совместно с Booking.com</td>\n",
       "      <td>10</td>\n",
       "      <td>NaN</td>\n",
       "      <td>STANDARD</td>\n",
       "      <td>Бронирование отелей через Тинькофф Путешествия...</td>\n",
       "      <td>Каникулы в Сочи</td>\n",
       "    </tr>\n",
       "    <tr>\n",
       "      <th>3</th>\n",
       "      <td>5354</td>\n",
       "      <td>Tinkoff.Travel совместно с Booking.com</td>\n",
       "      <td>10</td>\n",
       "      <td>NaN</td>\n",
       "      <td>STANDARD</td>\n",
       "      <td>Бронирование отелей через Тинькофф Путешествия...</td>\n",
       "      <td>Путешествия</td>\n",
       "    </tr>\n",
       "    <tr>\n",
       "      <th>4</th>\n",
       "      <td>5515</td>\n",
       "      <td>Gett</td>\n",
       "      <td>10</td>\n",
       "      <td>NaN</td>\n",
       "      <td>STANDARD</td>\n",
       "      <td>Gett — один из мировых лидеров заказа такси. С...</td>\n",
       "      <td>Для детей</td>\n",
       "    </tr>\n",
       "  </tbody>\n",
       "</table>\n",
       "</div>"
      ],
      "text/plain": [
       "   OFFER_ID                                    NAME  CASH_BACK_HEIGHT  \\\n",
       "0      5352   Tinkoff.Travel совместно с Rentalcars                 0   \n",
       "1      5352   Tinkoff.Travel совместно с Rentalcars                 0   \n",
       "2      5354  Tinkoff.Travel совместно с Booking.com                10   \n",
       "3      5354  Tinkoff.Travel совместно с Booking.com                10   \n",
       "4      5515                                    Gett                10   \n",
       "\n",
       "   TRANCHE_STMT_COUNT OFFER_TYPE  \\\n",
       "0                 NaN   STANDARD   \n",
       "1                 NaN   STANDARD   \n",
       "2                 NaN   STANDARD   \n",
       "3                 NaN   STANDARD   \n",
       "4                 NaN   STANDARD   \n",
       "\n",
       "                                         ADVERT_TEXT    CATEGORY_NAME  \n",
       "0  Аренда автомобилей через Тинькофф Путешествия ...  Каникулы в Сочи  \n",
       "1  Аренда автомобилей через Тинькофф Путешествия ...      Путешествия  \n",
       "2  Бронирование отелей через Тинькофф Путешествия...  Каникулы в Сочи  \n",
       "3  Бронирование отелей через Тинькофф Путешествия...      Путешествия  \n",
       "4  Gett — один из мировых лидеров заказа такси. С...        Для детей  "
      ]
     },
     "execution_count": 7,
     "metadata": {},
     "output_type": "execute_result"
    }
   ],
   "source": [
    "web = pd.read_excel('./offers_with_categories.xlsx')\n",
    "print(web.shape)\n",
    "web.head()"
   ]
  },
  {
   "cell_type": "code",
   "execution_count": 8,
   "metadata": {},
   "outputs": [
    {
     "data": {
      "text/plain": [
       "(72, 7)"
      ]
     },
     "execution_count": 8,
     "metadata": {},
     "output_type": "execute_result"
    }
   ],
   "source": [
    "web = web[(web['CATEGORY_NAME'] == 'Спорт') | (web['CATEGORY_NAME'] == 'Еда и продукты')]\n",
    "web.shape"
   ]
  },
  {
   "cell_type": "code",
   "execution_count": 9,
   "metadata": {},
   "outputs": [
    {
     "data": {
      "text/plain": [
       "(72, 7)"
      ]
     },
     "execution_count": 9,
     "metadata": {},
     "output_type": "execute_result"
    }
   ],
   "source": [
    "web = web[~web['CATEGORY_NAME'].isna()]\n",
    "web.shape"
   ]
  },
  {
   "cell_type": "code",
   "execution_count": 10,
   "metadata": {},
   "outputs": [
    {
     "data": {
      "text/plain": [
       "(63, 7)"
      ]
     },
     "execution_count": 10,
     "metadata": {},
     "output_type": "execute_result"
    }
   ],
   "source": [
    "web = web[~((web['CASH_BACK_HEIGHT'] == 0) & (web['OFFER_TYPE'] != 'SPECIAL_CREDIT'))]\n",
    "web.shape"
   ]
  },
  {
   "cell_type": "code",
   "execution_count": 11,
   "metadata": {},
   "outputs": [
    {
     "data": {
      "text/plain": [
       "(59, 7)"
      ]
     },
     "execution_count": 11,
     "metadata": {},
     "output_type": "execute_result"
    }
   ],
   "source": [
    "web = unique(web, cols=['CASH_BACK_HEIGHT', 'CATEGORY_NAME'])\n",
    "web.shape"
   ]
  },
  {
   "cell_type": "code",
   "execution_count": 12,
   "metadata": {},
   "outputs": [],
   "source": [
    "def merge(cat):\n",
    "    offer_with_cats = []\n",
    "    for _, row in data.iterrows():\n",
    "        cats = web[web['NAME'] == row['NAME']]\n",
    "        cats = cats[cats['CATEGORY_NAME'] == cat]\n",
    "        if len(cats) == 0:\n",
    "            continue\n",
    "\n",
    "        assert len(cats) == 1 or (len(cats) == 2 and len(cats['OFFER_TYPE'].unique()) == 2), cats\n",
    "        offer_with_cats.append(row)\n",
    "        \n",
    "    return pd.DataFrame(offer_with_cats)"
   ]
  },
  {
   "cell_type": "code",
   "execution_count": 13,
   "metadata": {},
   "outputs": [
    {
     "data": {
      "text/plain": [
       "((350, 6), (59, 7))"
      ]
     },
     "execution_count": 13,
     "metadata": {},
     "output_type": "execute_result"
    }
   ],
   "source": [
    "data.shape, web.shape"
   ]
  },
  {
   "cell_type": "code",
   "execution_count": 14,
   "metadata": {},
   "outputs": [
    {
     "data": {
      "text/plain": [
       "(29, 6)"
      ]
     },
     "execution_count": 14,
     "metadata": {},
     "output_type": "execute_result"
    }
   ],
   "source": [
    "sport = merge('Спорт')\n",
    "sport.shape"
   ]
  },
  {
   "cell_type": "code",
   "execution_count": 15,
   "metadata": {},
   "outputs": [],
   "source": [
    "sport.to_excel('sport.xls', index=False)"
   ]
  },
  {
   "cell_type": "code",
   "execution_count": 16,
   "metadata": {},
   "outputs": [
    {
     "data": {
      "text/plain": [
       "29"
      ]
     },
     "execution_count": 16,
     "metadata": {},
     "output_type": "execute_result"
    }
   ],
   "source": [
    "eda = merge('Еда и продукты')\n",
    "len(eda)"
   ]
  },
  {
   "cell_type": "code",
   "execution_count": 17,
   "metadata": {},
   "outputs": [],
   "source": [
    "eda.to_excel('food.xls', index=False)"
   ]
  },
  {
   "cell_type": "code",
   "execution_count": 18,
   "metadata": {},
   "outputs": [],
   "source": [
    "names = np.intersect1d(sport['NAME'], eda['NAME'])\n",
    "d = []\n",
    "for name in names:\n",
    "    d.append(sport[sport['NAME'] == name])\n",
    "pd.concat(d).to_excel('intersect.xls', index=False)"
   ]
  }
 ],
 "metadata": {
  "kernelspec": {
   "display_name": "Python 3",
   "language": "python",
   "name": "python3"
  },
  "language_info": {
   "codemirror_mode": {
    "name": "ipython",
    "version": 3
   },
   "file_extension": ".py",
   "mimetype": "text/x-python",
   "name": "python",
   "nbconvert_exporter": "python",
   "pygments_lexer": "ipython3",
   "version": "3.6.7"
  }
 },
 "nbformat": 4,
 "nbformat_minor": 2
}
