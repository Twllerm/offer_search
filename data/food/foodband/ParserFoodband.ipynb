{
 "cells": [
  {
   "cell_type": "code",
   "execution_count": 78,
   "metadata": {},
   "outputs": [],
   "source": [
    "from bs4 import BeautifulSoup\n",
    "import requests\n",
    "import xlwt\n"
   ]
  },
  {
   "cell_type": "code",
   "execution_count": 81,
   "metadata": {},
   "outputs": [],
   "source": [
    "websitesToStuff = {\n",
    "    \"https://foodband.ru/pizza/\":\"пицца\",\n",
    "    \"https://foodband.ru/wok/\":\"вок\",\n",
    "    \"https://foodband.ru/salaty/\":\"салат\",\n",
    "    \"https://foodband.ru/supy/\":\"суп\",\n",
    "    \"https://foodband.ru/sushi/\":\"суши\",\n",
    "    \"https://foodband.ru/sety/\":\"сет\",\n",
    "    \"https://foodband.ru/zakuski/\":\"закуска\",\n",
    "    \"https://foodband.ru/deserty/\":\"десерт\",\n",
    "    \"https://foodband.ru/napitki/\":\"напиток\"\n",
    "}\n"
   ]
  },
  {
   "cell_type": "code",
   "execution_count": 88,
   "metadata": {},
   "outputs": [
    {
     "name": "stderr",
     "output_type": "stream",
     "text": [
      "/home/artem/.local/lib/python3.6/site-packages/urllib3/connectionpool.py:847: InsecureRequestWarning: Unverified HTTPS request is being made. Adding certificate verification is strongly advised. See: https://urllib3.readthedocs.io/en/latest/advanced-usage.html#ssl-warnings\n",
      "  InsecureRequestWarning)\n",
      "/home/artem/.local/lib/python3.6/site-packages/urllib3/connectionpool.py:847: InsecureRequestWarning: Unverified HTTPS request is being made. Adding certificate verification is strongly advised. See: https://urllib3.readthedocs.io/en/latest/advanced-usage.html#ssl-warnings\n",
      "  InsecureRequestWarning)\n",
      "/home/artem/.local/lib/python3.6/site-packages/urllib3/connectionpool.py:847: InsecureRequestWarning: Unverified HTTPS request is being made. Adding certificate verification is strongly advised. See: https://urllib3.readthedocs.io/en/latest/advanced-usage.html#ssl-warnings\n",
      "  InsecureRequestWarning)\n",
      "/home/artem/.local/lib/python3.6/site-packages/urllib3/connectionpool.py:847: InsecureRequestWarning: Unverified HTTPS request is being made. Adding certificate verification is strongly advised. See: https://urllib3.readthedocs.io/en/latest/advanced-usage.html#ssl-warnings\n",
      "  InsecureRequestWarning)\n",
      "/home/artem/.local/lib/python3.6/site-packages/urllib3/connectionpool.py:847: InsecureRequestWarning: Unverified HTTPS request is being made. Adding certificate verification is strongly advised. See: https://urllib3.readthedocs.io/en/latest/advanced-usage.html#ssl-warnings\n",
      "  InsecureRequestWarning)\n",
      "/home/artem/.local/lib/python3.6/site-packages/urllib3/connectionpool.py:847: InsecureRequestWarning: Unverified HTTPS request is being made. Adding certificate verification is strongly advised. See: https://urllib3.readthedocs.io/en/latest/advanced-usage.html#ssl-warnings\n",
      "  InsecureRequestWarning)\n",
      "/home/artem/.local/lib/python3.6/site-packages/urllib3/connectionpool.py:847: InsecureRequestWarning: Unverified HTTPS request is being made. Adding certificate verification is strongly advised. See: https://urllib3.readthedocs.io/en/latest/advanced-usage.html#ssl-warnings\n",
      "  InsecureRequestWarning)\n",
      "/home/artem/.local/lib/python3.6/site-packages/urllib3/connectionpool.py:847: InsecureRequestWarning: Unverified HTTPS request is being made. Adding certificate verification is strongly advised. See: https://urllib3.readthedocs.io/en/latest/advanced-usage.html#ssl-warnings\n",
      "  InsecureRequestWarning)\n",
      "/home/artem/.local/lib/python3.6/site-packages/urllib3/connectionpool.py:847: InsecureRequestWarning: Unverified HTTPS request is being made. Adding certificate verification is strongly advised. See: https://urllib3.readthedocs.io/en/latest/advanced-usage.html#ssl-warnings\n",
      "  InsecureRequestWarning)\n"
     ]
    }
   ],
   "source": [
    "book = xlwt.Workbook()\n",
    "sheet = book.add_sheet(\"PySheet1\")\n",
    "sheet.write(0, 0, \"Название\")\n",
    "sheet.write(0, 1, \"Цена\")\n",
    "sheet.write(0, 2, \"Описание\")\n",
    "\n",
    "k = 1\n",
    "for website, stuff in websitesToStuff.items():\n",
    "    page = requests.get(website, verify=False)\n",
    "    soup = BeautifulSoup(page.content, \"lxml\")\n",
    "    relevant = soup.find(\"div\", {\"id\": \"catalog-list\"})\n",
    "    lines=relevant.find_all(\"div\", {\"class\", \"clearfix\"})\n",
    "\n",
    "    for line in lines:\n",
    "        dishes=line.find_all(\"div\", {\"class\", \"wrapper\"})\n",
    "        for dish in dishes:\n",
    "            ar=dish.find_all(\"a\")\n",
    "            pr=dish.find_all(\"p\", {\"itemprop\":\"description\"})\n",
    "            name=ar[-1]['data-name']\n",
    "            price=ar[-1]['data-price']\n",
    "            desc=pr[0].text\n",
    "            sheet.write(k, 0, name)\n",
    "            sheet.write(k, 1, price)\n",
    "            sheet.write(k, 2, desc)\n",
    "            k+=1\n",
    "           # print(name,price,desc)\n",
    "\n",
    "            #print(dish)\n",
    "            #break\n",
    "        #break\n",
    "    #break\n",
    "    #print(len(atr))\n",
    "    burgers=soup.body.find_all(\"figcaption\")\n",
    "    for burger in burgers:\n",
    "        #print(burger.h2.getText)\n",
    "        #print(dir(burger.h2.))\n",
    "        if burger.h2:\n",
    "            print(burger.h2.text)\n",
    "            \n",
    "book.save(\"foodband.xls\")\n"
   ]
  },
  {
   "cell_type": "code",
   "execution_count": null,
   "metadata": {},
   "outputs": [],
   "source": []
  }
 ],
 "metadata": {
  "kernelspec": {
   "display_name": "Python 3",
   "language": "python",
   "name": "python3"
  },
  "language_info": {
   "codemirror_mode": {
    "name": "ipython",
    "version": 3
   },
   "file_extension": ".py",
   "mimetype": "text/x-python",
   "name": "python",
   "nbconvert_exporter": "python",
   "pygments_lexer": "ipython3",
   "version": "3.6.7"
  }
 },
 "nbformat": 4,
 "nbformat_minor": 2
}
