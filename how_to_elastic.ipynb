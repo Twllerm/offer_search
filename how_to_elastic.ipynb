{
 "cells": [
  {
   "cell_type": "code",
   "execution_count": 1,
   "metadata": {},
   "outputs": [],
   "source": [
    "%load_ext autoreload\n",
    "%autoreload 2"
   ]
  },
  {
   "cell_type": "code",
   "execution_count": 2,
   "metadata": {},
   "outputs": [],
   "source": [
    "from offer_search.ranking.elasticsearch import ElasticsearchRanker"
   ]
  },
  {
   "cell_type": "code",
   "execution_count": 3,
   "metadata": {},
   "outputs": [],
   "source": [
    "import pandas as pd"
   ]
  },
  {
   "cell_type": "code",
   "execution_count": 4,
   "metadata": {},
   "outputs": [
    {
     "data": {
      "text/html": [
       "<div>\n",
       "<style scoped>\n",
       "    .dataframe tbody tr th:only-of-type {\n",
       "        vertical-align: middle;\n",
       "    }\n",
       "\n",
       "    .dataframe tbody tr th {\n",
       "        vertical-align: top;\n",
       "    }\n",
       "\n",
       "    .dataframe thead th {\n",
       "        text-align: right;\n",
       "    }\n",
       "</style>\n",
       "<table border=\"1\" class=\"dataframe\">\n",
       "  <thead>\n",
       "    <tr style=\"text-align: right;\">\n",
       "      <th></th>\n",
       "      <th>Название</th>\n",
       "      <th>Описание</th>\n",
       "      <th>Цена</th>\n",
       "    </tr>\n",
       "  </thead>\n",
       "  <tbody>\n",
       "    <tr>\n",
       "      <th>0</th>\n",
       "      <td>Велосипеды / Велосипеды / Туринги / AUTHOR / В...</td>\n",
       "      <td>Хромолевый грэвел (gravel) Author RONIN 2019 г...</td>\n",
       "      <td>84000</td>\n",
       "    </tr>\n",
       "    <tr>\n",
       "      <th>1</th>\n",
       "      <td>Велосипеды / Велосипеды / Горные / BERGAMONT /...</td>\n",
       "      <td>Универсальный горный велосипед, который отличн...</td>\n",
       "      <td>43450</td>\n",
       "    </tr>\n",
       "    <tr>\n",
       "      <th>2</th>\n",
       "      <td>Велосипеды / Велосипеды / Горные / BERGAMONT /...</td>\n",
       "      <td>Универсальный горный велосипед, который отличн...</td>\n",
       "      <td>43450</td>\n",
       "    </tr>\n",
       "    <tr>\n",
       "      <th>3</th>\n",
       "      <td>Велосипеды / Велосипеды / Горные / BERGAMONT /...</td>\n",
       "      <td>В 2018 году компания Bergamont решила объедини...</td>\n",
       "      <td>43450</td>\n",
       "    </tr>\n",
       "    <tr>\n",
       "      <th>4</th>\n",
       "      <td>Велосипеды / Велосипеды / Горные / BERGAMONT /...</td>\n",
       "      <td>В 2018 году компания Bergamont решила объедини...</td>\n",
       "      <td>43450</td>\n",
       "    </tr>\n",
       "  </tbody>\n",
       "</table>\n",
       "</div>"
      ],
      "text/plain": [
       "                                            Название  \\\n",
       "0  Велосипеды / Велосипеды / Туринги / AUTHOR / В...   \n",
       "1  Велосипеды / Велосипеды / Горные / BERGAMONT /...   \n",
       "2  Велосипеды / Велосипеды / Горные / BERGAMONT /...   \n",
       "3  Велосипеды / Велосипеды / Горные / BERGAMONT /...   \n",
       "4  Велосипеды / Велосипеды / Горные / BERGAMONT /...   \n",
       "\n",
       "                                            Описание   Цена  \n",
       "0  Хромолевый грэвел (gravel) Author RONIN 2019 г...  84000  \n",
       "1  Универсальный горный велосипед, который отличн...  43450  \n",
       "2  Универсальный горный велосипед, который отличн...  43450  \n",
       "3  В 2018 году компания Bergamont решила объедини...  43450  \n",
       "4  В 2018 году компания Bergamont решила объедини...  43450  "
      ]
     },
     "execution_count": 4,
     "metadata": {},
     "output_type": "execute_result"
    }
   ],
   "source": [
    "data = pd.read_excel('./data/sport/double-sports/data.xls')\n",
    "data.head()"
   ]
  },
  {
   "cell_type": "code",
   "execution_count": 5,
   "metadata": {},
   "outputs": [],
   "source": [
    "preset = []\n",
    "for _, row in data.iterrows():\n",
    "    body = {\n",
    "        'Item': row['Название'].lower(),\n",
    "        'Attributes': '' if row['Описание'] != row['Описание'] else row['Описание'],\n",
    "        'Price': int(row['Цена']),\n",
    "    }\n",
    "    preset.append(body)"
   ]
  },
  {
   "cell_type": "code",
   "execution_count": 6,
   "metadata": {},
   "outputs": [],
   "source": [
    "es = ElasticsearchRanker(preset=preset)"
   ]
  },
  {
   "cell_type": "code",
   "execution_count": 9,
   "metadata": {
    "scrolled": false
   },
   "outputs": [
    {
     "data": {
      "text/plain": [
       "{'took': 5,\n",
       " 'timed_out': False,\n",
       " '_shards': {'total': 5, 'successful': 5, 'skipped': 0, 'failed': 0},\n",
       " 'hits': {'total': 336,\n",
       "  'max_score': 5.764652,\n",
       "  'hits': [{'_index': 'offer_search',\n",
       "    '_type': 'offer',\n",
       "    '_id': '3hqAnmgBtrFpTVtEBc14',\n",
       "    '_score': 5.764652,\n",
       "    '_source': {'Item': 'одежда / комбинезоны / cool zone / комбинезоны cool zone snowman kn2143/07 волна 2019 /~комбинезоны cool zone snowman kn2143/07 волна 2019',\n",
       "     'Price': 20900}},\n",
       "   {'_index': 'offer_search',\n",
       "    '_type': 'offer',\n",
       "    '_id': '4BqAnmgBtrFpTVtEBc2H',\n",
       "    '_score': 5.764652,\n",
       "    '_source': {'Item': 'одежда / комбинезоны / cool zone / комбинезоны cool zone snowmobile kn2140/20 черный 2019 /~комбинезоны cool zone snowmobile kn2140/20 черный 2019',\n",
       "     'Price': 21600}},\n",
       "   {'_index': 'offer_search',\n",
       "    '_type': 'offer',\n",
       "    '_id': 'QBqQnmgBtrFpTVtE9djU',\n",
       "    '_score': 5.764652,\n",
       "    '_source': {'Item': 'одежда / комбинезоны / cool zone / комбинезоны cool zone snowman kn2143/07 волна 2019 /~комбинезоны cool zone snowman kn2143/07 волна 2019',\n",
       "     'Attributes': 'Комбинезон Cool Zone SNOWMAN – наша классическая модель, разработанная еще в 2014 году и совершенствующаяся из года в год. Эргономичный крой. Центральная планка на магнитах.Усиление колен, внутренней части и низа штанин тканью Cordura. Горизонтальная молния для технических нужд. Съёмные подтяжки. Эргономичный капюшон. Мембрана:\\xa015000 мм/10000 гр/м2/24ч',\n",
       "     'Price': 20900}},\n",
       "   {'_index': 'offer_search',\n",
       "    '_type': 'offer',\n",
       "    '_id': 'pG0Kn2gBYV0UizS0pcQL',\n",
       "    '_score': 5.764652,\n",
       "    '_source': {'Item': 'одежда / комбинезоны / cool zone / комбинезоны cool zone snowman kn2143/20 черный 2019 /~комбинезоны cool zone snowman kn2143/20 черный 2019',\n",
       "     'Attributes': 'Комбинезон Cool Zone SNOWMAN – наша классическая модель, разработанная еще в 2014 году и совершенствующаяся из года в год. Эргономичный крой. Центральная планка на магнитах.Усиление колен, внутренней части и низа штанин тканью Cordura. Горизонтальная молния для технических нужд. Съёмные подтяжки. Эргономичный капюшон. Мембрана:\\xa015000 мм/10000 гр/м2/24ч',\n",
       "     'Price': 20900}},\n",
       "   {'_index': 'offer_search',\n",
       "    '_type': 'offer',\n",
       "    '_id': 'pm0Kn2gBYV0UizS0pcQX',\n",
       "    '_score': 5.764652,\n",
       "    '_source': {'Item': 'одежда / комбинезоны / cool zone / комбинезоны cool zone snowmobile kn2140/28 болотный 2019 /~комбинезоны cool zone snowmobile kn2140/28 болотный 2019',\n",
       "     'Attributes': 'Комбинезон для любителей езды на снегоходе.Плотная ткань, колени и низ штанин усилены тканью Кордура, высокий воротник защищает от ветра, предусмотрен специальный карман для рации, а вместительные накладные карманы на штанинах позволят взять с собой все самое необходимое. Как и остальные модели новой коллекции мы оснастили «Снегоход» съемными подтяжками и влагозащитной горизонтальной молнией для технических нужд.',\n",
       "     'Price': 21600}},\n",
       "   {'_index': 'offer_search',\n",
       "    '_type': 'offer',\n",
       "    '_id': 'CG0Nn2gBYV0UizS0b8-C',\n",
       "    '_score': 5.764652,\n",
       "    '_source': {'Item': 'одежда / комбинезоны / cool zone / комбинезоны cool zone snowmobile kn2140/28 болотный 2019 /~комбинезоны cool zone snowmobile kn2140/28 болотный 2019',\n",
       "     'Attributes': 'Комбинезон для любителей езды на снегоходе.Плотная ткань, колени и низ штанин усилены тканью Кордура, высокий воротник защищает от ветра, предусмотрен специальный карман для рации, а вместительные накладные карманы на штанинах позволят взять с собой все самое необходимое. Как и остальные модели новой коллекции мы оснастили «Снегоход» съемными подтяжками и влагозащитной горизонтальной молнией для технических нужд.',\n",
       "     'Price': 21600}},\n",
       "   {'_index': 'offer_search',\n",
       "    '_type': 'offer',\n",
       "    '_id': 'zRqHnmgBtrFpTVtEWtTN',\n",
       "    '_score': 5.764652,\n",
       "    '_source': {'Item': 'одежда / комбинезоны / cool zone / комбинезоны cool zone snowmobile kn2140/28 болотный 2019 /~комбинезоны cool zone snowmobile kn2140/28 болотный 2019',\n",
       "     'Price': 21600}},\n",
       "   {'_index': 'offer_search',\n",
       "    '_type': 'offer',\n",
       "    '_id': 'JhqVnmgBtrFpTVtEzN-I',\n",
       "    '_score': 5.764652,\n",
       "    '_source': {'Item': 'одежда / комбинезоны / cool zone / комбинезоны cool zone kite kn2101/04 красный 2019 /~комбинезоны cool zone kite kn2101/04 красный 2019',\n",
       "     'Attributes': 'Kомбинезон Cool Zone KITE - специализированный комбинезон для сноукайтинга. Эргономичный крой. Рукав реглан, дополнительные складки на спине для большей свободы движений, адаптированный вход в карманы под сидячую трапецию и высокий воротник для защиты от ветра. Вентиляция на штанах, рукавах и воротнике.Запатентованная съемная деталь для вывода крюка от трапеции, позволяющая крюку свободно двигаться и защищающая от попадания снега внутрь комбинезона. Усиление колен, внутренней части и низа штанин тканью Cordura. Горизонтальная молния для технических нужд. Съёмные подтяжки.',\n",
       "     'Price': 21600}},\n",
       "   {'_index': 'offer_search',\n",
       "    '_type': 'offer',\n",
       "    '_id': 'LhqVnmgBtrFpTVtEzN--',\n",
       "    '_score': 5.764652,\n",
       "    '_source': {'Item': 'одежда / комбинезоны / cool zone / комбинезоны cool zone snowmobile kn2140/20 черный 2019 /~комбинезоны cool zone snowmobile kn2140/20 черный 2019',\n",
       "     'Attributes': 'Комбинезон для любителей езды на снегоходе.Плотная ткань, колени и низ штанин усилены тканью Кордура, высокий воротник защищает от ветра, предусмотрен специальный карман для рации, а вместительные накладные карманы на штанинах позволят взять с собой все самое необходимое. Как и остальные модели новой коллекции мы оснастили «Снегоход» съемными подтяжками и влагозащитной горизонтальной молнией для технических нужд.',\n",
       "     'Price': 21600}},\n",
       "   {'_index': 'offer_search',\n",
       "    '_type': 'offer',\n",
       "    '_id': 'zm0An2gBYV0UizS0aLYb',\n",
       "    '_score': 5.764652,\n",
       "    '_source': {'Item': 'одежда / комбинезоны / cool zone / комбинезоны cool zone snowmobile kn2140/28 болотный 2019 /~комбинезоны cool zone snowmobile kn2140/28 болотный 2019',\n",
       "     'Attributes': 'Комбинезон для любителей езды на снегоходе.Плотная ткань, колени и низ штанин усилены тканью Кордура, высокий воротник защищает от ветра, предусмотрен специальный карман для рации, а вместительные накладные карманы на штанинах позволят взять с собой все самое необходимое. Как и остальные модели новой коллекции мы оснастили «Снегоход» съемными подтяжками и влагозащитной горизонтальной молнией для технических нужд.',\n",
       "     'Price': 21600}}]}}"
      ]
     },
     "execution_count": 9,
     "metadata": {},
     "output_type": "execute_result"
    }
   ],
   "source": [
    "es.rank(\n",
    "    {\n",
    "        'Item': 'комбинезон',\n",
    "        'Attributes': '',\n",
    "        'Price_from': 0,\n",
    "        'Price_to': 1000000,\n",
    "    }\n",
    ")"
   ]
  }
 ],
 "metadata": {
  "kernelspec": {
   "display_name": "Python 3",
   "language": "python",
   "name": "python3"
  },
  "language_info": {
   "codemirror_mode": {
    "name": "ipython",
    "version": 3
   },
   "file_extension": ".py",
   "mimetype": "text/x-python",
   "name": "python",
   "nbconvert_exporter": "python",
   "pygments_lexer": "ipython3",
   "version": "3.6.7"
  }
 },
 "nbformat": 4,
 "nbformat_minor": 2
}
