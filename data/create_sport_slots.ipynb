{
 "cells": [
  {
   "cell_type": "code",
   "execution_count": 1,
   "metadata": {},
   "outputs": [],
   "source": [
    "import pandas as pd"
   ]
  },
  {
   "cell_type": "code",
   "execution_count": 2,
   "metadata": {},
   "outputs": [
    {
     "data": {
      "text/html": [
       "<div>\n",
       "<style scoped>\n",
       "    .dataframe tbody tr th:only-of-type {\n",
       "        vertical-align: middle;\n",
       "    }\n",
       "\n",
       "    .dataframe tbody tr th {\n",
       "        vertical-align: top;\n",
       "    }\n",
       "\n",
       "    .dataframe thead th {\n",
       "        text-align: right;\n",
       "    }\n",
       "</style>\n",
       "<table border=\"1\" class=\"dataframe\">\n",
       "  <thead>\n",
       "    <tr style=\"text-align: right;\">\n",
       "      <th></th>\n",
       "      <th>Название</th>\n",
       "      <th>Описание</th>\n",
       "      <th>Цена</th>\n",
       "    </tr>\n",
       "  </thead>\n",
       "  <tbody>\n",
       "    <tr>\n",
       "      <th>0</th>\n",
       "      <td>Велосипеды / Велосипеды / Туринги / AUTHOR / В...</td>\n",
       "      <td>Хромолевый грэвел (gravel) Author RONIN 2019 г...</td>\n",
       "      <td>84000</td>\n",
       "    </tr>\n",
       "    <tr>\n",
       "      <th>1</th>\n",
       "      <td>Велосипеды / Велосипеды / Горные / BERGAMONT /...</td>\n",
       "      <td>Универсальный горный велосипед, который отличн...</td>\n",
       "      <td>43450</td>\n",
       "    </tr>\n",
       "    <tr>\n",
       "      <th>2</th>\n",
       "      <td>Велосипеды / Велосипеды / Горные / BERGAMONT /...</td>\n",
       "      <td>Универсальный горный велосипед, который отличн...</td>\n",
       "      <td>43450</td>\n",
       "    </tr>\n",
       "    <tr>\n",
       "      <th>3</th>\n",
       "      <td>Велосипеды / Велосипеды / Горные / BERGAMONT /...</td>\n",
       "      <td>В 2018 году компания Bergamont решила объедини...</td>\n",
       "      <td>43450</td>\n",
       "    </tr>\n",
       "    <tr>\n",
       "      <th>4</th>\n",
       "      <td>Велосипеды / Велосипеды / Горные / BERGAMONT /...</td>\n",
       "      <td>В 2018 году компания Bergamont решила объедини...</td>\n",
       "      <td>43450</td>\n",
       "    </tr>\n",
       "  </tbody>\n",
       "</table>\n",
       "</div>"
      ],
      "text/plain": [
       "                                            Название  \\\n",
       "0  Велосипеды / Велосипеды / Туринги / AUTHOR / В...   \n",
       "1  Велосипеды / Велосипеды / Горные / BERGAMONT /...   \n",
       "2  Велосипеды / Велосипеды / Горные / BERGAMONT /...   \n",
       "3  Велосипеды / Велосипеды / Горные / BERGAMONT /...   \n",
       "4  Велосипеды / Велосипеды / Горные / BERGAMONT /...   \n",
       "\n",
       "                                            Описание   Цена  \n",
       "0  Хромолевый грэвел (gravel) Author RONIN 2019 г...  84000  \n",
       "1  Универсальный горный велосипед, который отличн...  43450  \n",
       "2  Универсальный горный велосипед, который отличн...  43450  \n",
       "3  В 2018 году компания Bergamont решила объедини...  43450  \n",
       "4  В 2018 году компания Bergamont решила объедини...  43450  "
      ]
     },
     "execution_count": 2,
     "metadata": {},
     "output_type": "execute_result"
    }
   ],
   "source": [
    "data = pd.read_excel('./sport/double-sports/data.xls')\n",
    "data.head()"
   ]
  },
  {
   "cell_type": "code",
   "execution_count": 3,
   "metadata": {},
   "outputs": [
    {
     "name": "stdout",
     "output_type": "stream",
     "text": [
      "<class 'pandas.core.frame.DataFrame'>\n",
      "RangeIndex: 886 entries, 0 to 885\n",
      "Data columns (total 3 columns):\n",
      "Название    886 non-null object\n",
      "Описание    865 non-null object\n",
      "Цена        886 non-null int64\n",
      "dtypes: int64(1), object(2)\n",
      "memory usage: 20.8+ KB\n"
     ]
    }
   ],
   "source": [
    "data.info()"
   ]
  },
  {
   "cell_type": "code",
   "execution_count": 8,
   "metadata": {},
   "outputs": [],
   "source": [
    "data.to_excel('./sport/double-sports/data_cleaned.xls', index=False)\n",
    "data = pd.read_excel('./sport/double-sports/data_cleaned.xls')"
   ]
  },
  {
   "cell_type": "code",
   "execution_count": 9,
   "metadata": {
    "scrolled": true
   },
   "outputs": [
    {
     "data": {
      "text/plain": [
       "{'686',\n",
       " 'airblaster',\n",
       " 'amplifi',\n",
       " 'anon',\n",
       " 'anteater',\n",
       " 'arbor',\n",
       " 'bern',\n",
       " 'bmx',\n",
       " 'bonus gloves',\n",
       " 'buff',\n",
       " 'burton',\n",
       " 'clwr',\n",
       " 'cool zone',\n",
       " 'dc',\n",
       " 'dragon',\n",
       " 'flow',\n",
       " 'gnu',\n",
       " 'head',\n",
       " 'howl',\n",
       " 'joint',\n",
       " 'jones',\n",
       " 'lib tech',\n",
       " 'lidakis',\n",
       " 'lopoma',\n",
       " 'losraketos',\n",
       " 'merge4',\n",
       " 'nandn',\n",
       " 'oakley',\n",
       " 'only',\n",
       " 'prime',\n",
       " 'prosurf',\n",
       " 'quiksilver',\n",
       " 'red',\n",
       " 'romp',\n",
       " 'roxy',\n",
       " 'sims',\n",
       " 'spy+',\n",
       " 'terror',\n",
       " 'thirtytwo',\n",
       " 'today',\n",
       " 'true spin',\n",
       " 'union',\n",
       " 'viking',\n",
       " 'vonzipper',\n",
       " 'балаклавы и бафы',\n",
       " 'банданы',\n",
       " 'ботинки',\n",
       " 'велосипеды',\n",
       " 'горные',\n",
       " 'городские',\n",
       " 'двухподвесы',\n",
       " 'детские',\n",
       " 'жилетки',\n",
       " 'защита',\n",
       " 'комбинезоны',\n",
       " 'крепления',\n",
       " 'крепления и сноуборд trs',\n",
       " 'куртки городские',\n",
       " 'куртки сноубордические',\n",
       " 'маски',\n",
       " 'носки',\n",
       " 'одежда',\n",
       " 'перчатки и варежки',\n",
       " 'рюкзаки',\n",
       " 'сноубординг',\n",
       " 'сноуборды',\n",
       " 'стрит',\n",
       " 'термобелье',\n",
       " 'толстовки',\n",
       " 'туринги',\n",
       " 'футболки',\n",
       " 'фэтбайки',\n",
       " 'циклокросс',\n",
       " 'чехлы',\n",
       " 'шапки',\n",
       " 'шлемы',\n",
       " 'шоссейные',\n",
       " 'штаны сноубордические'}"
      ]
     },
     "execution_count": 9,
     "metadata": {},
     "output_type": "execute_result"
    }
   ],
   "source": [
    "slots = set()\n",
    "def process(text, ind=0):\n",
    "    x = text\n",
    "    \n",
    "    x = x.strip().lower().split('~')[0]\n",
    "    x = x.split('/')[:3]\n",
    "    x = [x_.strip() for x_ in x if len(x_.strip()) > 0]\n",
    "    slots.update(x)\n",
    "    \n",
    "    return text\n",
    "\n",
    "data['Название'].apply(process)\n",
    "slots"
   ]
  },
  {
   "cell_type": "code",
   "execution_count": 10,
   "metadata": {},
   "outputs": [
    {
     "data": {
      "text/plain": [
       "78"
      ]
     },
     "execution_count": 10,
     "metadata": {},
     "output_type": "execute_result"
    }
   ],
   "source": [
    "len(slots)"
   ]
  },
  {
   "cell_type": "code",
   "execution_count": 11,
   "metadata": {},
   "outputs": [
    {
     "data": {
      "text/html": [
       "<div>\n",
       "<style scoped>\n",
       "    .dataframe tbody tr th:only-of-type {\n",
       "        vertical-align: middle;\n",
       "    }\n",
       "\n",
       "    .dataframe tbody tr th {\n",
       "        vertical-align: top;\n",
       "    }\n",
       "\n",
       "    .dataframe thead th {\n",
       "        text-align: right;\n",
       "    }\n",
       "</style>\n",
       "<table border=\"1\" class=\"dataframe\">\n",
       "  <thead>\n",
       "    <tr style=\"text-align: right;\">\n",
       "      <th></th>\n",
       "      <th>Наименование</th>\n",
       "      <th>Описание</th>\n",
       "      <th>Цена</th>\n",
       "    </tr>\n",
       "  </thead>\n",
       "  <tbody>\n",
       "    <tr>\n",
       "      <th>0</th>\n",
       "      <td>Наборы спортивного питания~Комбо-набор Mad God...</td>\n",
       "      <td>MAD DRUGS GOD OF WHEY.Размер порции: 2 мерные ...</td>\n",
       "      <td>2200 руб</td>\n",
       "    </tr>\n",
       "    <tr>\n",
       "      <th>1</th>\n",
       "      <td>Наборы спортивного питания~Комбо-набор 2 Ligan...</td>\n",
       "      <td>Спортивное питание FrogTechLigandrol (Лигандро...</td>\n",
       "      <td>2890 руб</td>\n",
       "    </tr>\n",
       "    <tr>\n",
       "      <th>2</th>\n",
       "      <td>Наборы спортивного питания~Комбо-набор Ligandr...</td>\n",
       "      <td>Спортивное питание FrogTechIbutamoren (Ибутамо...</td>\n",
       "      <td>3990 руб</td>\n",
       "    </tr>\n",
       "    <tr>\n",
       "      <th>3</th>\n",
       "      <td>Наборы спортивного питания~Комбо-набор 2 Ligan...</td>\n",
       "      <td>Спортивное питание FrogTechLigandrol (Лигандро...</td>\n",
       "      <td>4990 руб</td>\n",
       "    </tr>\n",
       "    <tr>\n",
       "      <th>4</th>\n",
       "      <td>Наборы спортивного питания~Комбо-набор Ligandr...</td>\n",
       "      <td>Спортивное питание FrogTechIbutamoren (Ибутамо...</td>\n",
       "      <td>4990 руб</td>\n",
       "    </tr>\n",
       "  </tbody>\n",
       "</table>\n",
       "</div>"
      ],
      "text/plain": [
       "                                        Наименование  \\\n",
       "0  Наборы спортивного питания~Комбо-набор Mad God...   \n",
       "1  Наборы спортивного питания~Комбо-набор 2 Ligan...   \n",
       "2  Наборы спортивного питания~Комбо-набор Ligandr...   \n",
       "3  Наборы спортивного питания~Комбо-набор 2 Ligan...   \n",
       "4  Наборы спортивного питания~Комбо-набор Ligandr...   \n",
       "\n",
       "                                            Описание      Цена  \n",
       "0  MAD DRUGS GOD OF WHEY.Размер порции: 2 мерные ...  2200 руб  \n",
       "1  Спортивное питание FrogTechLigandrol (Лигандро...  2890 руб  \n",
       "2  Спортивное питание FrogTechIbutamoren (Ибутамо...  3990 руб  \n",
       "3  Спортивное питание FrogTechLigandrol (Лигандро...  4990 руб  \n",
       "4  Спортивное питание FrogTechIbutamoren (Ибутамо...  4990 руб  "
      ]
     },
     "execution_count": 11,
     "metadata": {},
     "output_type": "execute_result"
    }
   ],
   "source": [
    "data = pd.read_excel('./sport/gold-standart.com/data.xls')\n",
    "data.head()"
   ]
  },
  {
   "cell_type": "code",
   "execution_count": 12,
   "metadata": {},
   "outputs": [
    {
     "name": "stdout",
     "output_type": "stream",
     "text": [
      "<class 'pandas.core.frame.DataFrame'>\n",
      "RangeIndex: 1121 entries, 0 to 1120\n",
      "Data columns (total 3 columns):\n",
      "Наименование    1121 non-null object\n",
      "Описание        998 non-null object\n",
      "Цена            1121 non-null object\n",
      "dtypes: object(3)\n",
      "memory usage: 26.4+ KB\n"
     ]
    }
   ],
   "source": [
    "data.info()"
   ]
  },
  {
   "cell_type": "code",
   "execution_count": 13,
   "metadata": {},
   "outputs": [],
   "source": [
    "def to_num(text):\n",
    "    return int(''.join(text.replace('руб', '').split()))"
   ]
  },
  {
   "cell_type": "code",
   "execution_count": 14,
   "metadata": {},
   "outputs": [],
   "source": [
    "data['Цена'] = data['Цена'].apply(to_num)"
   ]
  },
  {
   "cell_type": "code",
   "execution_count": 15,
   "metadata": {},
   "outputs": [],
   "source": [
    "data.to_excel('./sport/gold-standart.com/data_cleaned.xls', index=False)"
   ]
  },
  {
   "cell_type": "code",
   "execution_count": 16,
   "metadata": {},
   "outputs": [
    {
     "data": {
      "text/html": [
       "<div>\n",
       "<style scoped>\n",
       "    .dataframe tbody tr th:only-of-type {\n",
       "        vertical-align: middle;\n",
       "    }\n",
       "\n",
       "    .dataframe tbody tr th {\n",
       "        vertical-align: top;\n",
       "    }\n",
       "\n",
       "    .dataframe thead th {\n",
       "        text-align: right;\n",
       "    }\n",
       "</style>\n",
       "<table border=\"1\" class=\"dataframe\">\n",
       "  <thead>\n",
       "    <tr style=\"text-align: right;\">\n",
       "      <th></th>\n",
       "      <th>Наименование</th>\n",
       "      <th>Описание</th>\n",
       "      <th>Цена</th>\n",
       "    </tr>\n",
       "  </thead>\n",
       "  <tbody>\n",
       "    <tr>\n",
       "      <th>0</th>\n",
       "      <td>Наборы спортивного питания~Комбо-набор Mad God...</td>\n",
       "      <td>MAD DRUGS GOD OF WHEY.Размер порции: 2 мерные ...</td>\n",
       "      <td>2200</td>\n",
       "    </tr>\n",
       "    <tr>\n",
       "      <th>1</th>\n",
       "      <td>Наборы спортивного питания~Комбо-набор 2 Ligan...</td>\n",
       "      <td>Спортивное питание FrogTechLigandrol (Лигандро...</td>\n",
       "      <td>2890</td>\n",
       "    </tr>\n",
       "    <tr>\n",
       "      <th>2</th>\n",
       "      <td>Наборы спортивного питания~Комбо-набор Ligandr...</td>\n",
       "      <td>Спортивное питание FrogTechIbutamoren (Ибутамо...</td>\n",
       "      <td>3990</td>\n",
       "    </tr>\n",
       "    <tr>\n",
       "      <th>3</th>\n",
       "      <td>Наборы спортивного питания~Комбо-набор 2 Ligan...</td>\n",
       "      <td>Спортивное питание FrogTechLigandrol (Лигандро...</td>\n",
       "      <td>4990</td>\n",
       "    </tr>\n",
       "    <tr>\n",
       "      <th>4</th>\n",
       "      <td>Наборы спортивного питания~Комбо-набор Ligandr...</td>\n",
       "      <td>Спортивное питание FrogTechIbutamoren (Ибутамо...</td>\n",
       "      <td>4990</td>\n",
       "    </tr>\n",
       "  </tbody>\n",
       "</table>\n",
       "</div>"
      ],
      "text/plain": [
       "                                        Наименование  \\\n",
       "0  Наборы спортивного питания~Комбо-набор Mad God...   \n",
       "1  Наборы спортивного питания~Комбо-набор 2 Ligan...   \n",
       "2  Наборы спортивного питания~Комбо-набор Ligandr...   \n",
       "3  Наборы спортивного питания~Комбо-набор 2 Ligan...   \n",
       "4  Наборы спортивного питания~Комбо-набор Ligandr...   \n",
       "\n",
       "                                            Описание  Цена  \n",
       "0  MAD DRUGS GOD OF WHEY.Размер порции: 2 мерные ...  2200  \n",
       "1  Спортивное питание FrogTechLigandrol (Лигандро...  2890  \n",
       "2  Спортивное питание FrogTechIbutamoren (Ибутамо...  3990  \n",
       "3  Спортивное питание FrogTechLigandrol (Лигандро...  4990  \n",
       "4  Спортивное питание FrogTechIbutamoren (Ибутамо...  4990  "
      ]
     },
     "execution_count": 16,
     "metadata": {},
     "output_type": "execute_result"
    }
   ],
   "source": [
    "data = pd.read_excel('./sport/gold-standart.com/data_cleaned.xls')\n",
    "data.head()"
   ]
  },
  {
   "cell_type": "code",
   "execution_count": 17,
   "metadata": {},
   "outputs": [
    {
     "name": "stdout",
     "output_type": "stream",
     "text": [
      "<class 'pandas.core.frame.DataFrame'>\n",
      "RangeIndex: 1121 entries, 0 to 1120\n",
      "Data columns (total 3 columns):\n",
      "Наименование    1121 non-null object\n",
      "Описание        998 non-null object\n",
      "Цена            1121 non-null int64\n",
      "dtypes: int64(1), object(2)\n",
      "memory usage: 26.4+ KB\n"
     ]
    }
   ],
   "source": [
    "data.info()"
   ]
  },
  {
   "cell_type": "code",
   "execution_count": 18,
   "metadata": {},
   "outputs": [
    {
     "data": {
      "text/plain": [
       "{'686',\n",
       " 'airblaster',\n",
       " 'amplifi',\n",
       " 'anon',\n",
       " 'anteater',\n",
       " 'arbor',\n",
       " 'bern',\n",
       " 'bmx',\n",
       " 'bonus gloves',\n",
       " 'buff',\n",
       " 'burton',\n",
       " 'clwr',\n",
       " 'cool zone',\n",
       " 'dc',\n",
       " 'dragon',\n",
       " 'flow',\n",
       " 'gnu',\n",
       " 'head',\n",
       " 'howl',\n",
       " 'joint',\n",
       " 'jones',\n",
       " 'lib tech',\n",
       " 'lidakis',\n",
       " 'lopoma',\n",
       " 'losraketos',\n",
       " 'merge4',\n",
       " 'nandn',\n",
       " 'oakley',\n",
       " 'only',\n",
       " 'prime',\n",
       " 'prosurf',\n",
       " 'quiksilver',\n",
       " 'red',\n",
       " 'romp',\n",
       " 'roxy',\n",
       " 'sims',\n",
       " 'spy+',\n",
       " 'terror',\n",
       " 'thirtytwo',\n",
       " 'today',\n",
       " 'true spin',\n",
       " 'union',\n",
       " 'viking',\n",
       " 'vonzipper',\n",
       " 'аксессуары',\n",
       " 'активное долголетие',\n",
       " 'аминокислоты',\n",
       " 'балаклавы и бафы',\n",
       " 'банданы',\n",
       " 'ботинки',\n",
       " 'бустеры гормона роста',\n",
       " 'велосипеды',\n",
       " 'витамины и минералы',\n",
       " 'гейнеры (белки+углеводы)',\n",
       " 'горные',\n",
       " 'городские',\n",
       " 'готовые напитки',\n",
       " 'двухподвесы',\n",
       " 'детские',\n",
       " 'диетическое питание',\n",
       " 'для питомцев',\n",
       " 'жилетки',\n",
       " 'жиросжигатели',\n",
       " 'защита',\n",
       " 'комбинезоны',\n",
       " 'креатин',\n",
       " 'крепления',\n",
       " 'крепления и сноуборд trs',\n",
       " 'куртки городские',\n",
       " 'куртки сноубордические',\n",
       " 'маски',\n",
       " 'наборы спортивного питания',\n",
       " 'нитробустеры',\n",
       " 'носки',\n",
       " 'ночные восстановители',\n",
       " 'одежда',\n",
       " 'одежда женская',\n",
       " 'одежда мужская',\n",
       " 'перчатки и варежки',\n",
       " 'посттренировочные комплексы и восстановители',\n",
       " 'предтренировочные комплексы',\n",
       " 'протеины',\n",
       " 'рюкзаки',\n",
       " 'сноубординг',\n",
       " 'сноуборды',\n",
       " 'специальные препараты',\n",
       " 'спортивный перекус',\n",
       " 'стрит',\n",
       " 'термобелье',\n",
       " 'тестобустеры',\n",
       " 'толстовки',\n",
       " 'туринги',\n",
       " 'углеводы',\n",
       " 'футболки',\n",
       " 'фэтбайки',\n",
       " 'хондропротекторы (глюкозамин, хондроитин)',\n",
       " 'циклокросс',\n",
       " 'чехлы',\n",
       " 'шапки',\n",
       " 'шлемы',\n",
       " 'шоссейные',\n",
       " 'штаны сноубордические',\n",
       " 'энергетики'}"
      ]
     },
     "execution_count": 18,
     "metadata": {},
     "output_type": "execute_result"
    }
   ],
   "source": [
    "def process_gold(text, ind=0):\n",
    "    slots.update(text.strip().lower().split('~')[:1])\n",
    "    \n",
    "    return text\n",
    "\n",
    "data['Название'].apply(process_gold)\n",
    "slots"
   ]
  },
  {
   "cell_type": "code",
   "execution_count": 19,
   "metadata": {},
   "outputs": [
    {
     "data": {
      "text/html": [
       "<div>\n",
       "<style scoped>\n",
       "    .dataframe tbody tr th:only-of-type {\n",
       "        vertical-align: middle;\n",
       "    }\n",
       "\n",
       "    .dataframe tbody tr th {\n",
       "        vertical-align: top;\n",
       "    }\n",
       "\n",
       "    .dataframe thead th {\n",
       "        text-align: right;\n",
       "    }\n",
       "</style>\n",
       "<table border=\"1\" class=\"dataframe\">\n",
       "  <thead>\n",
       "    <tr style=\"text-align: right;\">\n",
       "      <th></th>\n",
       "      <th>Название</th>\n",
       "      <th>Описание</th>\n",
       "      <th>Цена</th>\n",
       "    </tr>\n",
       "  </thead>\n",
       "  <tbody>\n",
       "    <tr>\n",
       "      <th>0</th>\n",
       "      <td>Велосипеды~Горный велосипед~Alpine Bike 1000S ...</td>\n",
       "      <td>NaN</td>\n",
       "      <td>11 490 pуб.</td>\n",
       "    </tr>\n",
       "    <tr>\n",
       "      <th>1</th>\n",
       "      <td>Велосипеды~Детский велосипед~Alpine Bike F1 (2...</td>\n",
       "      <td>NaN</td>\n",
       "      <td>20 490 pуб.</td>\n",
       "    </tr>\n",
       "    <tr>\n",
       "      <th>2</th>\n",
       "      <td>Велосипеды~Горный велосипед~Stels Navigator 66...</td>\n",
       "      <td>NaN</td>\n",
       "      <td>17 400 pуб.</td>\n",
       "    </tr>\n",
       "    <tr>\n",
       "      <th>3</th>\n",
       "      <td>Велосипеды~Дорожный велосипед~Schwinn Alu 7 Wo...</td>\n",
       "      <td>NaN</td>\n",
       "      <td>19 500 pуб.</td>\n",
       "    </tr>\n",
       "    <tr>\n",
       "      <th>4</th>\n",
       "      <td>Велосипеды~Детский велосипед~Schwinn Baywood 2...</td>\n",
       "      <td>NaN</td>\n",
       "      <td>10 700 pуб.</td>\n",
       "    </tr>\n",
       "  </tbody>\n",
       "</table>\n",
       "</div>"
      ],
      "text/plain": [
       "                                            Название  Описание         Цена\n",
       "0  Велосипеды~Горный велосипед~Alpine Bike 1000S ...       NaN  11 490 pуб.\n",
       "1  Велосипеды~Детский велосипед~Alpine Bike F1 (2...       NaN  20 490 pуб.\n",
       "2  Велосипеды~Горный велосипед~Stels Navigator 66...       NaN  17 400 pуб.\n",
       "3  Велосипеды~Дорожный велосипед~Schwinn Alu 7 Wo...       NaN  19 500 pуб.\n",
       "4  Велосипеды~Детский велосипед~Schwinn Baywood 2...       NaN  10 700 pуб."
      ]
     },
     "execution_count": 19,
     "metadata": {},
     "output_type": "execute_result"
    }
   ],
   "source": [
    "data = pd.read_excel('./sport/pro-bike/data.xls')\n",
    "data.head()"
   ]
  },
  {
   "cell_type": "code",
   "execution_count": 20,
   "metadata": {},
   "outputs": [
    {
     "name": "stdout",
     "output_type": "stream",
     "text": [
      "<class 'pandas.core.frame.DataFrame'>\n",
      "RangeIndex: 15228 entries, 0 to 15227\n",
      "Data columns (total 3 columns):\n",
      "Название    15228 non-null object\n",
      "Описание    0 non-null float64\n",
      "Цена        10981 non-null object\n",
      "dtypes: float64(1), object(2)\n",
      "memory usage: 357.0+ KB\n"
     ]
    }
   ],
   "source": [
    "data.info()"
   ]
  },
  {
   "cell_type": "code",
   "execution_count": 21,
   "metadata": {},
   "outputs": [],
   "source": [
    "data = data.dropna(subset=['Цена'])"
   ]
  },
  {
   "cell_type": "code",
   "execution_count": 22,
   "metadata": {},
   "outputs": [],
   "source": [
    "def to_num_gold(text):\n",
    "    return int(''.join(text.replace('pуб.', '').split()))"
   ]
  },
  {
   "cell_type": "code",
   "execution_count": 23,
   "metadata": {},
   "outputs": [],
   "source": [
    "data['Цена'] = data['Цена'].apply(to_num_gold)"
   ]
  },
  {
   "cell_type": "code",
   "execution_count": 24,
   "metadata": {},
   "outputs": [
    {
     "data": {
      "text/html": [
       "<div>\n",
       "<style scoped>\n",
       "    .dataframe tbody tr th:only-of-type {\n",
       "        vertical-align: middle;\n",
       "    }\n",
       "\n",
       "    .dataframe tbody tr th {\n",
       "        vertical-align: top;\n",
       "    }\n",
       "\n",
       "    .dataframe thead th {\n",
       "        text-align: right;\n",
       "    }\n",
       "</style>\n",
       "<table border=\"1\" class=\"dataframe\">\n",
       "  <thead>\n",
       "    <tr style=\"text-align: right;\">\n",
       "      <th></th>\n",
       "      <th>Название</th>\n",
       "      <th>Описание</th>\n",
       "      <th>Цена</th>\n",
       "    </tr>\n",
       "  </thead>\n",
       "  <tbody>\n",
       "    <tr>\n",
       "      <th>0</th>\n",
       "      <td>Велосипеды~Горный велосипед~Alpine Bike 1000S ...</td>\n",
       "      <td>NaN</td>\n",
       "      <td>11490</td>\n",
       "    </tr>\n",
       "    <tr>\n",
       "      <th>1</th>\n",
       "      <td>Велосипеды~Детский велосипед~Alpine Bike F1 (2...</td>\n",
       "      <td>NaN</td>\n",
       "      <td>20490</td>\n",
       "    </tr>\n",
       "    <tr>\n",
       "      <th>2</th>\n",
       "      <td>Велосипеды~Горный велосипед~Stels Navigator 66...</td>\n",
       "      <td>NaN</td>\n",
       "      <td>17400</td>\n",
       "    </tr>\n",
       "    <tr>\n",
       "      <th>3</th>\n",
       "      <td>Велосипеды~Дорожный велосипед~Schwinn Alu 7 Wo...</td>\n",
       "      <td>NaN</td>\n",
       "      <td>19500</td>\n",
       "    </tr>\n",
       "    <tr>\n",
       "      <th>4</th>\n",
       "      <td>Велосипеды~Детский велосипед~Schwinn Baywood 2...</td>\n",
       "      <td>NaN</td>\n",
       "      <td>10700</td>\n",
       "    </tr>\n",
       "  </tbody>\n",
       "</table>\n",
       "</div>"
      ],
      "text/plain": [
       "                                            Название  Описание   Цена\n",
       "0  Велосипеды~Горный велосипед~Alpine Bike 1000S ...       NaN  11490\n",
       "1  Велосипеды~Детский велосипед~Alpine Bike F1 (2...       NaN  20490\n",
       "2  Велосипеды~Горный велосипед~Stels Navigator 66...       NaN  17400\n",
       "3  Велосипеды~Дорожный велосипед~Schwinn Alu 7 Wo...       NaN  19500\n",
       "4  Велосипеды~Детский велосипед~Schwinn Baywood 2...       NaN  10700"
      ]
     },
     "execution_count": 24,
     "metadata": {},
     "output_type": "execute_result"
    }
   ],
   "source": [
    "data.head()"
   ]
  },
  {
   "cell_type": "code",
   "execution_count": 25,
   "metadata": {},
   "outputs": [
    {
     "name": "stdout",
     "output_type": "stream",
     "text": [
      "<class 'pandas.core.frame.DataFrame'>\n",
      "Int64Index: 10981 entries, 0 to 15227\n",
      "Data columns (total 3 columns):\n",
      "Название    10981 non-null object\n",
      "Описание    0 non-null float64\n",
      "Цена        10981 non-null int64\n",
      "dtypes: float64(1), int64(1), object(1)\n",
      "memory usage: 343.2+ KB\n"
     ]
    }
   ],
   "source": [
    "data.info()"
   ]
  },
  {
   "cell_type": "code",
   "execution_count": 26,
   "metadata": {},
   "outputs": [],
   "source": [
    "data.to_excel('./sport/pro-bike/data_cleaned.xls', index=False)"
   ]
  },
  {
   "cell_type": "code",
   "execution_count": 27,
   "metadata": {},
   "outputs": [
    {
     "data": {
      "text/html": [
       "<div>\n",
       "<style scoped>\n",
       "    .dataframe tbody tr th:only-of-type {\n",
       "        vertical-align: middle;\n",
       "    }\n",
       "\n",
       "    .dataframe tbody tr th {\n",
       "        vertical-align: top;\n",
       "    }\n",
       "\n",
       "    .dataframe thead th {\n",
       "        text-align: right;\n",
       "    }\n",
       "</style>\n",
       "<table border=\"1\" class=\"dataframe\">\n",
       "  <thead>\n",
       "    <tr style=\"text-align: right;\">\n",
       "      <th></th>\n",
       "      <th>Название</th>\n",
       "      <th>Описание</th>\n",
       "      <th>Цена</th>\n",
       "    </tr>\n",
       "  </thead>\n",
       "  <tbody>\n",
       "    <tr>\n",
       "      <th>0</th>\n",
       "      <td>Велосипеды~Горный велосипед~Alpine Bike 1000S ...</td>\n",
       "      <td>NaN</td>\n",
       "      <td>11490</td>\n",
       "    </tr>\n",
       "    <tr>\n",
       "      <th>1</th>\n",
       "      <td>Велосипеды~Детский велосипед~Alpine Bike F1 (2...</td>\n",
       "      <td>NaN</td>\n",
       "      <td>20490</td>\n",
       "    </tr>\n",
       "    <tr>\n",
       "      <th>2</th>\n",
       "      <td>Велосипеды~Горный велосипед~Stels Navigator 66...</td>\n",
       "      <td>NaN</td>\n",
       "      <td>17400</td>\n",
       "    </tr>\n",
       "    <tr>\n",
       "      <th>3</th>\n",
       "      <td>Велосипеды~Дорожный велосипед~Schwinn Alu 7 Wo...</td>\n",
       "      <td>NaN</td>\n",
       "      <td>19500</td>\n",
       "    </tr>\n",
       "    <tr>\n",
       "      <th>4</th>\n",
       "      <td>Велосипеды~Детский велосипед~Schwinn Baywood 2...</td>\n",
       "      <td>NaN</td>\n",
       "      <td>10700</td>\n",
       "    </tr>\n",
       "  </tbody>\n",
       "</table>\n",
       "</div>"
      ],
      "text/plain": [
       "                                            Название  Описание   Цена\n",
       "0  Велосипеды~Горный велосипед~Alpine Bike 1000S ...       NaN  11490\n",
       "1  Велосипеды~Детский велосипед~Alpine Bike F1 (2...       NaN  20490\n",
       "2  Велосипеды~Горный велосипед~Stels Navigator 66...       NaN  17400\n",
       "3  Велосипеды~Дорожный велосипед~Schwinn Alu 7 Wo...       NaN  19500\n",
       "4  Велосипеды~Детский велосипед~Schwinn Baywood 2...       NaN  10700"
      ]
     },
     "execution_count": 27,
     "metadata": {},
     "output_type": "execute_result"
    }
   ],
   "source": [
    "data = pd.read_excel('./sport/pro-bike/data_cleaned.xls')\n",
    "data.head()"
   ]
  },
  {
   "cell_type": "code",
   "execution_count": 28,
   "metadata": {},
   "outputs": [
    {
     "name": "stdout",
     "output_type": "stream",
     "text": [
      "<class 'pandas.core.frame.DataFrame'>\n",
      "RangeIndex: 10981 entries, 0 to 10980\n",
      "Data columns (total 3 columns):\n",
      "Название    10981 non-null object\n",
      "Описание    0 non-null float64\n",
      "Цена        10981 non-null int64\n",
      "dtypes: float64(1), int64(1), object(1)\n",
      "memory usage: 257.4+ KB\n"
     ]
    }
   ],
   "source": [
    "data.info()"
   ]
  },
  {
   "cell_type": "code",
   "execution_count": 30,
   "metadata": {},
   "outputs": [
    {
     "data": {
      "text/plain": [
       "{'686',\n",
       " 'airblaster',\n",
       " 'amplifi',\n",
       " 'anon',\n",
       " 'anteater',\n",
       " 'arbor',\n",
       " 'bern',\n",
       " 'bmx',\n",
       " 'bmx велосипед',\n",
       " 'bonus gloves',\n",
       " 'buff',\n",
       " 'burton',\n",
       " 'clwr',\n",
       " 'cool zone',\n",
       " 'dc',\n",
       " 'dragon',\n",
       " 'flow',\n",
       " 'gnu',\n",
       " 'head',\n",
       " 'howl',\n",
       " 'joint',\n",
       " 'jones',\n",
       " 'lib tech',\n",
       " 'lidakis',\n",
       " 'lopoma',\n",
       " 'losraketos',\n",
       " 'merge4',\n",
       " 'nandn',\n",
       " 'oakley',\n",
       " 'only',\n",
       " 'prime',\n",
       " 'prosurf',\n",
       " 'quiksilver',\n",
       " 'red',\n",
       " 'romp',\n",
       " 'roxy',\n",
       " 'sims',\n",
       " 'spy+',\n",
       " 'terror',\n",
       " 'thirtytwo',\n",
       " 'today',\n",
       " 'true spin',\n",
       " 'union',\n",
       " 'viking',\n",
       " 'vonzipper',\n",
       " 'аксессуары',\n",
       " 'активное долголетие',\n",
       " 'аминокислоты',\n",
       " 'балаклавы и бафы',\n",
       " 'банданы',\n",
       " 'ботинки',\n",
       " 'бустеры гормона роста',\n",
       " 'веломайки',\n",
       " 'велосипеды',\n",
       " 'витамины и минералы',\n",
       " 'гейнеры (белки+углеводы)',\n",
       " 'горные',\n",
       " 'горный велосипед',\n",
       " 'городские',\n",
       " 'готовые напитки',\n",
       " 'двухподвесы',\n",
       " 'детские',\n",
       " 'детский велосипед',\n",
       " 'диетическое питание',\n",
       " 'для питомцев',\n",
       " 'дорожный велосипед',\n",
       " 'жилетки',\n",
       " 'жиросжигатели',\n",
       " 'защита',\n",
       " 'защитная экипировка',\n",
       " 'комбинезоны',\n",
       " 'креатин',\n",
       " 'крепления',\n",
       " 'крепления и сноуборд trs',\n",
       " 'куртки городские',\n",
       " 'куртки сноубордические',\n",
       " 'маски',\n",
       " 'наборы спортивного питания',\n",
       " 'нитробустеры',\n",
       " 'носки',\n",
       " 'ночные восстановители',\n",
       " 'одежда',\n",
       " 'одежда женская',\n",
       " 'одежда мужская',\n",
       " 'перчатки и варежки',\n",
       " 'посттренировочные комплексы и восстановители',\n",
       " 'предтренировочные комплексы',\n",
       " 'протеины',\n",
       " 'рюкзаки',\n",
       " 'самокат',\n",
       " 'самокаты',\n",
       " 'сноубординг',\n",
       " 'сноуборды',\n",
       " 'специальные препараты',\n",
       " 'спортивный перекус',\n",
       " 'стрит',\n",
       " 'термобелье',\n",
       " 'тестобустеры',\n",
       " 'толстовки',\n",
       " 'туринги',\n",
       " 'углеводы',\n",
       " 'футболки',\n",
       " 'фэтбайки',\n",
       " 'хондропротекторы (глюкозамин, хондроитин)',\n",
       " 'циклокросс',\n",
       " 'чехлы',\n",
       " 'шапки',\n",
       " 'шлемы',\n",
       " 'шоссейные',\n",
       " 'шоссейный велосипед',\n",
       " 'штаны сноубордические',\n",
       " 'электровелосипед',\n",
       " 'энергетики'}"
      ]
     },
     "execution_count": 30,
     "metadata": {},
     "output_type": "execute_result"
    }
   ],
   "source": [
    "def process_bike(text, ind=0):\n",
    "    slots.update(text.strip().lower().split('~')[:2])\n",
    "    return text\n",
    "\n",
    "data['Название'].apply(process_bike)\n",
    "slots"
   ]
  },
  {
   "cell_type": "code",
   "execution_count": 31,
   "metadata": {},
   "outputs": [
    {
     "data": {
      "text/html": [
       "<div>\n",
       "<style scoped>\n",
       "    .dataframe tbody tr th:only-of-type {\n",
       "        vertical-align: middle;\n",
       "    }\n",
       "\n",
       "    .dataframe tbody tr th {\n",
       "        vertical-align: top;\n",
       "    }\n",
       "\n",
       "    .dataframe thead th {\n",
       "        text-align: right;\n",
       "    }\n",
       "</style>\n",
       "<table border=\"1\" class=\"dataframe\">\n",
       "  <thead>\n",
       "    <tr style=\"text-align: right;\">\n",
       "      <th></th>\n",
       "      <th>Название</th>\n",
       "      <th>Описание</th>\n",
       "      <th>Цена</th>\n",
       "    </tr>\n",
       "  </thead>\n",
       "  <tbody>\n",
       "    <tr>\n",
       "      <th>0</th>\n",
       "      <td>Одежда~Брюки~Утепленные брюки~Брюки SIVERA Сул...</td>\n",
       "      <td>Женские мембранные штаны на синтетическом утеп...</td>\n",
       "      <td>6 440 ₽</td>\n",
       "    </tr>\n",
       "    <tr>\n",
       "      <th>1</th>\n",
       "      <td>Одежда~Куртки~Мембранные куртки~Куртка The Nor...</td>\n",
       "      <td>Легкая и компактная куртка для для защиты от н...</td>\n",
       "      <td>17 900 ₽</td>\n",
       "    </tr>\n",
       "    <tr>\n",
       "      <th>2</th>\n",
       "      <td>Снаряжение для промышленного альпинизма~Сидушк...</td>\n",
       "      <td>Рабочее сиденье PODIUM обеспечивает комфорт пр...</td>\n",
       "      <td>13 700 ₽</td>\n",
       "    </tr>\n",
       "    <tr>\n",
       "      <th>3</th>\n",
       "      <td>Альпинизм и скалолазание~Страховочные системы~...</td>\n",
       "      <td>Очень комфортная обвязка для продвинутого лаза...</td>\n",
       "      <td>9 160 ₽</td>\n",
       "    </tr>\n",
       "    <tr>\n",
       "      <th>4</th>\n",
       "      <td>Снаряжение для промышленного альпинизма~Спуско...</td>\n",
       "      <td>Самостраховка ASAP’SORBER International исполь...</td>\n",
       "      <td>3 090 ₽</td>\n",
       "    </tr>\n",
       "  </tbody>\n",
       "</table>\n",
       "</div>"
      ],
      "text/plain": [
       "                                            Название  \\\n",
       "0  Одежда~Брюки~Утепленные брюки~Брюки SIVERA Сул...   \n",
       "1  Одежда~Куртки~Мембранные куртки~Куртка The Nor...   \n",
       "2  Снаряжение для промышленного альпинизма~Сидушк...   \n",
       "3  Альпинизм и скалолазание~Страховочные системы~...   \n",
       "4  Снаряжение для промышленного альпинизма~Спуско...   \n",
       "\n",
       "                                            Описание      Цена  \n",
       "0  Женские мембранные штаны на синтетическом утеп...   6 440 ₽  \n",
       "1  Легкая и компактная куртка для для защиты от н...  17 900 ₽  \n",
       "2  Рабочее сиденье PODIUM обеспечивает комфорт пр...  13 700 ₽  \n",
       "3  Очень комфортная обвязка для продвинутого лаза...   9 160 ₽  \n",
       "4  Самостраховка ASAP’SORBER International исполь...   3 090 ₽  "
      ]
     },
     "execution_count": 31,
     "metadata": {},
     "output_type": "execute_result"
    }
   ],
   "source": [
    "data = pd.read_excel('./sport/tramontana.ru/data.xls')\n",
    "data.head()"
   ]
  },
  {
   "cell_type": "code",
   "execution_count": 32,
   "metadata": {},
   "outputs": [
    {
     "name": "stdout",
     "output_type": "stream",
     "text": [
      "<class 'pandas.core.frame.DataFrame'>\n",
      "RangeIndex: 3605 entries, 0 to 3604\n",
      "Data columns (total 3 columns):\n",
      "Название    3599 non-null object\n",
      "Описание    3487 non-null object\n",
      "Цена        3602 non-null object\n",
      "dtypes: object(3)\n",
      "memory usage: 84.6+ KB\n"
     ]
    }
   ],
   "source": [
    "data.info()"
   ]
  },
  {
   "cell_type": "code",
   "execution_count": 33,
   "metadata": {},
   "outputs": [
    {
     "name": "stdout",
     "output_type": "stream",
     "text": [
      "<class 'pandas.core.frame.DataFrame'>\n",
      "Int64Index: 3602 entries, 0 to 3604\n",
      "Data columns (total 3 columns):\n",
      "Название    3596 non-null object\n",
      "Описание    3484 non-null object\n",
      "Цена        3602 non-null object\n",
      "dtypes: object(3)\n",
      "memory usage: 112.6+ KB\n"
     ]
    }
   ],
   "source": [
    "data = data.dropna(subset=['Цена'])\n",
    "data.info()"
   ]
  },
  {
   "cell_type": "code",
   "execution_count": 34,
   "metadata": {},
   "outputs": [],
   "source": [
    "def to_num_tramontana(text):\n",
    "    return int(''.join(str(text).replace('₽', '').split()))"
   ]
  },
  {
   "cell_type": "code",
   "execution_count": 35,
   "metadata": {},
   "outputs": [
    {
     "name": "stdout",
     "output_type": "stream",
     "text": [
      "<class 'pandas.core.frame.DataFrame'>\n",
      "Int64Index: 3602 entries, 0 to 3604\n",
      "Data columns (total 3 columns):\n",
      "Название    3596 non-null object\n",
      "Описание    3484 non-null object\n",
      "Цена        3602 non-null int64\n",
      "dtypes: int64(1), object(2)\n",
      "memory usage: 112.6+ KB\n"
     ]
    }
   ],
   "source": [
    "data['Цена'] = data['Цена'].apply(to_num_tramontana)\n",
    "data.info()"
   ]
  },
  {
   "cell_type": "code",
   "execution_count": 36,
   "metadata": {},
   "outputs": [
    {
     "name": "stdout",
     "output_type": "stream",
     "text": [
      "<class 'pandas.core.frame.DataFrame'>\n",
      "RangeIndex: 3602 entries, 0 to 3601\n",
      "Data columns (total 3 columns):\n",
      "Название    3596 non-null object\n",
      "Описание    3484 non-null object\n",
      "Цена        3602 non-null int64\n",
      "dtypes: int64(1), object(2)\n",
      "memory usage: 84.5+ KB\n"
     ]
    }
   ],
   "source": [
    "data.to_excel('./sport/tramontana.ru/data_cleaned.xls', index=False)\n",
    "data = pd.read_excel('./sport/tramontana.ru/data_cleaned.xls')\n",
    "data.head()\n",
    "data.info()"
   ]
  },
  {
   "cell_type": "code",
   "execution_count": 37,
   "metadata": {},
   "outputs": [
    {
     "data": {
      "text/plain": [
       "{'686',\n",
       " 'airblaster',\n",
       " 'amplifi',\n",
       " 'anon',\n",
       " 'anteater',\n",
       " 'arbor',\n",
       " 'bern',\n",
       " 'bmx',\n",
       " 'bmx велосипед',\n",
       " 'bonus gloves',\n",
       " 'buff',\n",
       " 'burton',\n",
       " 'clwr',\n",
       " 'cool zone',\n",
       " 'dc',\n",
       " 'dragon',\n",
       " 'flow',\n",
       " 'gnu',\n",
       " 'head',\n",
       " 'howl',\n",
       " 'joint',\n",
       " 'jones',\n",
       " 'lib tech',\n",
       " 'lidakis',\n",
       " 'lopoma',\n",
       " 'losraketos',\n",
       " 'merge4',\n",
       " 'nan',\n",
       " 'nandn',\n",
       " 'nite ize. steelie',\n",
       " 'oakley',\n",
       " 'only',\n",
       " 'prime',\n",
       " 'prosurf',\n",
       " 'quiksilver',\n",
       " 'red',\n",
       " 'romp',\n",
       " 'roxy',\n",
       " 'sims',\n",
       " 'spy+',\n",
       " 'terror',\n",
       " 'thirtytwo',\n",
       " 'thule',\n",
       " 'today',\n",
       " 'true spin',\n",
       " 'union',\n",
       " 'viking',\n",
       " 'vonzipper',\n",
       " 'аксессуары',\n",
       " 'активное долголетие',\n",
       " 'альпинизм и скалолазание',\n",
       " 'аминокислоты',\n",
       " 'балаклавы и бафы',\n",
       " 'банданы',\n",
       " 'бахилы, гамаши',\n",
       " 'блоки-ролики и полиспасты',\n",
       " 'ботинки',\n",
       " 'брюки',\n",
       " 'бустеры гормона роста',\n",
       " 'веломайки',\n",
       " 'велосипеды',\n",
       " 'веревки и стропы',\n",
       " 'веревки, шнуры, стропы',\n",
       " 'витамины и минералы',\n",
       " 'газовое оборудование',\n",
       " 'гамаки',\n",
       " 'гейнеры (белки+углеводы)',\n",
       " 'горнолыжное снаряжение',\n",
       " 'горные',\n",
       " 'горный велосипед',\n",
       " 'городская обувь',\n",
       " 'городские',\n",
       " 'готовые напитки',\n",
       " 'двухподвесы',\n",
       " 'детские',\n",
       " 'детский велосипед',\n",
       " 'диетическое питание',\n",
       " 'для питомцев',\n",
       " 'дорожный велосипед',\n",
       " 'еда',\n",
       " 'жилетки',\n",
       " 'жилеты',\n",
       " 'жиросжигатели',\n",
       " 'зажимы',\n",
       " 'зажимы для промышленного альпинизма',\n",
       " 'зацепы и фингерборды',\n",
       " 'защита',\n",
       " 'защита для промышленного альпинизма',\n",
       " 'защитная экипировка',\n",
       " 'зимняя обувь',\n",
       " 'инструмент',\n",
       " 'ито',\n",
       " 'карабины',\n",
       " 'карабины и коннекторы',\n",
       " 'каски спортивные',\n",
       " 'клифа 5.14 с подколен. петлёй правая',\n",
       " 'коврики. подушки. полотенца',\n",
       " 'комбинезоны',\n",
       " 'креатин',\n",
       " 'крепления',\n",
       " 'крепления и сноуборд trs',\n",
       " 'кроссовки',\n",
       " 'куртки',\n",
       " 'куртки городские',\n",
       " 'куртки сноубордические',\n",
       " 'ледовое снаряжение',\n",
       " 'магнезия спортивная',\n",
       " 'маски',\n",
       " 'маты',\n",
       " 'мебель',\n",
       " 'мешочки для магнезии',\n",
       " 'молотки',\n",
       " 'наборы спортивного питания',\n",
       " 'нитробустеры',\n",
       " 'носки',\n",
       " 'ночные восстановители',\n",
       " 'оборудование для организации страховки',\n",
       " 'обувь',\n",
       " 'обувь для альпинизма и спортивного туризма',\n",
       " 'одежда',\n",
       " 'одежда женская',\n",
       " 'одежда мужская',\n",
       " 'оттяжки',\n",
       " 'очки',\n",
       " 'перчатки и варежки',\n",
       " 'петли',\n",
       " 'петли, самостраховки, стремена',\n",
       " 'печатная продукция',\n",
       " 'платья и юбки',\n",
       " 'подарочные сертификаты',\n",
       " 'посттренировочные комплексы и восстановители',\n",
       " 'посуда',\n",
       " 'походное снаряжение',\n",
       " 'предтренировочные комплексы',\n",
       " 'привязи',\n",
       " 'протеины',\n",
       " 'разгрузки',\n",
       " 'рубашки, толстовки, свитера',\n",
       " 'рюкзаки',\n",
       " 'самокат',\n",
       " 'самокаты',\n",
       " 'самостраховки и амортизаторы рывка',\n",
       " 'сандалии',\n",
       " 'сидушки для промышленного альпинизма',\n",
       " 'скальные туфли',\n",
       " 'слэклайны',\n",
       " 'снаряжение для арбористики',\n",
       " 'снаряжение для промышленного альпинизма',\n",
       " 'сноубординг',\n",
       " 'сноуборды',\n",
       " 'спальные мешки',\n",
       " 'специальные препараты',\n",
       " 'спортивный перекус',\n",
       " 'спусковые и страховочные устройства',\n",
       " 'страховочные системы',\n",
       " 'стремена. лесенки',\n",
       " 'стрит',\n",
       " 'такелажные звенья для промышленного альпинизма',\n",
       " 'термобелье',\n",
       " 'тестобустеры',\n",
       " 'толстовки',\n",
       " 'точки страховки',\n",
       " 'треккинговая обувь',\n",
       " 'треккинговые палки',\n",
       " 'туринги',\n",
       " 'туристические палатки',\n",
       " 'углеводы',\n",
       " 'украшения',\n",
       " 'фильтры',\n",
       " 'фонари',\n",
       " 'фонари для промышленного альпинизма',\n",
       " 'футболки',\n",
       " 'фэтбайки',\n",
       " 'хондропротекторы (глюкозамин, хондроитин)',\n",
       " 'циклокросс',\n",
       " 'чехлы',\n",
       " 'шапки',\n",
       " 'шлемы',\n",
       " 'шоссейные',\n",
       " 'шоссейный велосипед',\n",
       " 'штаны сноубордические',\n",
       " 'электровелосипед',\n",
       " 'электроника',\n",
       " 'энергетики'}"
      ]
     },
     "execution_count": 37,
     "metadata": {},
     "output_type": "execute_result"
    }
   ],
   "source": [
    "def process_tramontana(text, ind=0):\n",
    "    slots.update(str(text).strip().lower().split('~')[:2])\n",
    "    return text\n",
    "\n",
    "data['Название'].apply(process_tramontana)\n",
    "slots"
   ]
  },
  {
   "cell_type": "code",
   "execution_count": null,
   "metadata": {},
   "outputs": [],
   "source": [
    "#iHerb"
   ]
  },
  {
   "cell_type": "code",
   "execution_count": 55,
   "metadata": {},
   "outputs": [],
   "source": [
    "end_slots = set()\n",
    "for slot in slots:\n",
    "    end_slots.update(slot.replace('\"','').split(', '))"
   ]
  },
  {
   "cell_type": "code",
   "execution_count": 56,
   "metadata": {},
   "outputs": [],
   "source": [
    "end_slots = [slot.strip()  for slot in end_slots if len(slot.strip()) > 0]"
   ]
  },
  {
   "cell_type": "code",
   "execution_count": 57,
   "metadata": {},
   "outputs": [],
   "source": [
    "slots = pd.Series(list(end_slots))"
   ]
  },
  {
   "cell_type": "code",
   "execution_count": 58,
   "metadata": {},
   "outputs": [],
   "source": [
    "slots.to_csv('./sport/slots.csv', index=False)"
   ]
  },
  {
   "cell_type": "code",
   "execution_count": 59,
   "metadata": {},
   "outputs": [
    {
     "data": {
      "text/plain": [
       "190"
      ]
     },
     "execution_count": 59,
     "metadata": {},
     "output_type": "execute_result"
    }
   ],
   "source": [
    "len(slots)"
   ]
  },
  {
   "cell_type": "code",
   "execution_count": null,
   "metadata": {},
   "outputs": [],
   "source": []
  }
 ],
 "metadata": {
  "kernelspec": {
   "display_name": "Python 3",
   "language": "python",
   "name": "python3"
  },
  "language_info": {
   "codemirror_mode": {
    "name": "ipython",
    "version": 3
   },
   "file_extension": ".py",
   "mimetype": "text/x-python",
   "name": "python",
   "nbconvert_exporter": "python",
   "pygments_lexer": "ipython3",
   "version": "3.7.1"
  }
 },
 "nbformat": 4,
 "nbformat_minor": 2
}
