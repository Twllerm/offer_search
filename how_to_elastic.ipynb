{
 "cells": [
  {
   "cell_type": "code",
   "execution_count": 1,
   "metadata": {},
   "outputs": [],
   "source": [
    "%load_ext autoreload\n",
    "%autoreload 2"
   ]
  },
  {
   "cell_type": "code",
   "execution_count": 2,
   "metadata": {},
   "outputs": [],
   "source": [
    "from offer_search.ranking.elasticsearch import ElasticsearchRanker"
   ]
  },
  {
   "cell_type": "code",
   "execution_count": 3,
   "metadata": {},
   "outputs": [],
   "source": [
    "import pandas as pd"
   ]
  },
  {
   "cell_type": "code",
   "execution_count": 4,
   "metadata": {},
   "outputs": [
    {
     "data": {
      "text/html": [
       "<div>\n",
       "<style scoped>\n",
       "    .dataframe tbody tr th:only-of-type {\n",
       "        vertical-align: middle;\n",
       "    }\n",
       "\n",
       "    .dataframe tbody tr th {\n",
       "        vertical-align: top;\n",
       "    }\n",
       "\n",
       "    .dataframe thead th {\n",
       "        text-align: right;\n",
       "    }\n",
       "</style>\n",
       "<table border=\"1\" class=\"dataframe\">\n",
       "  <thead>\n",
       "    <tr style=\"text-align: right;\">\n",
       "      <th></th>\n",
       "      <th>Название</th>\n",
       "      <th>Описание</th>\n",
       "      <th>Цена</th>\n",
       "    </tr>\n",
       "  </thead>\n",
       "  <tbody>\n",
       "    <tr>\n",
       "      <th>0</th>\n",
       "      <td>Велосипеды / Велосипеды / Туринги / AUTHOR / В...</td>\n",
       "      <td>Хромолевый грэвел (gravel) Author RONIN 2019 г...</td>\n",
       "      <td>84000</td>\n",
       "    </tr>\n",
       "    <tr>\n",
       "      <th>1</th>\n",
       "      <td>Велосипеды / Велосипеды / Горные / BERGAMONT /...</td>\n",
       "      <td>Универсальный горный велосипед, который отличн...</td>\n",
       "      <td>43450</td>\n",
       "    </tr>\n",
       "    <tr>\n",
       "      <th>2</th>\n",
       "      <td>Велосипеды / Велосипеды / Горные / BERGAMONT /...</td>\n",
       "      <td>Универсальный горный велосипед, который отличн...</td>\n",
       "      <td>43450</td>\n",
       "    </tr>\n",
       "    <tr>\n",
       "      <th>3</th>\n",
       "      <td>Велосипеды / Велосипеды / Горные / BERGAMONT /...</td>\n",
       "      <td>В 2018 году компания Bergamont решила объедини...</td>\n",
       "      <td>43450</td>\n",
       "    </tr>\n",
       "    <tr>\n",
       "      <th>4</th>\n",
       "      <td>Велосипеды / Велосипеды / Горные / BERGAMONT /...</td>\n",
       "      <td>В 2018 году компания Bergamont решила объедини...</td>\n",
       "      <td>43450</td>\n",
       "    </tr>\n",
       "  </tbody>\n",
       "</table>\n",
       "</div>"
      ],
      "text/plain": [
       "                                            Название  \\\n",
       "0  Велосипеды / Велосипеды / Туринги / AUTHOR / В...   \n",
       "1  Велосипеды / Велосипеды / Горные / BERGAMONT /...   \n",
       "2  Велосипеды / Велосипеды / Горные / BERGAMONT /...   \n",
       "3  Велосипеды / Велосипеды / Горные / BERGAMONT /...   \n",
       "4  Велосипеды / Велосипеды / Горные / BERGAMONT /...   \n",
       "\n",
       "                                            Описание   Цена  \n",
       "0  Хромолевый грэвел (gravel) Author RONIN 2019 г...  84000  \n",
       "1  Универсальный горный велосипед, который отличн...  43450  \n",
       "2  Универсальный горный велосипед, который отличн...  43450  \n",
       "3  В 2018 году компания Bergamont решила объедини...  43450  \n",
       "4  В 2018 году компания Bergamont решила объедини...  43450  "
      ]
     },
     "execution_count": 4,
     "metadata": {},
     "output_type": "execute_result"
    }
   ],
   "source": [
    "data = pd.read_excel('./data/sport/double-sports/data.xls')\n",
    "data.head()"
   ]
  },
  {
   "cell_type": "code",
   "execution_count": 5,
   "metadata": {},
   "outputs": [],
   "source": [
    "preset = []\n",
    "for _, row in data.iterrows():\n",
    "    body = {\n",
    "        'Item': row['Название'].lower(),\n",
    "        'Attributes': '' if row['Описание'] != row['Описание'] else row['Описание'],\n",
    "        'Price': int(row['Цена']),\n",
    "    }\n",
    "    preset.append(body)"
   ]
  },
  {
   "cell_type": "code",
   "execution_count": 6,
   "metadata": {},
   "outputs": [],
   "source": [
    "es = ElasticsearchRanker(preset=preset)"
   ]
  },
  {
   "cell_type": "code",
   "execution_count": 9,
   "metadata": {
    "scrolled": false
   },
   "outputs": [
    {
     "data": {
      "text/plain": [
       "{'took': 4,\n",
       " 'timed_out': False,\n",
       " '_shards': {'total': 5, 'successful': 5, 'skipped': 0, 'failed': 0},\n",
       " 'hits': {'total': 336,\n",
       "  'max_score': 13.514879,\n",
       "  'hits': [{'_index': 'offer_search',\n",
       "    '_type': 'offer',\n",
       "    '_id': 'TRqVnmgBtrFpTVtEwd1e',\n",
       "    '_score': 13.514879,\n",
       "    '_source': {'Item': 'велосипеды / велосипеды / горные / cube / велосипед cube access ws pro mint raspberry 2018 /~велосипед cube access ws pro mint raspberry 2018',\n",
       "     'Attributes': 'Женский горный велосипед с оборудованием предпрофессионального класса Shimano, 27 скоростей.Алюминиевая рама Aluminium Lite, амортизационная вилка Suntour XCM RL Disc с ходом 100 мм, двойные алюминиевые обода CUBE ZX20, дисковые гидравлические тормоза Shimano BR-M315. Подходит для активной езды по различным дорогам и пересеченной местности.',\n",
       "     'Price': 52100}},\n",
       "   {'_index': 'offer_search',\n",
       "    '_type': 'offer',\n",
       "    '_id': 'TBqVnmgBtrFpTVtEwd1Y',\n",
       "    '_score': 12.355116,\n",
       "    '_source': {'Item': 'велосипеды / велосипеды / горные / cube / велосипед cube access ws pro 27.5 mint raspberry 2018 /~велосипед cube access ws pro 27.5 mint raspberry 2018',\n",
       "     'Attributes': 'Женский горный велосипед с оборудованием предпрофессионального класса Shimano, 27 скоростей.Алюминиевая рама Aluminium Lite, амортизационная вилка Suntour XCM RL Disc с ходом 100 мм, двойные алюминиевые обода CUBE ZX20, дисковые гидравлические тормоза Shimano BR-M315. Подходит для активной езды по различным дорогам и пересеченной местности.',\n",
       "     'Price': 52100}},\n",
       "   {'_index': 'offer_search',\n",
       "    '_type': 'offer',\n",
       "    '_id': 'YhqQnmgBtrFpTVtE6tZb',\n",
       "    '_score': 12.305433,\n",
       "    '_source': {'Item': 'велосипеды / велосипеды / горные / cube / велосипед cube access ws pro black grey 2018 /~велосипед cube access ws pro black grey 2018',\n",
       "     'Attributes': 'Женский горный велосипед с оборудованием предпрофессионального класса Shimano, 27 скоростей.Алюминиевая рама Aluminium Lite, амортизационная вилка Suntour XCM RL Disc с ходом 100 мм, двойные алюминиевые обода CUBE ZX20, дисковые гидравлические тормоза Shimano BR-M315. Подходит для активной езды по различным дорогам и пересеченной местности.',\n",
       "     'Price': 52100}},\n",
       "   {'_index': 'offer_search',\n",
       "    '_type': 'offer',\n",
       "    '_id': '1xqRnmgBtrFpTVtEINlL',\n",
       "    '_score': 12.305433,\n",
       "    '_source': {'Item': 'велосипеды / велосипеды / горные / cube / велосипед cube access ws pro mint raspberry 2018 /~велосипед cube access ws pro mint raspberry 2018',\n",
       "     'Attributes': 'Женский горный велосипед с оборудованием предпрофессионального класса Shimano, 27 скоростей.Алюминиевая рама Aluminium Lite, амортизационная вилка Suntour XCM RL Disc с ходом 100 мм, двойные алюминиевые обода CUBE ZX20, дисковые гидравлические тормоза Shimano BR-M315. Подходит для активной езды по различным дорогам и пересеченной местности.',\n",
       "     'Price': 52100}},\n",
       "   {'_index': 'offer_search',\n",
       "    '_type': 'offer',\n",
       "    '_id': '2BqRnmgBtrFpTVtEINlR',\n",
       "    '_score': 12.305433,\n",
       "    '_source': {'Item': 'велосипеды / велосипеды / горные / cube / велосипед cube access ws pro black grey 2018 /~велосипед cube access ws pro black grey 2018',\n",
       "     'Attributes': 'Женский горный велосипед с оборудованием предпрофессионального класса Shimano, 27 скоростей.Алюминиевая рама Aluminium Lite, амортизационная вилка Suntour XCM RL Disc с ходом 100 мм, двойные алюминиевые обода CUBE ZX20, дисковые гидравлические тормоза Shimano BR-M315. Подходит для активной езды по различным дорогам и пересеченной местности.',\n",
       "     'Price': 52100}},\n",
       "   {'_index': 'offer_search',\n",
       "    '_type': 'offer',\n",
       "    '_id': '1hqRnmgBtrFpTVtEINlB',\n",
       "    '_score': 12.178548,\n",
       "    '_source': {'Item': 'велосипеды / велосипеды / горные / cube / велосипед cube access ws pro 27.5 mint raspberry 2018 /~велосипед cube access ws pro 27.5 mint raspberry 2018',\n",
       "     'Attributes': 'Женский горный велосипед с оборудованием предпрофессионального класса Shimano, 27 скоростей.Алюминиевая рама Aluminium Lite, амортизационная вилка Suntour XCM RL Disc с ходом 100 мм, двойные алюминиевые обода CUBE ZX20, дисковые гидравлические тормоза Shimano BR-M315. Подходит для активной езды по различным дорогам и пересеченной местности.',\n",
       "     'Price': 52100}},\n",
       "   {'_index': 'offer_search',\n",
       "    '_type': 'offer',\n",
       "    '_id': 'YRqQnmgBtrFpTVtE6tZV',\n",
       "    '_score': 11.788191,\n",
       "    '_source': {'Item': 'велосипеды / велосипеды / горные / cube / велосипед cube access ws pro mint raspberry 2018 /~велосипед cube access ws pro mint raspberry 2018',\n",
       "     'Attributes': 'Женский горный велосипед с оборудованием предпрофессионального класса Shimano, 27 скоростей.Алюминиевая рама Aluminium Lite, амортизационная вилка Suntour XCM RL Disc с ходом 100 мм, двойные алюминиевые обода CUBE ZX20, дисковые гидравлические тормоза Shimano BR-M315. Подходит для активной езды по различным дорогам и пересеченной местности.',\n",
       "     'Price': 52100}},\n",
       "   {'_index': 'offer_search',\n",
       "    '_type': 'offer',\n",
       "    '_id': 'ThqVnmgBtrFpTVtEwd1m',\n",
       "    '_score': 11.788191,\n",
       "    '_source': {'Item': 'велосипеды / велосипеды / горные / cube / велосипед cube access ws pro black grey 2018 /~велосипед cube access ws pro black grey 2018',\n",
       "     'Attributes': 'Женский горный велосипед с оборудованием предпрофессионального класса Shimano, 27 скоростей.Алюминиевая рама Aluminium Lite, амортизационная вилка Suntour XCM RL Disc с ходом 100 мм, двойные алюминиевые обода CUBE ZX20, дисковые гидравлические тормоза Shimano BR-M315. Подходит для активной езды по различным дорогам и пересеченной местности.',\n",
       "     'Price': 52100}},\n",
       "   {'_index': 'offer_search',\n",
       "    '_type': 'offer',\n",
       "    '_id': 'YBqQnmgBtrFpTVtE6tZP',\n",
       "    '_score': 11.668395,\n",
       "    '_source': {'Item': 'велосипеды / велосипеды / горные / cube / велосипед cube access ws pro 27.5 mint raspberry 2018 /~велосипед cube access ws pro 27.5 mint raspberry 2018',\n",
       "     'Attributes': 'Женский горный велосипед с оборудованием предпрофессионального класса Shimano, 27 скоростей.Алюминиевая рама Aluminium Lite, амортизационная вилка Suntour XCM RL Disc с ходом 100 мм, двойные алюминиевые обода CUBE ZX20, дисковые гидравлические тормоза Shimano BR-M315. Подходит для активной езды по различным дорогам и пересеченной местности.',\n",
       "     'Price': 52100}},\n",
       "   {'_index': 'offer_search',\n",
       "    '_type': 'offer',\n",
       "    '_id': '_hqRnmgBtrFpTVtEIdk5',\n",
       "    '_score': 8.676878,\n",
       "    '_source': {'Item': 'велосипеды / велосипеды / горные / cube / велосипед cube access wls race 27.5 lindgreen/blue 2017 /~велосипед cube access wls race 27.5 lindgreen/blue 2017',\n",
       "     'Attributes': 'Горный велосипед Cube Access WLS Race 2017 отлично справится как со спортивным стилем езды по лесным тропам, так и со спокойным темпом по городским парковым аллеям и велодорожкам. Горный хардтейл для спортивных девушек.Легкая и прочная рама, изготовленная из алюминиевого сплава, имеет специальную женскую геометрию. Воздушная вилка SR Suntour XCR32 Air RL Disc оснащена функцией удаленной блокировки хода. Быстро и безопасно остановить велосипед помогут мощные гидравлические тормоза Shimano BR-M315. Навесное оборудование полупрофессионального уровня Shimano XT.',\n",
       "     'Price': 85715}}]}}"
      ]
     },
     "execution_count": 9,
     "metadata": {},
     "output_type": "execute_result"
    }
   ],
   "source": [
    "es.rank(\n",
    "    {\n",
    "        'Item': 'Велосипед',\n",
    "        'Attributes': 'женский горный',\n",
    "        'Price_from': 50000,\n",
    "        'Price_to': 100000,\n",
    "    }\n",
    ")"
   ]
  }
 ],
 "metadata": {
  "kernelspec": {
   "display_name": "Python 3",
   "language": "python",
   "name": "python3"
  },
  "language_info": {
   "codemirror_mode": {
    "name": "ipython",
    "version": 3
   },
   "file_extension": ".py",
   "mimetype": "text/x-python",
   "name": "python",
   "nbconvert_exporter": "python",
   "pygments_lexer": "ipython3",
   "version": "3.6.7"
  }
 },
 "nbformat": 4,
 "nbformat_minor": 2
}
