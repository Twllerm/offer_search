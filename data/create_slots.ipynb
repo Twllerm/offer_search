{
 "cells": [
  {
   "cell_type": "code",
   "execution_count": 12,
   "metadata": {},
   "outputs": [],
   "source": [
    "import pandas as pd"
   ]
  },
  {
   "cell_type": "code",
   "execution_count": 13,
   "metadata": {},
   "outputs": [
    {
     "data": {
      "text/html": [
       "<div>\n",
       "<style scoped>\n",
       "    .dataframe tbody tr th:only-of-type {\n",
       "        vertical-align: middle;\n",
       "    }\n",
       "\n",
       "    .dataframe tbody tr th {\n",
       "        vertical-align: top;\n",
       "    }\n",
       "\n",
       "    .dataframe thead th {\n",
       "        text-align: right;\n",
       "    }\n",
       "</style>\n",
       "<table border=\"1\" class=\"dataframe\">\n",
       "  <thead>\n",
       "    <tr style=\"text-align: right;\">\n",
       "      <th></th>\n",
       "      <th>Название</th>\n",
       "      <th>Описание</th>\n",
       "      <th>Цена</th>\n",
       "    </tr>\n",
       "  </thead>\n",
       "  <tbody>\n",
       "    <tr>\n",
       "      <th>0</th>\n",
       "      <td>Велосипеды / Велосипеды / Туринги / AUTHOR / В...</td>\n",
       "      <td>Хромолевый грэвел (gravel) Author RONIN 2019 г...</td>\n",
       "      <td>84000</td>\n",
       "    </tr>\n",
       "    <tr>\n",
       "      <th>1</th>\n",
       "      <td>Велосипеды / Велосипеды / Горные / BERGAMONT /...</td>\n",
       "      <td>Универсальный горный велосипед, который отличн...</td>\n",
       "      <td>43450</td>\n",
       "    </tr>\n",
       "    <tr>\n",
       "      <th>2</th>\n",
       "      <td>Велосипеды / Велосипеды / Горные / BERGAMONT /...</td>\n",
       "      <td>Универсальный горный велосипед, который отличн...</td>\n",
       "      <td>43450</td>\n",
       "    </tr>\n",
       "    <tr>\n",
       "      <th>3</th>\n",
       "      <td>Велосипеды / Велосипеды / Горные / BERGAMONT /...</td>\n",
       "      <td>В 2018 году компания Bergamont решила объедини...</td>\n",
       "      <td>43450</td>\n",
       "    </tr>\n",
       "    <tr>\n",
       "      <th>4</th>\n",
       "      <td>Велосипеды / Велосипеды / Горные / BERGAMONT /...</td>\n",
       "      <td>В 2018 году компания Bergamont решила объедини...</td>\n",
       "      <td>43450</td>\n",
       "    </tr>\n",
       "  </tbody>\n",
       "</table>\n",
       "</div>"
      ],
      "text/plain": [
       "                                            Название  \\\n",
       "0  Велосипеды / Велосипеды / Туринги / AUTHOR / В...   \n",
       "1  Велосипеды / Велосипеды / Горные / BERGAMONT /...   \n",
       "2  Велосипеды / Велосипеды / Горные / BERGAMONT /...   \n",
       "3  Велосипеды / Велосипеды / Горные / BERGAMONT /...   \n",
       "4  Велосипеды / Велосипеды / Горные / BERGAMONT /...   \n",
       "\n",
       "                                            Описание   Цена  \n",
       "0  Хромолевый грэвел (gravel) Author RONIN 2019 г...  84000  \n",
       "1  Универсальный горный велосипед, который отличн...  43450  \n",
       "2  Универсальный горный велосипед, который отличн...  43450  \n",
       "3  В 2018 году компания Bergamont решила объедини...  43450  \n",
       "4  В 2018 году компания Bergamont решила объедини...  43450  "
      ]
     },
     "execution_count": 13,
     "metadata": {},
     "output_type": "execute_result"
    }
   ],
   "source": [
    "data = pd.read_excel('./sport/double-sports/data.xls')\n",
    "data.head()"
   ]
  },
  {
   "cell_type": "code",
   "execution_count": 14,
   "metadata": {
    "scrolled": true
   },
   "outputs": [
    {
     "data": {
      "text/plain": [
       "{'686',\n",
       " 'airblaster',\n",
       " 'amplifi',\n",
       " 'anon',\n",
       " 'anteater',\n",
       " 'arbor',\n",
       " 'bern',\n",
       " 'bmx',\n",
       " 'bonus gloves',\n",
       " 'buff',\n",
       " 'burton',\n",
       " 'clwr',\n",
       " 'cool zone',\n",
       " 'dc',\n",
       " 'dragon',\n",
       " 'flow',\n",
       " 'gnu',\n",
       " 'head',\n",
       " 'howl',\n",
       " 'joint',\n",
       " 'jones',\n",
       " 'lib tech',\n",
       " 'lidakis',\n",
       " 'lopoma',\n",
       " 'losraketos',\n",
       " 'merge4',\n",
       " 'nandn',\n",
       " 'oakley',\n",
       " 'only',\n",
       " 'prime',\n",
       " 'prosurf',\n",
       " 'quiksilver',\n",
       " 'red',\n",
       " 'romp',\n",
       " 'roxy',\n",
       " 'sims',\n",
       " 'spy+',\n",
       " 'terror',\n",
       " 'thirtytwo',\n",
       " 'today',\n",
       " 'true spin',\n",
       " 'union',\n",
       " 'viking',\n",
       " 'vonzipper',\n",
       " 'балаклавы и бафы',\n",
       " 'банданы',\n",
       " 'ботинки',\n",
       " 'велосипеды',\n",
       " 'горные',\n",
       " 'городские',\n",
       " 'двухподвесы',\n",
       " 'детские',\n",
       " 'жилетки',\n",
       " 'защита',\n",
       " 'комбинезоны',\n",
       " 'крепления',\n",
       " 'крепления и сноуборд trs',\n",
       " 'куртки городские',\n",
       " 'куртки сноубордические',\n",
       " 'маски',\n",
       " 'носки',\n",
       " 'одежда',\n",
       " 'перчатки и варежки',\n",
       " 'рюкзаки',\n",
       " 'сноубординг',\n",
       " 'сноуборды',\n",
       " 'стрит',\n",
       " 'термобелье',\n",
       " 'толстовки',\n",
       " 'туринги',\n",
       " 'футболки',\n",
       " 'фэтбайки',\n",
       " 'циклокросс',\n",
       " 'чехлы',\n",
       " 'шапки',\n",
       " 'шлемы',\n",
       " 'шоссейные',\n",
       " 'штаны сноубордические'}"
      ]
     },
     "execution_count": 14,
     "metadata": {},
     "output_type": "execute_result"
    }
   ],
   "source": [
    "slots = set()\n",
    "def process(text, ind=0):\n",
    "    x = text\n",
    "    \n",
    "    x = x.strip().lower().split('~')[0]\n",
    "    x = x.split('/')[:3]\n",
    "    x = [x_.strip() for x_ in x if len(x_.strip()) > 0]\n",
    "    slots.update(x)\n",
    "    \n",
    "    return text\n",
    "\n",
    "data['Название'].apply(process)\n",
    "slots"
   ]
  },
  {
   "cell_type": "code",
   "execution_count": 15,
   "metadata": {},
   "outputs": [
    {
     "data": {
      "text/plain": [
       "78"
      ]
     },
     "execution_count": 15,
     "metadata": {},
     "output_type": "execute_result"
    }
   ],
   "source": [
    "len(slots)"
   ]
  },
  {
   "cell_type": "code",
   "execution_count": 22,
   "metadata": {},
   "outputs": [
    {
     "data": {
      "text/html": [
       "<div>\n",
       "<style scoped>\n",
       "    .dataframe tbody tr th:only-of-type {\n",
       "        vertical-align: middle;\n",
       "    }\n",
       "\n",
       "    .dataframe tbody tr th {\n",
       "        vertical-align: top;\n",
       "    }\n",
       "\n",
       "    .dataframe thead th {\n",
       "        text-align: right;\n",
       "    }\n",
       "</style>\n",
       "<table border=\"1\" class=\"dataframe\">\n",
       "  <thead>\n",
       "    <tr style=\"text-align: right;\">\n",
       "      <th></th>\n",
       "      <th>Наименование</th>\n",
       "      <th>Описание</th>\n",
       "      <th>Цена</th>\n",
       "    </tr>\n",
       "  </thead>\n",
       "  <tbody>\n",
       "    <tr>\n",
       "      <th>0</th>\n",
       "      <td>Наборы спортивного питания~Комбо-набор Mad God...</td>\n",
       "      <td>MAD DRUGS GOD OF WHEY.Размер порции: 2 мерные ...</td>\n",
       "      <td>2200 руб</td>\n",
       "    </tr>\n",
       "    <tr>\n",
       "      <th>1</th>\n",
       "      <td>Наборы спортивного питания~Комбо-набор 2 Ligan...</td>\n",
       "      <td>Спортивное питание FrogTechLigandrol (Лигандро...</td>\n",
       "      <td>2890 руб</td>\n",
       "    </tr>\n",
       "    <tr>\n",
       "      <th>2</th>\n",
       "      <td>Наборы спортивного питания~Комбо-набор Ligandr...</td>\n",
       "      <td>Спортивное питание FrogTechIbutamoren (Ибутамо...</td>\n",
       "      <td>3990 руб</td>\n",
       "    </tr>\n",
       "    <tr>\n",
       "      <th>3</th>\n",
       "      <td>Наборы спортивного питания~Комбо-набор 2 Ligan...</td>\n",
       "      <td>Спортивное питание FrogTechLigandrol (Лигандро...</td>\n",
       "      <td>4990 руб</td>\n",
       "    </tr>\n",
       "    <tr>\n",
       "      <th>4</th>\n",
       "      <td>Наборы спортивного питания~Комбо-набор Ligandr...</td>\n",
       "      <td>Спортивное питание FrogTechIbutamoren (Ибутамо...</td>\n",
       "      <td>4990 руб</td>\n",
       "    </tr>\n",
       "  </tbody>\n",
       "</table>\n",
       "</div>"
      ],
      "text/plain": [
       "                                        Наименование  \\\n",
       "0  Наборы спортивного питания~Комбо-набор Mad God...   \n",
       "1  Наборы спортивного питания~Комбо-набор 2 Ligan...   \n",
       "2  Наборы спортивного питания~Комбо-набор Ligandr...   \n",
       "3  Наборы спортивного питания~Комбо-набор 2 Ligan...   \n",
       "4  Наборы спортивного питания~Комбо-набор Ligandr...   \n",
       "\n",
       "                                            Описание      Цена  \n",
       "0  MAD DRUGS GOD OF WHEY.Размер порции: 2 мерные ...  2200 руб  \n",
       "1  Спортивное питание FrogTechLigandrol (Лигандро...  2890 руб  \n",
       "2  Спортивное питание FrogTechIbutamoren (Ибутамо...  3990 руб  \n",
       "3  Спортивное питание FrogTechLigandrol (Лигандро...  4990 руб  \n",
       "4  Спортивное питание FrogTechIbutamoren (Ибутамо...  4990 руб  "
      ]
     },
     "execution_count": 22,
     "metadata": {},
     "output_type": "execute_result"
    }
   ],
   "source": [
    "data = pd.read_excel('./sport/gold-standart.com/data.xls')\n",
    "data.head()"
   ]
  },
  {
   "cell_type": "code",
   "execution_count": 23,
   "metadata": {},
   "outputs": [],
   "source": [
    "# data = pd.read_excel('./sport/pro-bike/data.xls')\n",
    "# data.head()"
   ]
  },
  {
   "cell_type": "code",
   "execution_count": 24,
   "metadata": {},
   "outputs": [],
   "source": [
    "# data = pd.read_excel('./sport/tramontana.ru/data.xls')\n",
    "# data.head()"
   ]
  },
  {
   "cell_type": "code",
   "execution_count": 25,
   "metadata": {},
   "outputs": [
    {
     "data": {
      "text/plain": [
       "{'аксессуары',\n",
       " 'активное долголетие',\n",
       " 'аминокислоты',\n",
       " 'бустеры гормона роста',\n",
       " 'витамины и минералы',\n",
       " 'гейнеры (белки+углеводы)',\n",
       " 'готовые напитки',\n",
       " 'диетическое питание',\n",
       " 'для питомцев',\n",
       " 'жиросжигатели',\n",
       " 'креатин',\n",
       " 'наборы спортивного питания',\n",
       " 'нитробустеры',\n",
       " 'ночные восстановители',\n",
       " 'одежда женская',\n",
       " 'одежда мужская',\n",
       " 'посттренировочные комплексы и восстановители',\n",
       " 'предтренировочные комплексы',\n",
       " 'протеины',\n",
       " 'специальные препараты',\n",
       " 'спортивный перекус',\n",
       " 'тестобустеры',\n",
       " 'углеводы',\n",
       " 'хондропротекторы (глюкозамин, хондроитин)',\n",
       " 'энергетики'}"
      ]
     },
     "execution_count": 25,
     "metadata": {},
     "output_type": "execute_result"
    }
   ],
   "source": [
    "slots = set()\n",
    "def process(text, ind=0):\n",
    "    slots.update(text.strip().lower().split('~')[:1])\n",
    "    \n",
    "    return text\n",
    "\n",
    "data['Наименование'].apply(process)\n",
    "# slots.extend(list(data['Название'].apply(lambda x: process(x, ind=1)).unique()))\n",
    "slots"
   ]
  },
  {
   "cell_type": "code",
   "execution_count": 26,
   "metadata": {},
   "outputs": [
    {
     "data": {
      "text/plain": [
       "25"
      ]
     },
     "execution_count": 26,
     "metadata": {},
     "output_type": "execute_result"
    }
   ],
   "source": [
    "len(slots)"
   ]
  }
 ],
 "metadata": {
  "kernelspec": {
   "display_name": "Python 3",
   "language": "python",
   "name": "python3"
  },
  "language_info": {
   "codemirror_mode": {
    "name": "ipython",
    "version": 3
   },
   "file_extension": ".py",
   "mimetype": "text/x-python",
   "name": "python",
   "nbconvert_exporter": "python",
   "pygments_lexer": "ipython3",
   "version": "3.6.7"
  }
 },
 "nbformat": 4,
 "nbformat_minor": 2
}
